{
 "cells": [
  {
   "cell_type": "markdown",
   "id": "d89fdd4f",
   "metadata": {},
   "source": [
    "# Линейные модели, SVM и деревья решений"
   ]
  },
  {
   "cell_type": "markdown",
   "id": "2b2e1bc8",
   "metadata": {},
   "source": [
    "Цель лабораторной работы: изучение линейных моделей, SVM и деревьев решений."
   ]
  },
  {
   "cell_type": "markdown",
   "id": "f10a4eb8",
   "metadata": {},
   "source": [
    "## Задание"
   ]
  },
  {
   "cell_type": "markdown",
   "id": "4ae047a2",
   "metadata": {},
   "source": [
    "1. Выберите набор данных (датасет) для решения задачи классификации или регрессии.\n",
    "2. В случае необходимости проведите удаление или заполнение пропусков и кодирование категориальных признаков.\n",
    "3. С использованием метода train_test_split разделите выборку на обучающую и тестовую.\n",
    "4. Обучите следующие модели:\n",
    "    1. одну из линейных моделей (линейную или полиномиальную регрессию при решении задачи регрессии, логистическую регрессию при решении задачи классификации);\n",
    "    2. SVM;\n",
    "    3. дерево решений.\n",
    "5. Оцените качество моделей с помощью двух подходящих для задачи метрик. Сравните качество полученных моделей.\n",
    "6. Постройте график, показывающий важность признаков в дереве решений.\n",
    "7. Визуализируйте дерево решений или выведите правила дерева решений в текстовом виде."
   ]
  },
  {
   "cell_type": "markdown",
   "id": "3b1deaf1",
   "metadata": {},
   "source": [
    "## Ход работы"
   ]
  },
  {
   "cell_type": "markdown",
   "id": "70939657",
   "metadata": {},
   "source": [
    "### Выбор и загрузка датасета"
   ]
  },
  {
   "cell_type": "code",
   "execution_count": 1,
   "id": "20ca1c51",
   "metadata": {},
   "outputs": [],
   "source": [
    "# %matplotlib inline\n",
    "# sns.set(style=\"ticks\")\n",
    "\n",
    "import pandas as pd\n",
    "import numpy as np\n",
    "import seaborn as sns\n",
    "import matplotlib.pyplot as plt\n",
    "from sklearn.datasets import *\n",
    "from sklearn.preprocessing import MinMaxScaler\n",
    "from sklearn.model_selection import train_test_split\n",
    "from sklearn.linear_model import LogisticRegression\n",
    "from sklearn import svm, tree\n",
    "from sklearn.tree import DecisionTreeClassifier\n",
    "from sklearn.metrics import accuracy_score\n",
    "from sklearn.metrics import confusion_matrix, ConfusionMatrixDisplay\n",
    "from operator import itemgetter\n",
    "\n",
    "def make_dataframe(ds_function):\n",
    "    ds = ds_function()\n",
    "    df = pd.DataFrame(data= np.c_[ds['data'], ds['target']],\n",
    "                     columns= list(ds['feature_names']) + ['target'])\n",
    "    return df\n",
    "\n",
    "wine = load_wine()\n",
    "\n",
    "df = make_dataframe(load_wine)"
   ]
  },
  {
   "cell_type": "code",
   "execution_count": 2,
   "id": "16e42012",
   "metadata": {},
   "outputs": [
    {
     "data": {
      "text/html": [
       "<div>\n",
       "<style scoped>\n",
       "    .dataframe tbody tr th:only-of-type {\n",
       "        vertical-align: middle;\n",
       "    }\n",
       "\n",
       "    .dataframe tbody tr th {\n",
       "        vertical-align: top;\n",
       "    }\n",
       "\n",
       "    .dataframe thead th {\n",
       "        text-align: right;\n",
       "    }\n",
       "</style>\n",
       "<table border=\"1\" class=\"dataframe\">\n",
       "  <thead>\n",
       "    <tr style=\"text-align: right;\">\n",
       "      <th></th>\n",
       "      <th>alcohol</th>\n",
       "      <th>malic_acid</th>\n",
       "      <th>ash</th>\n",
       "      <th>alcalinity_of_ash</th>\n",
       "      <th>magnesium</th>\n",
       "      <th>total_phenols</th>\n",
       "      <th>flavanoids</th>\n",
       "      <th>nonflavanoid_phenols</th>\n",
       "      <th>proanthocyanins</th>\n",
       "      <th>color_intensity</th>\n",
       "      <th>hue</th>\n",
       "      <th>od280/od315_of_diluted_wines</th>\n",
       "      <th>proline</th>\n",
       "      <th>target</th>\n",
       "    </tr>\n",
       "  </thead>\n",
       "  <tbody>\n",
       "    <tr>\n",
       "      <th>0</th>\n",
       "      <td>14.23</td>\n",
       "      <td>1.71</td>\n",
       "      <td>2.43</td>\n",
       "      <td>15.6</td>\n",
       "      <td>127.0</td>\n",
       "      <td>2.80</td>\n",
       "      <td>3.06</td>\n",
       "      <td>0.28</td>\n",
       "      <td>2.29</td>\n",
       "      <td>5.64</td>\n",
       "      <td>1.04</td>\n",
       "      <td>3.92</td>\n",
       "      <td>1065.0</td>\n",
       "      <td>0.0</td>\n",
       "    </tr>\n",
       "    <tr>\n",
       "      <th>1</th>\n",
       "      <td>13.20</td>\n",
       "      <td>1.78</td>\n",
       "      <td>2.14</td>\n",
       "      <td>11.2</td>\n",
       "      <td>100.0</td>\n",
       "      <td>2.65</td>\n",
       "      <td>2.76</td>\n",
       "      <td>0.26</td>\n",
       "      <td>1.28</td>\n",
       "      <td>4.38</td>\n",
       "      <td>1.05</td>\n",
       "      <td>3.40</td>\n",
       "      <td>1050.0</td>\n",
       "      <td>0.0</td>\n",
       "    </tr>\n",
       "    <tr>\n",
       "      <th>2</th>\n",
       "      <td>13.16</td>\n",
       "      <td>2.36</td>\n",
       "      <td>2.67</td>\n",
       "      <td>18.6</td>\n",
       "      <td>101.0</td>\n",
       "      <td>2.80</td>\n",
       "      <td>3.24</td>\n",
       "      <td>0.30</td>\n",
       "      <td>2.81</td>\n",
       "      <td>5.68</td>\n",
       "      <td>1.03</td>\n",
       "      <td>3.17</td>\n",
       "      <td>1185.0</td>\n",
       "      <td>0.0</td>\n",
       "    </tr>\n",
       "    <tr>\n",
       "      <th>3</th>\n",
       "      <td>14.37</td>\n",
       "      <td>1.95</td>\n",
       "      <td>2.50</td>\n",
       "      <td>16.8</td>\n",
       "      <td>113.0</td>\n",
       "      <td>3.85</td>\n",
       "      <td>3.49</td>\n",
       "      <td>0.24</td>\n",
       "      <td>2.18</td>\n",
       "      <td>7.80</td>\n",
       "      <td>0.86</td>\n",
       "      <td>3.45</td>\n",
       "      <td>1480.0</td>\n",
       "      <td>0.0</td>\n",
       "    </tr>\n",
       "    <tr>\n",
       "      <th>4</th>\n",
       "      <td>13.24</td>\n",
       "      <td>2.59</td>\n",
       "      <td>2.87</td>\n",
       "      <td>21.0</td>\n",
       "      <td>118.0</td>\n",
       "      <td>2.80</td>\n",
       "      <td>2.69</td>\n",
       "      <td>0.39</td>\n",
       "      <td>1.82</td>\n",
       "      <td>4.32</td>\n",
       "      <td>1.04</td>\n",
       "      <td>2.93</td>\n",
       "      <td>735.0</td>\n",
       "      <td>0.0</td>\n",
       "    </tr>\n",
       "  </tbody>\n",
       "</table>\n",
       "</div>"
      ],
      "text/plain": [
       "   alcohol  malic_acid   ash  alcalinity_of_ash  magnesium  total_phenols   \n",
       "0    14.23        1.71  2.43               15.6      127.0           2.80  \\\n",
       "1    13.20        1.78  2.14               11.2      100.0           2.65   \n",
       "2    13.16        2.36  2.67               18.6      101.0           2.80   \n",
       "3    14.37        1.95  2.50               16.8      113.0           3.85   \n",
       "4    13.24        2.59  2.87               21.0      118.0           2.80   \n",
       "\n",
       "   flavanoids  nonflavanoid_phenols  proanthocyanins  color_intensity   hue   \n",
       "0        3.06                  0.28             2.29             5.64  1.04  \\\n",
       "1        2.76                  0.26             1.28             4.38  1.05   \n",
       "2        3.24                  0.30             2.81             5.68  1.03   \n",
       "3        3.49                  0.24             2.18             7.80  0.86   \n",
       "4        2.69                  0.39             1.82             4.32  1.04   \n",
       "\n",
       "   od280/od315_of_diluted_wines  proline  target  \n",
       "0                          3.92   1065.0     0.0  \n",
       "1                          3.40   1050.0     0.0  \n",
       "2                          3.17   1185.0     0.0  \n",
       "3                          3.45   1480.0     0.0  \n",
       "4                          2.93    735.0     0.0  "
      ]
     },
     "execution_count": 2,
     "metadata": {},
     "output_type": "execute_result"
    }
   ],
   "source": [
    "# Первые 5 строк датасета\n",
    "df.head()"
   ]
  },
  {
   "cell_type": "code",
   "execution_count": 3,
   "id": "bc2f1142",
   "metadata": {},
   "outputs": [
    {
     "data": {
      "text/plain": [
       "alcohol                         float64\n",
       "malic_acid                      float64\n",
       "ash                             float64\n",
       "alcalinity_of_ash               float64\n",
       "magnesium                       float64\n",
       "total_phenols                   float64\n",
       "flavanoids                      float64\n",
       "nonflavanoid_phenols            float64\n",
       "proanthocyanins                 float64\n",
       "color_intensity                 float64\n",
       "hue                             float64\n",
       "od280/od315_of_diluted_wines    float64\n",
       "proline                         float64\n",
       "target                          float64\n",
       "dtype: object"
      ]
     },
     "execution_count": 3,
     "metadata": {},
     "output_type": "execute_result"
    }
   ],
   "source": [
    "df.dtypes"
   ]
  },
  {
   "cell_type": "code",
   "execution_count": 4,
   "id": "3a2ff56d",
   "metadata": {
    "scrolled": true
   },
   "outputs": [
    {
     "name": "stdout",
     "output_type": "stream",
     "text": [
      "alcohol - 0\n",
      "malic_acid - 0\n",
      "ash - 0\n",
      "alcalinity_of_ash - 0\n",
      "magnesium - 0\n",
      "total_phenols - 0\n",
      "flavanoids - 0\n",
      "nonflavanoid_phenols - 0\n",
      "proanthocyanins - 0\n",
      "color_intensity - 0\n",
      "hue - 0\n",
      "od280/od315_of_diluted_wines - 0\n",
      "proline - 0\n",
      "target - 0\n"
     ]
    }
   ],
   "source": [
    "# Проверим наличие пустых значений\n",
    "# Цикл по колонкам датасета\n",
    "for col in df.columns:\n",
    "    # Количество пустых значений - все значения заполнены\n",
    "    temp_null_count = df[df[col].isnull()].shape[0]\n",
    "    print('{} - {}'.format(col, temp_null_count))"
   ]
  },
  {
   "cell_type": "markdown",
   "id": "0a40be27",
   "metadata": {},
   "source": [
    "### Разделение на тестовую и обучающую выборки"
   ]
  },
  {
   "cell_type": "code",
   "execution_count": 5,
   "id": "c416e277",
   "metadata": {
    "scrolled": false
   },
   "outputs": [
    {
     "name": "stdout",
     "output_type": "stream",
     "text": [
      "Обучающая выборка:\n",
      "(array([[0.58157895, 0.64031621, 0.4973262 , ..., 0.27642276, 0.63369963,\n",
      "        0.28673324],\n",
      "       [0.80789474, 0.28063241, 0.5026738 , ..., 0.62601626, 0.6959707 ,\n",
      "        0.87874465],\n",
      "       [0.15263158, 0.12055336, 0.71657754, ..., 0.3902439 , 0.72893773,\n",
      "        0.28673324],\n",
      "       ...,\n",
      "       [0.36578947, 0.17193676, 0.44385027, ..., 0.47154472, 0.61904762,\n",
      "        0.04778887],\n",
      "       [0.75526316, 0.18577075, 0.40641711, ..., 0.3495935 , 0.75457875,\n",
      "        0.5042796 ],\n",
      "       [0.82368421, 0.34980237, 0.59893048, ..., 0.11382114, 0.16117216,\n",
      "        0.2724679 ]]), 43     0.0\n",
      "10     0.0\n",
      "109    1.0\n",
      "73     1.0\n",
      "171    2.0\n",
      "      ... \n",
      "103    1.0\n",
      "67     1.0\n",
      "117    1.0\n",
      "47     0.0\n",
      "172    2.0\n",
      "Name: target, Length: 106, dtype: float64)\n",
      "Тестовая выборка:\n",
      "(array([[0.71315789, 0.18379447, 0.47593583, 0.29896907, 0.52173913,\n",
      "        0.55862069, 0.54008439, 0.1509434 , 0.38170347, 0.38993174,\n",
      "        0.35772358, 0.70695971, 0.55777461],\n",
      "       [0.46315789, 0.38142292, 0.59893048, 0.58762887, 0.45652174,\n",
      "        0.17241379, 0.21518987, 0.20754717, 0.2681388 , 0.81228669,\n",
      "        0.        , 0.07326007, 0.14407989],\n",
      "       [0.35263158, 0.0770751 , 0.42780749, 0.43298969, 0.18478261,\n",
      "        0.86896552, 0.58227848, 0.11320755, 0.46056782, 0.27047782,\n",
      "        0.60162602, 0.58608059, 0.10128388],\n",
      "       [0.66578947, 0.19565217, 0.58823529, 0.51030928, 0.5       ,\n",
      "        0.68275862, 0.51476793, 0.13207547, 0.64353312, 0.42406143,\n",
      "        0.40650407, 0.64468864, 0.60057061],\n",
      "       [0.53157895, 1.        , 0.41176471, 0.56185567, 0.17391304,\n",
      "        0.56551724, 0.48734177, 0.32075472, 0.50473186, 0.11262799,\n",
      "        0.20325203, 0.67032967, 0.07275321],\n",
      "       [0.13947368, 0.25889328, 1.        , 0.92268041, 0.5326087 ,\n",
      "        0.75862069, 1.        , 0.64150943, 0.46056782, 0.40273038,\n",
      "        0.36585366, 0.88644689, 0.13338088],\n",
      "       [0.79736842, 0.27865613, 0.6684492 , 0.36082474, 0.55434783,\n",
      "        0.55862069, 0.45780591, 0.33962264, 0.26498423, 0.32167235,\n",
      "        0.47154472, 0.84615385, 0.7253923 ],\n",
      "       [0.35      , 0.61067194, 0.54545455, 0.53608247, 0.19565217,\n",
      "        0.45517241, 0.12236287, 0.69811321, 0.19873817, 0.54351536,\n",
      "        0.06504065, 0.11355311, 0.17261056],\n",
      "       [0.32105263, 0.19565217, 0.40641711, 0.43298969, 0.10869565,\n",
      "        0.23103448, 0.35654008, 0.45283019, 0.38485804, 0.18088737,\n",
      "        0.42276423, 0.6959707 , 0.16547789],\n",
      "       [0.27631579, 0.21541502, 0.51336898, 0.40721649, 0.11956522,\n",
      "        0.2137931 , 0.24472574, 0.73584906, 0.38801262, 0.09556314,\n",
      "        0.48780488, 0.36630037, 0.14407989],\n",
      "       [0.61315789, 0.35968379, 0.52941176, 0.48453608, 0.20652174,\n",
      "        0.14482759, 0.03375527, 0.45283019, 0.07255521, 0.36860068,\n",
      "        0.17886179, 0.43956044, 0.35805991],\n",
      "       [0.75      , 0.84980237, 0.46524064, 0.48453608, 0.10869565,\n",
      "        0.        , 0.        , 0.50943396, 0.0851735 , 0.30887372,\n",
      "        0.08130081, 0.02197802, 0.09771755],\n",
      "       [0.83421053, 0.20158103, 0.5828877 , 0.2371134 , 0.45652174,\n",
      "        0.78965517, 0.64345992, 0.39622642, 0.49211356, 0.46672355,\n",
      "        0.46341463, 0.57875458, 0.83594864],\n",
      "       [0.35263158, 0.06521739, 0.39572193, 0.40721649, 0.19565217,\n",
      "        0.87586207, 0.71940928, 0.20754717, 0.48580442, 0.27474403,\n",
      "        0.45528455, 0.54945055, 0.2724679 ],\n",
      "       [0.67105263, 0.36363636, 0.71122995, 0.71649485, 0.38043478,\n",
      "        0.19655172, 0.10548523, 0.49056604, 0.35646688, 0.62969283,\n",
      "        0.21138211, 0.19413919, 0.33666191],\n",
      "       [0.25526316, 0.03557312, 0.34224599, 0.43298969, 0.17391304,\n",
      "        0.49655172, 0.40506329, 0.32075472, 0.32176656, 0.10409556,\n",
      "        0.73170732, 0.67765568, 0.        ],\n",
      "       [0.71842105, 0.15612648, 0.71657754, 0.45876289, 0.67391304,\n",
      "        0.67931034, 0.50632911, 0.69811321, 0.29652997, 0.35153584,\n",
      "        0.62601626, 0.63369963, 0.68259629],\n",
      "       [0.83157895, 0.16798419, 0.59893048, 0.30412371, 0.41304348,\n",
      "        0.8       , 0.75738397, 0.35849057, 0.45741325, 0.6331058 ,\n",
      "        0.6097561 , 0.56776557, 1.        ],\n",
      "       [0.42368421, 0.12252964, 0.35294118, 0.31958763, 0.32608696,\n",
      "        0.35862069, 0.2257384 , 0.75471698, 0.06624606, 0.38139932,\n",
      "        0.40650407, 0.11721612, 0.12268188],\n",
      "       [0.73684211, 0.1798419 , 0.6631016 , 0.34020619, 0.26086957,\n",
      "        0.50689655, 0.55907173, 0.16981132, 0.59305994, 0.36860068,\n",
      "        0.61788618, 0.76923077, 0.70399429],\n",
      "       [0.54736842, 0.05335968, 0.18181818, 0.22680412, 0.08695652,\n",
      "        0.68965517, 0.59915612, 0.24528302, 0.58990536, 0.34300341,\n",
      "        0.5203252 , 0.6996337 , 0.15977175],\n",
      "       [0.53157895, 0.1798419 , 0.63636364, 0.3814433 , 0.30434783,\n",
      "        0.50689655, 0.44092827, 0.30188679, 0.32492114, 0.25341297,\n",
      "        0.5203252 , 0.45421245, 0.58987161],\n",
      "       [0.58157895, 0.36561265, 0.80748663, 0.53608247, 0.52173913,\n",
      "        0.62758621, 0.49578059, 0.49056604, 0.44479495, 0.25938567,\n",
      "        0.45528455, 0.60805861, 0.32596291],\n",
      "       [0.38947368, 0.19565217, 0.3315508 , 0.51030928, 0.16304348,\n",
      "        0.42068966, 0.33333333, 0.35849057, 0.33753943, 0.14163823,\n",
      "        0.45528455, 0.84249084, 0.2810271 ],\n",
      "       [0.34210526, 0.07114625, 0.49197861, 0.27835052, 0.33695652,\n",
      "        0.36896552, 0.15822785, 0.94339623, 0.        , 0.16979522,\n",
      "        0.62601626, 0.14652015, 0.28673324],\n",
      "       [0.39210526, 0.33399209, 0.43315508, 0.53608247, 0.19565217,\n",
      "        0.54137931, 0.407173  , 0.24528302, 0.2555205 , 0.06143345,\n",
      "        0.34146341, 0.55311355, 0.03352354],\n",
      "       [0.36842105, 0.15612648, 0.4973262 , 0.56185567, 0.17391304,\n",
      "        0.60689655, 0.592827  , 0.49056604, 0.42902208, 0.22696246,\n",
      "        0.17073171, 0.57509158, 0.05278174],\n",
      "       [0.29736842, 0.17193676, 0.50802139, 0.62886598, 0.2173913 ,\n",
      "        0.27586207, 0.28481013, 0.56603774, 0.36277603, 0.09982935,\n",
      "        0.69105691, 0.36263736, 0.15477889],\n",
      "       [0.19210526, 0.38339921, 0.8342246 , 0.48453608, 0.35869565,\n",
      "        0.26551724, 0.35654008, 0.88679245, 0.20189274, 0.21501706,\n",
      "        0.6097561 , 0.45054945, 0.23466476],\n",
      "       [0.72368421, 0.39920949, 0.5026738 , 0.58762887, 0.2173913 ,\n",
      "        0.12758621, 0.07172996, 0.52830189, 0.1955836 , 0.70819113,\n",
      "        0.17886179, 0.15018315, 0.2403709 ],\n",
      "       [0.62105263, 0.20355731, 0.67379679, 0.28350515, 0.25      ,\n",
      "        0.64482759, 0.54852321, 0.39622642, 0.32807571, 0.3003413 ,\n",
      "        0.35772358, 0.71428571, 0.65406562],\n",
      "       [0.83947368, 0.18972332, 0.5026738 , 0.29381443, 0.52173913,\n",
      "        0.76551724, 0.56118143, 0.24528302, 0.51104101, 0.43515358,\n",
      "        0.37398374, 0.74725275, 0.4935806 ],\n",
      "       [0.26578947, 0.70355731, 0.54545455, 0.58762887, 0.10869565,\n",
      "        0.3862069 , 0.29746835, 0.54716981, 0.29652997, 0.11262799,\n",
      "        0.25203252, 0.47619048, 0.21540656],\n",
      "       [0.83684211, 0.65217391, 0.57754011, 0.42783505, 0.44565217,\n",
      "        0.64482759, 0.48734177, 0.32075472, 0.26498423, 0.33788396,\n",
      "        0.31707317, 0.75457875, 0.57203994],\n",
      "       [1.        , 0.17786561, 0.43315508, 0.17525773, 0.29347826,\n",
      "        0.62758621, 0.55696203, 0.30188679, 0.49526814, 0.33447099,\n",
      "        0.48780488, 0.57875458, 0.54707561],\n",
      "       [0.53157895, 0.20355731, 0.39572193, 0.32989691, 0.40217391,\n",
      "        0.69655172, 0.56118143, 0.28301887, 0.51104101, 0.32081911,\n",
      "        0.32520325, 0.76190476, 0.43295292],\n",
      "       [0.7       , 0.49802372, 0.63101604, 0.48453608, 0.40217391,\n",
      "        0.29310345, 0.0464135 , 0.69811321, 0.12302839, 0.39249147,\n",
      "        0.3902439 , 0.2014652 , 0.28673324],\n",
      "       [0.43684211, 0.15612648, 0.48128342, 0.52061856, 0.10869565,\n",
      "        0.13793103, 0.23628692, 0.8490566 , 0.38170347, 0.15102389,\n",
      "        0.3902439 , 0.28937729, 0.15477889],\n",
      "       [0.15526316, 0.24703557, 0.49197861, 0.3814433 , 0.30434783,\n",
      "        0.70344828, 0.40506329, 0.0754717 , 0.29652997, 0.16808874,\n",
      "        0.55284553, 0.61904762, 0.04778887],\n",
      "       [0.62368421, 0.62648221, 0.59893048, 0.63917526, 0.34782609,\n",
      "        0.28275862, 0.08649789, 0.56603774, 0.31545741, 0.51365188,\n",
      "        0.17886179, 0.10622711, 0.33666191],\n",
      "       [0.65      , 0.21146245, 0.6684492 , 0.48453608, 0.2826087 ,\n",
      "        0.53448276, 0.47890295, 0.28301887, 0.39432177, 0.19112628,\n",
      "        0.5203252 , 0.93406593, 0.40442225],\n",
      "       [0.71052632, 0.15019763, 0.71657754, 0.61340206, 0.33695652,\n",
      "        0.69655172, 0.61392405, 0.30188679, 0.6214511 , 0.37713311,\n",
      "        0.57723577, 0.52747253, 0.71825963],\n",
      "       [0.33157895, 0.41304348, 0.45989305, 0.3814433 , 0.19565217,\n",
      "        0.50689655, 0.40295359, 0.22641509, 0.49842271, 0.07423208,\n",
      "        0.54471545, 0.74358974, 0.0085592 ],\n",
      "       [0.41315789, 0.11857708, 0.28877005, 0.40721649, 0.19565217,\n",
      "        0.16206897, 0.21518987, 0.30188679, 0.29652997, 0.09982935,\n",
      "        0.45528455, 0.54945055, 0.20256776],\n",
      "       [0.1       , 0.        , 0.60962567, 0.53608247, 0.19565217,\n",
      "        0.51724138, 0.35232068, 0.54716981, 0.32492114, 0.15358362,\n",
      "        0.50406504, 0.38095238, 0.11126961],\n",
      "       [0.68684211, 0.46640316, 0.64171123, 0.2371134 , 0.5       ,\n",
      "        0.59310345, 0.56751055, 0.0754717 , 0.39432177, 0.32593857,\n",
      "        0.3902439 , 0.76556777, 0.40442225],\n",
      "       [0.41315789, 0.33992095, 0.44919786, 0.40721649, 0.26086957,\n",
      "        0.22068966, 0.06751055, 0.94339623, 0.16719243, 0.49658703,\n",
      "        0.20325203, 0.11355311, 0.29743224],\n",
      "       [0.24473684, 0.06916996, 0.5026738 , 0.53608247, 0.33695652,\n",
      "        0.82758621, 0.37974684, 0.        , 0.39116719, 0.16467577,\n",
      "        0.41463415, 0.68131868, 0.43366619],\n",
      "       [0.32105263, 0.62055336, 0.44919786, 0.40721649, 0.45652174,\n",
      "        0.13793103, 0.092827  , 0.30188679, 0.23028391, 0.59129693,\n",
      "        0.13821138, 0.26739927, 0.41155492],\n",
      "       [0.86052632, 0.23320158, 0.72727273, 0.48453608, 0.54347826,\n",
      "        0.62758621, 0.5907173 , 0.37735849, 0.49211356, 0.41979522,\n",
      "        0.4796748 , 0.50549451, 0.7146933 ],\n",
      "       [0.48684211, 0.44466403, 0.55614973, 0.48453608, 0.36956522,\n",
      "        0.11034483, 0.18565401, 0.20754717, 0.13249211, 0.35153584,\n",
      "        0.21138211, 0.05494505, 0.17974322],\n",
      "       [0.64736842, 0.56324111, 0.44385027, 0.45876289, 0.19565217,\n",
      "        0.22068966, 0.02953586, 0.8490566 , 0.14826498, 0.37713311,\n",
      "        0.26829268, 0.2014652 , 0.21540656],\n",
      "       [0.66578947, 0.1916996 , 0.50802139, 0.28865979, 0.51086957,\n",
      "        0.74827586, 0.62236287, 0.39622642, 0.60883281, 0.41382253,\n",
      "        0.38211382, 0.77289377, 0.36875892],\n",
      "       [0.87105263, 0.18577075, 0.71657754, 0.74226804, 0.30434783,\n",
      "        0.62758621, 0.20464135, 0.75471698, 0.72239748, 1.        ,\n",
      "        0.07317073, 0.25274725, 0.2724679 ],\n",
      "       [0.70526316, 0.22134387, 0.53475936, 0.30927835, 0.33695652,\n",
      "        0.56206897, 0.53586498, 0.26415094, 0.40378549, 0.21501706,\n",
      "        0.51219512, 1.        , 0.53994294],\n",
      "       [0.31315789, 0.10869565, 0.31016043, 0.43298969, 0.23913043,\n",
      "        0.47586207, 0.35864979, 0.49056604, 0.52681388, 0.12116041,\n",
      "        0.30894309, 0.64102564, 0.02425107],\n",
      "       [0.58947368, 0.69960474, 0.48128342, 0.48453608, 0.54347826,\n",
      "        0.21034483, 0.07383966, 0.56603774, 0.29652997, 0.76109215,\n",
      "        0.08943089, 0.10622711, 0.39728959],\n",
      "       [0.56052632, 0.55928854, 0.42245989, 0.53608247, 0.34782609,\n",
      "        0.17931034, 0.0443038 , 0.56603774, 0.2807571 , 0.23208191,\n",
      "        0.09756098, 0.15018315, 0.39372325],\n",
      "       [0.74473684, 0.15217391, 0.70053476, 0.74226804, 0.17391304,\n",
      "        0.67931034, 0.53164557, 0.1509434 , 0.46056782, 0.17918089,\n",
      "        0.71544715, 0.69230769, 0.09415121],\n",
      "       [0.47894737, 0.5       , 0.65240642, 0.58762887, 0.39130435,\n",
      "        0.23103448, 0.05485232, 0.88679245, 0.17350158, 0.3668942 ,\n",
      "        0.31707317, 0.30769231, 0.20827389],\n",
      "       [0.73947368, 0.66798419, 0.54545455, 0.45876289, 0.20652174,\n",
      "        0.28275862, 0.10337553, 0.66037736, 0.36277603, 0.65955631,\n",
      "        0.07317073, 0.13553114, 0.14407989],\n",
      "       [0.59736842, 0.19367589, 0.4171123 , 0.32989691, 0.26086957,\n",
      "        0.48965517, 0.39029536, 0.26415094, 0.29652997, 0.2278157 ,\n",
      "        0.43902439, 0.54945055, 0.71825963],\n",
      "       [0.53157895, 0.61660079, 0.51336898, 0.61340206, 0.16304348,\n",
      "        0.23103448, 0.26371308, 0.90566038, 0.38170347, 0.3003413 ,\n",
      "        0.29268293, 0.27106227, 0.16904422],\n",
      "       [0.38947368, 0.09881423, 0.47593583, 0.3556701 , 0.16304348,\n",
      "        0.35172414, 0.05063291, 0.88679245, 0.26498423, 0.35580205,\n",
      "        0.2195122 , 0.08791209, 0.26533524],\n",
      "       [0.33157895, 0.13241107, 0.3315508 , 0.27835052, 0.16304348,\n",
      "        0.54137931, 0.4556962 , 0.30188679, 0.42902208, 0.13822526,\n",
      "        0.6097561 , 0.53846154, 0.10699001],\n",
      "       [0.45789474, 0.53162055, 0.3315508 , 0.27835052, 0.10869565,\n",
      "        0.22413793, 0.19198312, 0.56603774, 0.13249211, 0.18088737,\n",
      "        0.17886179, 0.31135531, 0.06704708],\n",
      "       [0.50789474, 0.53557312, 0.52941176, 0.40721649, 0.39130435,\n",
      "        0.14137931, 0.07594937, 0.50943396, 0.16719243, 0.34129693,\n",
      "        0.16260163, 0.17582418, 0.2831669 ],\n",
      "       [0.69473684, 0.10079051, 0.29946524, 0.3814433 , 0.26086957,\n",
      "        0.3862069 , 0.30590717, 0.35849057, 0.10094637, 0.21501706,\n",
      "        0.6097561 , 0.43589744, 0.2510699 ],\n",
      "       [0.56052632, 0.3201581 , 0.70053476, 0.41237113, 0.33695652,\n",
      "        0.62758621, 0.61181435, 0.32075472, 0.75709779, 0.37542662,\n",
      "        0.44715447, 0.6959707 , 0.64693295],\n",
      "       [0.35263158, 0.03952569, 0.        , 0.        , 0.19565217,\n",
      "        0.34482759, 0.04852321, 0.28301887, 0.00315457, 0.05716724,\n",
      "        0.46341463, 0.2014652 , 0.17261056],\n",
      "       [0.37894737, 0.1541502 , 0.44919786, 0.43298969, 1.        ,\n",
      "        0.52413793, 0.407173  , 0.35849057, 0.90536278, 0.11262799,\n",
      "        0.55284553, 0.4981685 , 0.4700428 ],\n",
      "       [0.20526316, 0.27272727, 0.73796791, 0.56185567, 0.69565217,\n",
      "        0.2137931 , 0.1371308 , 0.01886792, 0.36277603, 0.10409556,\n",
      "        0.38211382, 0.36263736, 0.24750357]]), 54     0.0\n",
      "151    2.0\n",
      "63     1.0\n",
      "55     0.0\n",
      "123    1.0\n",
      "      ... \n",
      "62     1.0\n",
      "2      0.0\n",
      "59     1.0\n",
      "95     1.0\n",
      "96     1.0\n",
      "Name: target, Length: 72, dtype: float64)\n"
     ]
    }
   ],
   "source": [
    "y = df['target']\n",
    "x = df.drop('target', axis = 1)\n",
    "\n",
    "scaler = MinMaxScaler()\n",
    "scaled_data = scaler.fit_transform(x)\n",
    "\n",
    "x_train, x_test, y_train, y_test = train_test_split(scaled_data, y, test_size = 0.4, random_state = 0)\n",
    "\n",
    "print(f\"Обучающая выборка:\\n{x_train, y_train}\")\n",
    "print(f\"Тестовая выборка:\\n{x_test, y_test}\")"
   ]
  },
  {
   "cell_type": "markdown",
   "id": "62fb0c90",
   "metadata": {},
   "source": [
    "### Логическая регрессия"
   ]
  },
  {
   "cell_type": "code",
   "execution_count": 6,
   "id": "60159717",
   "metadata": {},
   "outputs": [],
   "source": [
    "lr = LogisticRegression(random_state=0)\n",
    "lr_prediction = lr.fit(x_train, y_train).predict(x_test)"
   ]
  },
  {
   "cell_type": "markdown",
   "id": "d268af3b",
   "metadata": {},
   "source": [
    "### SVM"
   ]
  },
  {
   "cell_type": "code",
   "execution_count": 7,
   "id": "a4f233a6",
   "metadata": {},
   "outputs": [],
   "source": [
    "svc = svm.SVC(random_state=0)\n",
    "svc_prediction = svc.fit(x_train, y_train).predict(x_test)"
   ]
  },
  {
   "cell_type": "markdown",
   "id": "efd39e61",
   "metadata": {},
   "source": [
    "### Дерево решений"
   ]
  },
  {
   "cell_type": "code",
   "execution_count": 8,
   "id": "0ba982bc",
   "metadata": {},
   "outputs": [],
   "source": [
    "dt = DecisionTreeClassifier(random_state=0)\n",
    "dt_prediction = dt.fit(x_train, y_train).predict(x_test)"
   ]
  },
  {
   "cell_type": "markdown",
   "id": "d72e0eea",
   "metadata": {},
   "source": [
    "### Оценка качества решений"
   ]
  },
  {
   "cell_type": "code",
   "execution_count": 9,
   "id": "8ee82c20",
   "metadata": {
    "scrolled": true
   },
   "outputs": [
    {
     "name": "stdout",
     "output_type": "stream",
     "text": [
      "Logistic regression:  0.9583333333333334\n",
      "SVM:  0.9722222222222222\n",
      "Decision tree:  0.9166666666666666\n"
     ]
    }
   ],
   "source": [
    "print(\"Logistic regression: \", accuracy_score(y_test, lr_prediction))\n",
    "print(\"SVM: \", accuracy_score(y_test, svc_prediction))\n",
    "print(\"Decision tree: \", accuracy_score(y_test, dt_prediction))"
   ]
  },
  {
   "cell_type": "code",
   "execution_count": 10,
   "id": "80ed4d80",
   "metadata": {},
   "outputs": [
    {
     "name": "stdout",
     "output_type": "stream",
     "text": [
      "Logistic regression:  0.9583333333333334\n"
     ]
    },
    {
     "data": {
      "text/plain": [
       "<sklearn.metrics._plot.confusion_matrix.ConfusionMatrixDisplay at 0x7fd15177dd90>"
      ]
     },
     "execution_count": 10,
     "metadata": {},
     "output_type": "execute_result"
    },
    {
     "data": {
      "image/png": "[encoded data removed]",
      "text/plain": [
       "<Figure size 640x480 with 2 Axes>"
      ]
     },
     "metadata": {},
     "output_type": "display_data"
    }
   ],
   "source": [
    "print(\"Logistic regression: \", accuracy_score(y_test, lr_prediction))\n",
    "\n",
    "cm = confusion_matrix(y_test, lr_prediction, labels=np.unique(df.target), normalize='true')\n",
    "disp = ConfusionMatrixDisplay(confusion_matrix=cm, display_labels=np.unique(df.target))\n",
    "disp.plot()"
   ]
  },
  {
   "cell_type": "code",
   "execution_count": 11,
   "id": "d44f5d9b",
   "metadata": {},
   "outputs": [
    {
     "name": "stdout",
     "output_type": "stream",
     "text": [
      "SVM:  0.9722222222222222\n"
     ]
    },
    {
     "data": {
      "text/plain": [
       "<sklearn.metrics._plot.confusion_matrix.ConfusionMatrixDisplay at 0x7fd132dae8e0>"
      ]
     },
     "execution_count": 11,
     "metadata": {},
     "output_type": "execute_result"
    },
    {
     "data": {
      "image/png": "[encoded data removed]",
      "text/plain": [
       "<Figure size 640x480 with 2 Axes>"
      ]
     },
     "metadata": {},
     "output_type": "display_data"
    }
   ],
   "source": [
    "print(\"SVM: \", accuracy_score(y_test, svc_prediction))\n",
    "\n",
    "cm = confusion_matrix(y_test, svc_prediction, labels=np.unique(df.target), normalize='true')\n",
    "disp = ConfusionMatrixDisplay(confusion_matrix=cm, display_labels=np.unique(df.target))\n",
    "disp.plot()"
   ]
  },
  {
   "cell_type": "code",
   "execution_count": 12,
   "id": "8c8d7109",
   "metadata": {},
   "outputs": [
    {
     "name": "stdout",
     "output_type": "stream",
     "text": [
      "Decision tree:  0.9166666666666666\n"
     ]
    },
    {
     "data": {
      "text/plain": [
       "<sklearn.metrics._plot.confusion_matrix.ConfusionMatrixDisplay at 0x7fd132dae820>"
      ]
     },
     "execution_count": 12,
     "metadata": {},
     "output_type": "execute_result"
    },
    {
     "data": {
      "image/png": "[encoded data removed]",
      "text/plain": [
       "<Figure size 640x480 with 2 Axes>"
      ]
     },
     "metadata": {},
     "output_type": "display_data"
    }
   ],
   "source": [
    "print(\"Decision tree: \", accuracy_score(y_test, dt_prediction))\n",
    "\n",
    "cm = confusion_matrix(y_test, dt_prediction, labels=np.unique(df.target), normalize='true')\n",
    "disp = ConfusionMatrixDisplay(confusion_matrix=cm, display_labels=np.unique(df.target))\n",
    "disp.plot()"
   ]
  },
  {
   "cell_type": "markdown",
   "id": "4e9e3764",
   "metadata": {},
   "source": [
    "### Важность признаков"
   ]
  },
  {
   "cell_type": "code",
   "execution_count": 13,
   "id": "82ec514f",
   "metadata": {},
   "outputs": [
    {
     "data": {
      "text/plain": [
       "[('alcohol', 0.013502594973104024),\n",
       " ('malic_acid', 0.014274171828709938),\n",
       " ('ash', 0.0),\n",
       " ('alcalinity_of_ash', 0.053018352506636925),\n",
       " ('magnesium', 0.0),\n",
       " ('total_phenols', 0.019032229104946584),\n",
       " ('flavanoids', 0.0858859795341857),\n",
       " ('nonflavanoid_phenols', 0.0),\n",
       " ('proanthocyanins', 0.0),\n",
       " ('color_intensity', 0.0),\n",
       " ('hue', 0.02777676680181396),\n",
       " ('od280/od315_of_diluted_wines', 0.36405154845343657),\n",
       " ('proline', 0.4224583567971662)]"
      ]
     },
     "execution_count": 13,
     "metadata": {},
     "output_type": "execute_result"
    }
   ],
   "source": [
    "list(zip(x.columns.values, dt.feature_importances_))"
   ]
  },
  {
   "cell_type": "code",
   "execution_count": 14,
   "id": "cbf85b33",
   "metadata": {},
   "outputs": [],
   "source": [
    "def draw_feature_importances(tree_model, X_dataset, figsize=(18,5)):\n",
    "    # Sorting the values of the importance of features in descending order\n",
    "    list_to_sort = list(zip(X_dataset.columns.values, tree_model.feature_importances_))\n",
    "    sorted_list = sorted(list_to_sort, key=itemgetter(1), reverse = True)\n",
    "    # Features names\n",
    "    labels = [x for x,_ in sorted_list]\n",
    "    # Features importance\n",
    "    data = [x for _,x in sorted_list]\n",
    "    # Graph output\n",
    "    fig, ax = plt.subplots(figsize=figsize)\n",
    "    ind = np.arange(len(labels))\n",
    "    plt.bar(ind, data)\n",
    "    plt.xticks(ind, labels, rotation='vertical')\n",
    "    # Values output\n",
    "    for a,b in zip(ind, data):\n",
    "        plt.text(a-0.05, b+0.01, str(round(b,3)))\n",
    "    plt.show()\n",
    "    return labels, data"
   ]
  },
  {
   "cell_type": "code",
   "execution_count": 15,
   "id": "2bc72ea1",
   "metadata": {},
   "outputs": [
    {
     "data": {
      "image/png": "[encoded data removed]",
      "text/plain": [
       "<Figure size 1800x500 with 1 Axes>"
      ]
     },
     "metadata": {},
     "output_type": "display_data"
    }
   ],
   "source": [
    "dt_fl, dt_fd = draw_feature_importances(dt, x)"
   ]
  },
  {
   "cell_type": "markdown",
   "id": "7be01151",
   "metadata": {},
   "source": [
    "### Визуализация дерева решений"
   ]
  },
  {
   "cell_type": "code",
   "execution_count": 16,
   "id": "0a1bd002",
   "metadata": {},
   "outputs": [
    {
     "data": {
      "text/plain": [
       "[Text(0.5, 0.9166666666666666, 'x[12] <= 0.34\\ngini = 0.661\\nsamples = 106\\nvalue = [37, 40, 29]'),\n",
       " Text(0.25, 0.75, 'x[11] <= 0.337\\ngini = 0.501\\nsamples = 66\\nvalue = [1, 38, 27]'),\n",
       " Text(0.125, 0.5833333333333334, 'x[3] <= 0.356\\ngini = 0.133\\nsamples = 28\\nvalue = [0, 2, 26]'),\n",
       " Text(0.0625, 0.4166666666666667, 'gini = 0.0\\nsamples = 2\\nvalue = [0, 2, 0]'),\n",
       " Text(0.1875, 0.4166666666666667, 'gini = 0.0\\nsamples = 26\\nvalue = [0, 0, 26]'),\n",
       " Text(0.375, 0.5833333333333334, 'x[6] <= 0.113\\ngini = 0.101\\nsamples = 38\\nvalue = [1, 36, 1]'),\n",
       " Text(0.3125, 0.4166666666666667, 'gini = 0.0\\nsamples = 1\\nvalue = [0, 0, 1]'),\n",
       " Text(0.4375, 0.4166666666666667, 'x[0] <= 0.554\\ngini = 0.053\\nsamples = 37\\nvalue = [1, 36, 0]'),\n",
       " Text(0.375, 0.25, 'gini = 0.0\\nsamples = 35\\nvalue = [0, 35, 0]'),\n",
       " Text(0.5, 0.25, 'x[1] <= 0.411\\ngini = 0.5\\nsamples = 2\\nvalue = [1, 1, 0]'),\n",
       " Text(0.4375, 0.08333333333333333, 'gini = 0.0\\nsamples = 1\\nvalue = [0, 1, 0]'),\n",
       " Text(0.5625, 0.08333333333333333, 'gini = 0.0\\nsamples = 1\\nvalue = [1, 0, 0]'),\n",
       " Text(0.75, 0.75, 'x[6] <= 0.282\\ngini = 0.185\\nsamples = 40\\nvalue = [36, 2, 2]'),\n",
       " Text(0.625, 0.5833333333333334, 'x[5] <= 0.136\\ngini = 0.444\\nsamples = 3\\nvalue = [0, 1, 2]'),\n",
       " Text(0.5625, 0.4166666666666667, 'gini = 0.0\\nsamples = 1\\nvalue = [0, 1, 0]'),\n",
       " Text(0.6875, 0.4166666666666667, 'gini = 0.0\\nsamples = 2\\nvalue = [0, 0, 2]'),\n",
       " Text(0.875, 0.5833333333333334, 'x[10] <= 0.663\\ngini = 0.053\\nsamples = 37\\nvalue = [36, 1, 0]'),\n",
       " Text(0.8125, 0.4166666666666667, 'gini = 0.0\\nsamples = 36\\nvalue = [36, 0, 0]'),\n",
       " Text(0.9375, 0.4166666666666667, 'gini = 0.0\\nsamples = 1\\nvalue = [0, 1, 0]')]"
      ]
     },
     "execution_count": 16,
     "metadata": {},
     "output_type": "execute_result"
    },
    {
     "data": {
      "image/png": "[encoded data removed]",
      "text/plain": [
       "<Figure size 640x480 with 1 Axes>"
      ]
     },
     "metadata": {},
     "output_type": "display_data"
    }
   ],
   "source": [
    "tree.plot_tree(dt) "
   ]
  }
 ],
 "metadata": {
  "kernelspec": {
   "display_name": "Python 3 (ipykernel)",
   "language": "python",
   "name": "python3"
  },
  "language_info": {
   "codemirror_mode": {
    "name": "ipython",
    "version": 3
   },
   "file_extension": ".py",
   "mimetype": "text/x-python",
   "name": "python",
   "nbconvert_exporter": "python",
   "pygments_lexer": "ipython3",
   "version": "3.9.7"
  }
 },
 "nbformat": 4,
 "nbformat_minor": 5
}
