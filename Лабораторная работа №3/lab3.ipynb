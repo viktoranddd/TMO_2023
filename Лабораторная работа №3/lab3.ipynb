{
 "cells": [
  {
   "cell_type": "markdown",
   "id": "d89fdd4f",
   "metadata": {},
   "source": [
    "# Подготовка обучающей и тестовой выборки, кросс-валидация и подбор гиперпараметров на примере метода ближайших соседей"
   ]
  },
  {
   "cell_type": "markdown",
   "id": "2b2e1bc8",
   "metadata": {},
   "source": [
    "Цель лабораторной работы: изучение способов подготовки выборки и подбора гиперпараметров на примере метода ближайших соседей."
   ]
  },
  {
   "cell_type": "markdown",
   "id": "f10a4eb8",
   "metadata": {},
   "source": [
    "## Задание"
   ]
  },
  {
   "cell_type": "markdown",
   "id": "4ae047a2",
   "metadata": {},
   "source": [
    "1. Выберите набор данных (датасет) для решения задачи классификации или регрессии.\n",
    "2. В случае необходимости проведите удаление или заполнение пропусков и кодирование категориальных признаков.\n",
    "3. С использованием метода train_test_split разделите выборку на обучающую и тестовую.\n",
    "4. Обучите модель ближайших соседей для произвольно заданного гиперпараметра K. Оцените качество модели с помощью подходящих для задачи метрик.\n",
    "5. Произведите подбор гиперпараметра K с использованием GridSearchCV и RandomizedSearchCV и кросс-валидации, оцените качество оптимальной модели. Используйте не менее двух стратегий кросс-валидации.\n",
    "Сравните метрики качества исходной и оптимальной моделей."
   ]
  },
  {
   "cell_type": "markdown",
   "id": "3b1deaf1",
   "metadata": {},
   "source": [
    "## Ход работы"
   ]
  },
  {
   "cell_type": "markdown",
   "id": "70939657",
   "metadata": {},
   "source": [
    "### Выбор и загрузка датасета"
   ]
  },
  {
   "cell_type": "code",
   "execution_count": 1,
   "id": "20ca1c51",
   "metadata": {},
   "outputs": [],
   "source": [
    "import numpy as np\n",
    "import pandas as pd \n",
    "import seaborn as sns\n",
    "import matplotlib.pyplot as plt\n",
    "%matplotlib inline\n",
    "sns.set(style=\"ticks\")\n",
    "from sklearn.datasets import *\n",
    "from sklearn.preprocessing import MinMaxScaler\n",
    "from sklearn.metrics import accuracy_score, balanced_accuracy_score\n",
    "from sklearn.neighbors import KNeighborsRegressor, KNeighborsClassifier \n",
    "from sklearn.model_selection import train_test_split, GridSearchCV, RandomizedSearchCV\n",
    "from sklearn.model_selection import cross_val_score, cross_validate\n",
    "from sklearn.model_selection import KFold, RepeatedKFold, LeaveOneOut, LeavePOut, ShuffleSplit, StratifiedKFold\n",
    "\n",
    "def make_dataframe(ds_function):\n",
    "    ds = ds_function()\n",
    "    df = pd.DataFrame(data= np.c_[ds['data'], ds['target']],\n",
    "                     columns= list(ds['feature_names']) + ['target'])\n",
    "    return df\n",
    "\n",
    "wine = load_wine()\n",
    "\n",
    "df = make_dataframe(load_wine)"
   ]
  },
  {
   "cell_type": "code",
   "execution_count": 2,
   "id": "16e42012",
   "metadata": {},
   "outputs": [
    {
     "data": {
      "text/html": [
       "<div>\n",
       "<style scoped>\n",
       "    .dataframe tbody tr th:only-of-type {\n",
       "        vertical-align: middle;\n",
       "    }\n",
       "\n",
       "    .dataframe tbody tr th {\n",
       "        vertical-align: top;\n",
       "    }\n",
       "\n",
       "    .dataframe thead th {\n",
       "        text-align: right;\n",
       "    }\n",
       "</style>\n",
       "<table border=\"1\" class=\"dataframe\">\n",
       "  <thead>\n",
       "    <tr style=\"text-align: right;\">\n",
       "      <th></th>\n",
       "      <th>alcohol</th>\n",
       "      <th>malic_acid</th>\n",
       "      <th>ash</th>\n",
       "      <th>alcalinity_of_ash</th>\n",
       "      <th>magnesium</th>\n",
       "      <th>total_phenols</th>\n",
       "      <th>flavanoids</th>\n",
       "      <th>nonflavanoid_phenols</th>\n",
       "      <th>proanthocyanins</th>\n",
       "      <th>color_intensity</th>\n",
       "      <th>hue</th>\n",
       "      <th>od280/od315_of_diluted_wines</th>\n",
       "      <th>proline</th>\n",
       "      <th>target</th>\n",
       "    </tr>\n",
       "  </thead>\n",
       "  <tbody>\n",
       "    <tr>\n",
       "      <th>0</th>\n",
       "      <td>14.23</td>\n",
       "      <td>1.71</td>\n",
       "      <td>2.43</td>\n",
       "      <td>15.6</td>\n",
       "      <td>127.0</td>\n",
       "      <td>2.80</td>\n",
       "      <td>3.06</td>\n",
       "      <td>0.28</td>\n",
       "      <td>2.29</td>\n",
       "      <td>5.64</td>\n",
       "      <td>1.04</td>\n",
       "      <td>3.92</td>\n",
       "      <td>1065.0</td>\n",
       "      <td>0.0</td>\n",
       "    </tr>\n",
       "    <tr>\n",
       "      <th>1</th>\n",
       "      <td>13.20</td>\n",
       "      <td>1.78</td>\n",
       "      <td>2.14</td>\n",
       "      <td>11.2</td>\n",
       "      <td>100.0</td>\n",
       "      <td>2.65</td>\n",
       "      <td>2.76</td>\n",
       "      <td>0.26</td>\n",
       "      <td>1.28</td>\n",
       "      <td>4.38</td>\n",
       "      <td>1.05</td>\n",
       "      <td>3.40</td>\n",
       "      <td>1050.0</td>\n",
       "      <td>0.0</td>\n",
       "    </tr>\n",
       "    <tr>\n",
       "      <th>2</th>\n",
       "      <td>13.16</td>\n",
       "      <td>2.36</td>\n",
       "      <td>2.67</td>\n",
       "      <td>18.6</td>\n",
       "      <td>101.0</td>\n",
       "      <td>2.80</td>\n",
       "      <td>3.24</td>\n",
       "      <td>0.30</td>\n",
       "      <td>2.81</td>\n",
       "      <td>5.68</td>\n",
       "      <td>1.03</td>\n",
       "      <td>3.17</td>\n",
       "      <td>1185.0</td>\n",
       "      <td>0.0</td>\n",
       "    </tr>\n",
       "    <tr>\n",
       "      <th>3</th>\n",
       "      <td>14.37</td>\n",
       "      <td>1.95</td>\n",
       "      <td>2.50</td>\n",
       "      <td>16.8</td>\n",
       "      <td>113.0</td>\n",
       "      <td>3.85</td>\n",
       "      <td>3.49</td>\n",
       "      <td>0.24</td>\n",
       "      <td>2.18</td>\n",
       "      <td>7.80</td>\n",
       "      <td>0.86</td>\n",
       "      <td>3.45</td>\n",
       "      <td>1480.0</td>\n",
       "      <td>0.0</td>\n",
       "    </tr>\n",
       "    <tr>\n",
       "      <th>4</th>\n",
       "      <td>13.24</td>\n",
       "      <td>2.59</td>\n",
       "      <td>2.87</td>\n",
       "      <td>21.0</td>\n",
       "      <td>118.0</td>\n",
       "      <td>2.80</td>\n",
       "      <td>2.69</td>\n",
       "      <td>0.39</td>\n",
       "      <td>1.82</td>\n",
       "      <td>4.32</td>\n",
       "      <td>1.04</td>\n",
       "      <td>2.93</td>\n",
       "      <td>735.0</td>\n",
       "      <td>0.0</td>\n",
       "    </tr>\n",
       "  </tbody>\n",
       "</table>\n",
       "</div>"
      ],
      "text/plain": [
       "   alcohol  malic_acid   ash  alcalinity_of_ash  magnesium  total_phenols  \\\n",
       "0    14.23        1.71  2.43               15.6      127.0           2.80   \n",
       "1    13.20        1.78  2.14               11.2      100.0           2.65   \n",
       "2    13.16        2.36  2.67               18.6      101.0           2.80   \n",
       "3    14.37        1.95  2.50               16.8      113.0           3.85   \n",
       "4    13.24        2.59  2.87               21.0      118.0           2.80   \n",
       "\n",
       "   flavanoids  nonflavanoid_phenols  proanthocyanins  color_intensity   hue  \\\n",
       "0        3.06                  0.28             2.29             5.64  1.04   \n",
       "1        2.76                  0.26             1.28             4.38  1.05   \n",
       "2        3.24                  0.30             2.81             5.68  1.03   \n",
       "3        3.49                  0.24             2.18             7.80  0.86   \n",
       "4        2.69                  0.39             1.82             4.32  1.04   \n",
       "\n",
       "   od280/od315_of_diluted_wines  proline  target  \n",
       "0                          3.92   1065.0     0.0  \n",
       "1                          3.40   1050.0     0.0  \n",
       "2                          3.17   1185.0     0.0  \n",
       "3                          3.45   1480.0     0.0  \n",
       "4                          2.93    735.0     0.0  "
      ]
     },
     "execution_count": 2,
     "metadata": {},
     "output_type": "execute_result"
    }
   ],
   "source": [
    "# Первые 5 строк датасета\n",
    "df.head()"
   ]
  },
  {
   "cell_type": "code",
   "execution_count": 3,
   "id": "3a2ff56d",
   "metadata": {},
   "outputs": [
    {
     "name": "stdout",
     "output_type": "stream",
     "text": [
      "alcohol - 0\n",
      "malic_acid - 0\n",
      "ash - 0\n",
      "alcalinity_of_ash - 0\n",
      "magnesium - 0\n",
      "total_phenols - 0\n",
      "flavanoids - 0\n",
      "nonflavanoid_phenols - 0\n",
      "proanthocyanins - 0\n",
      "color_intensity - 0\n",
      "hue - 0\n",
      "od280/od315_of_diluted_wines - 0\n",
      "proline - 0\n",
      "target - 0\n"
     ]
    }
   ],
   "source": [
    "# Проверим наличие пустых значений\n",
    "# Цикл по колонкам датасета\n",
    "for col in df.columns:\n",
    "    # Количество пустых значений - все значения заполнены\n",
    "    temp_null_count = df[df[col].isnull()].shape[0]\n",
    "    print('{} - {}'.format(col, temp_null_count))"
   ]
  },
  {
   "cell_type": "code",
   "execution_count": 4,
   "id": "c3b33278",
   "metadata": {},
   "outputs": [],
   "source": [
    "# Масштабирование\n",
    "scaler = MinMaxScaler()\n",
    "df[['alcohol', 'hue']] = scaler.fit_transform(df[['alcohol', 'hue']])\n",
    "data = df[['alcohol','hue','target']]\n",
    "# data = pd.DataFrame(scaler.transform(df[['alcohol', 'hue']]), columns = ['alcohol', 'hue'])"
   ]
  },
  {
   "cell_type": "code",
   "execution_count": 5,
   "id": "08424b8a",
   "metadata": {},
   "outputs": [
    {
     "data": {
      "text/html": [
       "<div>\n",
       "<style scoped>\n",
       "    .dataframe tbody tr th:only-of-type {\n",
       "        vertical-align: middle;\n",
       "    }\n",
       "\n",
       "    .dataframe tbody tr th {\n",
       "        vertical-align: top;\n",
       "    }\n",
       "\n",
       "    .dataframe thead th {\n",
       "        text-align: right;\n",
       "    }\n",
       "</style>\n",
       "<table border=\"1\" class=\"dataframe\">\n",
       "  <thead>\n",
       "    <tr style=\"text-align: right;\">\n",
       "      <th></th>\n",
       "      <th>alcohol</th>\n",
       "      <th>hue</th>\n",
       "      <th>target</th>\n",
       "    </tr>\n",
       "  </thead>\n",
       "  <tbody>\n",
       "    <tr>\n",
       "      <th>0</th>\n",
       "      <td>0.842105</td>\n",
       "      <td>0.455285</td>\n",
       "      <td>0.0</td>\n",
       "    </tr>\n",
       "    <tr>\n",
       "      <th>1</th>\n",
       "      <td>0.571053</td>\n",
       "      <td>0.463415</td>\n",
       "      <td>0.0</td>\n",
       "    </tr>\n",
       "    <tr>\n",
       "      <th>2</th>\n",
       "      <td>0.560526</td>\n",
       "      <td>0.447154</td>\n",
       "      <td>0.0</td>\n",
       "    </tr>\n",
       "    <tr>\n",
       "      <th>3</th>\n",
       "      <td>0.878947</td>\n",
       "      <td>0.308943</td>\n",
       "      <td>0.0</td>\n",
       "    </tr>\n",
       "    <tr>\n",
       "      <th>4</th>\n",
       "      <td>0.581579</td>\n",
       "      <td>0.455285</td>\n",
       "      <td>0.0</td>\n",
       "    </tr>\n",
       "  </tbody>\n",
       "</table>\n",
       "</div>"
      ],
      "text/plain": [
       "    alcohol       hue  target\n",
       "0  0.842105  0.455285     0.0\n",
       "1  0.571053  0.463415     0.0\n",
       "2  0.560526  0.447154     0.0\n",
       "3  0.878947  0.308943     0.0\n",
       "4  0.581579  0.455285     0.0"
      ]
     },
     "execution_count": 5,
     "metadata": {},
     "output_type": "execute_result"
    }
   ],
   "source": [
    "data.head()"
   ]
  },
  {
   "cell_type": "code",
   "execution_count": 6,
   "id": "bdfc9d42",
   "metadata": {},
   "outputs": [
    {
     "data": {
      "text/html": [
       "<div>\n",
       "<style scoped>\n",
       "    .dataframe tbody tr th:only-of-type {\n",
       "        vertical-align: middle;\n",
       "    }\n",
       "\n",
       "    .dataframe tbody tr th {\n",
       "        vertical-align: top;\n",
       "    }\n",
       "\n",
       "    .dataframe thead th {\n",
       "        text-align: right;\n",
       "    }\n",
       "</style>\n",
       "<table border=\"1\" class=\"dataframe\">\n",
       "  <thead>\n",
       "    <tr style=\"text-align: right;\">\n",
       "      <th></th>\n",
       "      <th>count</th>\n",
       "      <th>mean</th>\n",
       "      <th>std</th>\n",
       "      <th>min</th>\n",
       "      <th>25%</th>\n",
       "      <th>50%</th>\n",
       "      <th>75%</th>\n",
       "      <th>max</th>\n",
       "    </tr>\n",
       "  </thead>\n",
       "  <tbody>\n",
       "    <tr>\n",
       "      <th>alcohol</th>\n",
       "      <td>178.0</td>\n",
       "      <td>0.518584</td>\n",
       "      <td>0.213639</td>\n",
       "      <td>0.0</td>\n",
       "      <td>0.350658</td>\n",
       "      <td>0.531579</td>\n",
       "      <td>0.696711</td>\n",
       "      <td>1.0</td>\n",
       "    </tr>\n",
       "    <tr>\n",
       "      <th>hue</th>\n",
       "      <td>178.0</td>\n",
       "      <td>0.388170</td>\n",
       "      <td>0.185831</td>\n",
       "      <td>0.0</td>\n",
       "      <td>0.245935</td>\n",
       "      <td>0.394309</td>\n",
       "      <td>0.520325</td>\n",
       "      <td>1.0</td>\n",
       "    </tr>\n",
       "    <tr>\n",
       "      <th>target</th>\n",
       "      <td>178.0</td>\n",
       "      <td>0.938202</td>\n",
       "      <td>0.775035</td>\n",
       "      <td>0.0</td>\n",
       "      <td>0.000000</td>\n",
       "      <td>1.000000</td>\n",
       "      <td>2.000000</td>\n",
       "      <td>2.0</td>\n",
       "    </tr>\n",
       "  </tbody>\n",
       "</table>\n",
       "</div>"
      ],
      "text/plain": [
       "         count      mean       std  min       25%       50%       75%  max\n",
       "alcohol  178.0  0.518584  0.213639  0.0  0.350658  0.531579  0.696711  1.0\n",
       "hue      178.0  0.388170  0.185831  0.0  0.245935  0.394309  0.520325  1.0\n",
       "target   178.0  0.938202  0.775035  0.0  0.000000  1.000000  2.000000  2.0"
      ]
     },
     "execution_count": 6,
     "metadata": {},
     "output_type": "execute_result"
    }
   ],
   "source": [
    "data.describe().T"
   ]
  },
  {
   "cell_type": "code",
   "execution_count": 7,
   "id": "4f632bf6",
   "metadata": {
    "scrolled": true
   },
   "outputs": [
    {
     "data": {
      "text/plain": [
       "<Axes: xlabel='alcohol', ylabel='hue'>"
      ]
     },
     "execution_count": 7,
     "metadata": {},
     "output_type": "execute_result"
    },
    {
     "data": {
      "image/png": "[encoded data removed]",
      "text/plain": [
       "<Figure size 1000x1000 with 1 Axes>"
      ]
     },
     "metadata": {},
     "output_type": "display_data"
    }
   ],
   "source": [
    "# Диаграмма рассеяния позволяет визуально обнаружить наличие зависимости\n",
    "# Построим зависимость между крепкостью алкоголя и оттенком цвета\n",
    "fig, ax = plt.subplots(figsize=(10,10))\n",
    "sns.scatterplot(ax=ax, x='alcohol', y='hue', data=data, hue='target')"
   ]
  },
  {
   "cell_type": "markdown",
   "id": "0a40be27",
   "metadata": {},
   "source": [
    "### Разделение на тестовую и обучающую"
   ]
  },
  {
   "cell_type": "code",
   "execution_count": 8,
   "id": "c416e277",
   "metadata": {},
   "outputs": [
    {
     "name": "stdout",
     "output_type": "stream",
     "text": [
      "Обучающая выборка:\n",
      "(      alcohol       hue\n",
      "1    0.571053  0.463415\n",
      "67   0.352632  0.520325\n",
      "174  0.623684  0.178862\n",
      "64   0.300000  0.788618\n",
      "20   0.797368  0.495935\n",
      "..        ...       ...\n",
      "148  0.602632  0.056911\n",
      "137  0.394737  0.276423\n",
      "156  0.739474  0.073171\n",
      "15   0.684211  0.650407\n",
      "99   0.331579  0.764228\n",
      "\n",
      "[142 rows x 2 columns], 1      0.0\n",
      "67     1.0\n",
      "174    2.0\n",
      "64     1.0\n",
      "20     0.0\n",
      "      ... \n",
      "148    2.0\n",
      "137    2.0\n",
      "156    2.0\n",
      "15     0.0\n",
      "99     1.0\n",
      "Name: target, Length: 142, dtype: float64)\n",
      "Тестовая выборка:\n",
      "(      alcohol       hue\n",
      "111  0.392105  0.341463\n",
      "177  0.815789  0.105691\n",
      "46   0.881579  0.455285\n",
      "112  0.192105  0.609756\n",
      "91   0.255263  0.463415\n",
      "72   0.647368  0.406504\n",
      "140  0.500000  0.235772\n",
      "107  0.444737  0.325203\n",
      "125  0.273684  0.308943\n",
      "169  0.623684  0.154472\n",
      "47   0.755263  0.349593\n",
      "165  0.710526  0.243902\n",
      "120  0.110526  0.260163\n",
      "62   0.694737  0.609756\n",
      "13   0.978947  0.626016\n",
      "92   0.436842  0.390244\n",
      "87   0.163158  0.715447\n",
      "28   0.747368  0.626016\n",
      "51   0.736842  0.617886\n",
      "155  0.563158  0.097561\n",
      "161  0.700000  0.390244\n",
      "44   0.531579  0.325203\n",
      "124  0.221053  0.219512\n",
      "34   0.652632  0.504065\n",
      "132  0.468421  0.146341\n",
      "77   0.213158  0.390244\n",
      "45   0.836842  0.317073\n",
      "136  0.321053  0.219512\n",
      "80   0.255263  0.731707\n",
      "103  0.207895  0.373984\n",
      "68   0.607895  0.439024\n",
      "109  0.152632  0.390244\n",
      "152  0.547368  0.105691\n",
      "100  0.276316  0.642276\n",
      "12   0.715789  0.544715\n",
      "55   0.665789  0.406504, 111    1.0\n",
      "177    2.0\n",
      "46     0.0\n",
      "112    1.0\n",
      "91     1.0\n",
      "72     1.0\n",
      "140    2.0\n",
      "107    1.0\n",
      "125    1.0\n",
      "169    2.0\n",
      "47     0.0\n",
      "165    2.0\n",
      "120    1.0\n",
      "62     1.0\n",
      "13     0.0\n",
      "92     1.0\n",
      "87     1.0\n",
      "28     0.0\n",
      "51     0.0\n",
      "155    2.0\n",
      "161    2.0\n",
      "44     0.0\n",
      "124    1.0\n",
      "34     0.0\n",
      "132    2.0\n",
      "77     1.0\n",
      "45     0.0\n",
      "136    2.0\n",
      "80     1.0\n",
      "103    1.0\n",
      "68     1.0\n",
      "109    1.0\n",
      "152    2.0\n",
      "100    1.0\n",
      "12     0.0\n",
      "55     0.0\n",
      "Name: target, dtype: float64)\n"
     ]
    }
   ],
   "source": [
    "y = data['target']\n",
    "x = data.drop('target', axis = 1)\n",
    "\n",
    "x_train, x_test, y_train, y_test = train_test_split(x, y, test_size = 0.20, random_state = 20)\n",
    "\n",
    "print(f\"Обучающая выборка:\\n{x_train, y_train}\")\n",
    "print(f\"Тестовая выборка:\\n{x_test, y_test}\")"
   ]
  },
  {
   "cell_type": "markdown",
   "id": "62fb0c90",
   "metadata": {},
   "source": [
    "### Обучение и оценка качества модели для произвольного гиперпараметра K"
   ]
  },
  {
   "cell_type": "code",
   "execution_count": 9,
   "id": "60159717",
   "metadata": {},
   "outputs": [
    {
     "data": {
      "text/plain": [
       "(0.9436619718309859, 0.8333333333333334)"
      ]
     },
     "execution_count": 9,
     "metadata": {},
     "output_type": "execute_result"
    }
   ],
   "source": [
    "cl1_5 = KNeighborsClassifier(n_neighbors=5).fit(x_train, y_train)\n",
    "\n",
    "target1_5_train = cl1_5.predict(x_train)\n",
    "target1_5_test = cl1_5.predict(x_test)\n",
    "\n",
    "accuracy_score(y_train, target1_5_train), accuracy_score(y_test, target1_5_test)"
   ]
  },
  {
   "cell_type": "markdown",
   "id": "91cbac52",
   "metadata": {},
   "source": [
    "Чем выше значения - тем лучше"
   ]
  },
  {
   "cell_type": "markdown",
   "id": "d268af3b",
   "metadata": {},
   "source": [
    "### Подбор гиперпараметров модели и кросс-валидация"
   ]
  },
  {
   "cell_type": "markdown",
   "id": "bad13170",
   "metadata": {},
   "source": [
    "#### Grid Search"
   ]
  },
  {
   "cell_type": "code",
   "execution_count": 10,
   "id": "a4f233a6",
   "metadata": {},
   "outputs": [
    {
     "data": {
      "text/plain": [
       "[{'n_neighbors': array([ 5,  6,  7,  8,  9, 10, 11, 12, 13, 14, 15, 16, 17, 18, 19, 20, 21,\n",
       "         22, 23, 24, 25, 26, 27, 28, 29, 30])}]"
      ]
     },
     "execution_count": 10,
     "metadata": {},
     "output_type": "execute_result"
    }
   ],
   "source": [
    "n_range = np.array(range(5,31,1))\n",
    "tuned_parameters = [{'n_neighbors': n_range}]\n",
    "tuned_parameters"
   ]
  },
  {
   "cell_type": "code",
   "execution_count": 11,
   "id": "0ba982bc",
   "metadata": {},
   "outputs": [
    {
     "name": "stdout",
     "output_type": "stream",
     "text": [
      "CPU times: user 347 ms, sys: 6.8 ms, total: 354 ms\n",
      "Wall time: 346 ms\n"
     ]
    },
    {
     "data": {
      "text/html": [
       "<style>#sk-container-id-1 {color: black;background-color: white;}#sk-container-id-1 pre{padding: 0;}#sk-container-id-1 div.sk-toggleable {background-color: white;}#sk-container-id-1 label.sk-toggleable__label {cursor: pointer;display: block;width: 100%;margin-bottom: 0;padding: 0.3em;box-sizing: border-box;text-align: center;}#sk-container-id-1 label.sk-toggleable__label-arrow:before {content: \"▸\";float: left;margin-right: 0.25em;color: #696969;}#sk-container-id-1 label.sk-toggleable__label-arrow:hover:before {color: black;}#sk-container-id-1 div.sk-estimator:hover label.sk-toggleable__label-arrow:before {color: black;}#sk-container-id-1 div.sk-toggleable__content {max-height: 0;max-width: 0;overflow: hidden;text-align: left;background-color: #f0f8ff;}#sk-container-id-1 div.sk-toggleable__content pre {margin: 0.2em;color: black;border-radius: 0.25em;background-color: #f0f8ff;}#sk-container-id-1 input.sk-toggleable__control:checked~div.sk-toggleable__content {max-height: 200px;max-width: 100%;overflow: auto;}#sk-container-id-1 input.sk-toggleable__control:checked~label.sk-toggleable__label-arrow:before {content: \"▾\";}#sk-container-id-1 div.sk-estimator input.sk-toggleable__control:checked~label.sk-toggleable__label {background-color: #d4ebff;}#sk-container-id-1 div.sk-label input.sk-toggleable__control:checked~label.sk-toggleable__label {background-color: #d4ebff;}#sk-container-id-1 input.sk-hidden--visually {border: 0;clip: rect(1px 1px 1px 1px);clip: rect(1px, 1px, 1px, 1px);height: 1px;margin: -1px;overflow: hidden;padding: 0;position: absolute;width: 1px;}#sk-container-id-1 div.sk-estimator {font-family: monospace;background-color: #f0f8ff;border: 1px dotted black;border-radius: 0.25em;box-sizing: border-box;margin-bottom: 0.5em;}#sk-container-id-1 div.sk-estimator:hover {background-color: #d4ebff;}#sk-container-id-1 div.sk-parallel-item::after {content: \"\";width: 100%;border-bottom: 1px solid gray;flex-grow: 1;}#sk-container-id-1 div.sk-label:hover label.sk-toggleable__label {background-color: #d4ebff;}#sk-container-id-1 div.sk-serial::before {content: \"\";position: absolute;border-left: 1px solid gray;box-sizing: border-box;top: 0;bottom: 0;left: 50%;z-index: 0;}#sk-container-id-1 div.sk-serial {display: flex;flex-direction: column;align-items: center;background-color: white;padding-right: 0.2em;padding-left: 0.2em;position: relative;}#sk-container-id-1 div.sk-item {position: relative;z-index: 1;}#sk-container-id-1 div.sk-parallel {display: flex;align-items: stretch;justify-content: center;background-color: white;position: relative;}#sk-container-id-1 div.sk-item::before, #sk-container-id-1 div.sk-parallel-item::before {content: \"\";position: absolute;border-left: 1px solid gray;box-sizing: border-box;top: 0;bottom: 0;left: 50%;z-index: -1;}#sk-container-id-1 div.sk-parallel-item {display: flex;flex-direction: column;z-index: 1;position: relative;background-color: white;}#sk-container-id-1 div.sk-parallel-item:first-child::after {align-self: flex-end;width: 50%;}#sk-container-id-1 div.sk-parallel-item:last-child::after {align-self: flex-start;width: 50%;}#sk-container-id-1 div.sk-parallel-item:only-child::after {width: 0;}#sk-container-id-1 div.sk-dashed-wrapped {border: 1px dashed gray;margin: 0 0.4em 0.5em 0.4em;box-sizing: border-box;padding-bottom: 0.4em;background-color: white;}#sk-container-id-1 div.sk-label label {font-family: monospace;font-weight: bold;display: inline-block;line-height: 1.2em;}#sk-container-id-1 div.sk-label-container {text-align: center;}#sk-container-id-1 div.sk-container {/* jupyter's `normalize.less` sets `[hidden] { display: none; }` but bootstrap.min.css set `[hidden] { display: none !important; }` so we also need the `!important` here to be able to override the default hidden behavior on the sphinx rendered scikit-learn.org. See: https://github.com/scikit-learn/scikit-learn/issues/21755 */display: inline-block !important;position: relative;}#sk-container-id-1 div.sk-text-repr-fallback {display: none;}</style><div id=\"sk-container-id-1\" class=\"sk-top-container\"><div class=\"sk-text-repr-fallback\"><pre>GridSearchCV(cv=5, estimator=KNeighborsClassifier(),\n",
       "             param_grid=[{&#x27;n_neighbors&#x27;: array([ 5,  6,  7,  8,  9, 10, 11, 12, 13, 14, 15, 16, 17, 18, 19, 20, 21,\n",
       "       22, 23, 24, 25, 26, 27, 28, 29, 30])}],\n",
       "             scoring=&#x27;accuracy&#x27;)</pre><b>In a Jupyter environment, please rerun this cell to show the HTML representation or trust the notebook. <br />On GitHub, the HTML representation is unable to render, please try loading this page with nbviewer.org.</b></div><div class=\"sk-container\" hidden><div class=\"sk-item sk-dashed-wrapped\"><div class=\"sk-label-container\"><div class=\"sk-label sk-toggleable\"><input class=\"sk-toggleable__control sk-hidden--visually\" id=\"sk-estimator-id-1\" type=\"checkbox\" ><label for=\"sk-estimator-id-1\" class=\"sk-toggleable__label sk-toggleable__label-arrow\">GridSearchCV</label><div class=\"sk-toggleable__content\"><pre>GridSearchCV(cv=5, estimator=KNeighborsClassifier(),\n",
       "             param_grid=[{&#x27;n_neighbors&#x27;: array([ 5,  6,  7,  8,  9, 10, 11, 12, 13, 14, 15, 16, 17, 18, 19, 20, 21,\n",
       "       22, 23, 24, 25, 26, 27, 28, 29, 30])}],\n",
       "             scoring=&#x27;accuracy&#x27;)</pre></div></div></div><div class=\"sk-parallel\"><div class=\"sk-parallel-item\"><div class=\"sk-item\"><div class=\"sk-label-container\"><div class=\"sk-label sk-toggleable\"><input class=\"sk-toggleable__control sk-hidden--visually\" id=\"sk-estimator-id-2\" type=\"checkbox\" ><label for=\"sk-estimator-id-2\" class=\"sk-toggleable__label sk-toggleable__label-arrow\">estimator: KNeighborsClassifier</label><div class=\"sk-toggleable__content\"><pre>KNeighborsClassifier()</pre></div></div></div><div class=\"sk-serial\"><div class=\"sk-item\"><div class=\"sk-estimator sk-toggleable\"><input class=\"sk-toggleable__control sk-hidden--visually\" id=\"sk-estimator-id-3\" type=\"checkbox\" ><label for=\"sk-estimator-id-3\" class=\"sk-toggleable__label sk-toggleable__label-arrow\">KNeighborsClassifier</label><div class=\"sk-toggleable__content\"><pre>KNeighborsClassifier()</pre></div></div></div></div></div></div></div></div></div></div>"
      ],
      "text/plain": [
       "GridSearchCV(cv=5, estimator=KNeighborsClassifier(),\n",
       "             param_grid=[{'n_neighbors': array([ 5,  6,  7,  8,  9, 10, 11, 12, 13, 14, 15, 16, 17, 18, 19, 20, 21,\n",
       "       22, 23, 24, 25, 26, 27, 28, 29, 30])}],\n",
       "             scoring='accuracy')"
      ]
     },
     "execution_count": 11,
     "metadata": {},
     "output_type": "execute_result"
    }
   ],
   "source": [
    "%%time\n",
    "clf_gs = GridSearchCV(KNeighborsClassifier(), tuned_parameters, cv=5, scoring='accuracy')\n",
    "clf_gs.fit(x_train, y_train)"
   ]
  },
  {
   "cell_type": "code",
   "execution_count": 12,
   "id": "48a0e9f5",
   "metadata": {},
   "outputs": [
    {
     "data": {
      "text/html": [
       "<style>#sk-container-id-2 {color: black;background-color: white;}#sk-container-id-2 pre{padding: 0;}#sk-container-id-2 div.sk-toggleable {background-color: white;}#sk-container-id-2 label.sk-toggleable__label {cursor: pointer;display: block;width: 100%;margin-bottom: 0;padding: 0.3em;box-sizing: border-box;text-align: center;}#sk-container-id-2 label.sk-toggleable__label-arrow:before {content: \"▸\";float: left;margin-right: 0.25em;color: #696969;}#sk-container-id-2 label.sk-toggleable__label-arrow:hover:before {color: black;}#sk-container-id-2 div.sk-estimator:hover label.sk-toggleable__label-arrow:before {color: black;}#sk-container-id-2 div.sk-toggleable__content {max-height: 0;max-width: 0;overflow: hidden;text-align: left;background-color: #f0f8ff;}#sk-container-id-2 div.sk-toggleable__content pre {margin: 0.2em;color: black;border-radius: 0.25em;background-color: #f0f8ff;}#sk-container-id-2 input.sk-toggleable__control:checked~div.sk-toggleable__content {max-height: 200px;max-width: 100%;overflow: auto;}#sk-container-id-2 input.sk-toggleable__control:checked~label.sk-toggleable__label-arrow:before {content: \"▾\";}#sk-container-id-2 div.sk-estimator input.sk-toggleable__control:checked~label.sk-toggleable__label {background-color: #d4ebff;}#sk-container-id-2 div.sk-label input.sk-toggleable__control:checked~label.sk-toggleable__label {background-color: #d4ebff;}#sk-container-id-2 input.sk-hidden--visually {border: 0;clip: rect(1px 1px 1px 1px);clip: rect(1px, 1px, 1px, 1px);height: 1px;margin: -1px;overflow: hidden;padding: 0;position: absolute;width: 1px;}#sk-container-id-2 div.sk-estimator {font-family: monospace;background-color: #f0f8ff;border: 1px dotted black;border-radius: 0.25em;box-sizing: border-box;margin-bottom: 0.5em;}#sk-container-id-2 div.sk-estimator:hover {background-color: #d4ebff;}#sk-container-id-2 div.sk-parallel-item::after {content: \"\";width: 100%;border-bottom: 1px solid gray;flex-grow: 1;}#sk-container-id-2 div.sk-label:hover label.sk-toggleable__label {background-color: #d4ebff;}#sk-container-id-2 div.sk-serial::before {content: \"\";position: absolute;border-left: 1px solid gray;box-sizing: border-box;top: 0;bottom: 0;left: 50%;z-index: 0;}#sk-container-id-2 div.sk-serial {display: flex;flex-direction: column;align-items: center;background-color: white;padding-right: 0.2em;padding-left: 0.2em;position: relative;}#sk-container-id-2 div.sk-item {position: relative;z-index: 1;}#sk-container-id-2 div.sk-parallel {display: flex;align-items: stretch;justify-content: center;background-color: white;position: relative;}#sk-container-id-2 div.sk-item::before, #sk-container-id-2 div.sk-parallel-item::before {content: \"\";position: absolute;border-left: 1px solid gray;box-sizing: border-box;top: 0;bottom: 0;left: 50%;z-index: -1;}#sk-container-id-2 div.sk-parallel-item {display: flex;flex-direction: column;z-index: 1;position: relative;background-color: white;}#sk-container-id-2 div.sk-parallel-item:first-child::after {align-self: flex-end;width: 50%;}#sk-container-id-2 div.sk-parallel-item:last-child::after {align-self: flex-start;width: 50%;}#sk-container-id-2 div.sk-parallel-item:only-child::after {width: 0;}#sk-container-id-2 div.sk-dashed-wrapped {border: 1px dashed gray;margin: 0 0.4em 0.5em 0.4em;box-sizing: border-box;padding-bottom: 0.4em;background-color: white;}#sk-container-id-2 div.sk-label label {font-family: monospace;font-weight: bold;display: inline-block;line-height: 1.2em;}#sk-container-id-2 div.sk-label-container {text-align: center;}#sk-container-id-2 div.sk-container {/* jupyter's `normalize.less` sets `[hidden] { display: none; }` but bootstrap.min.css set `[hidden] { display: none !important; }` so we also need the `!important` here to be able to override the default hidden behavior on the sphinx rendered scikit-learn.org. See: https://github.com/scikit-learn/scikit-learn/issues/21755 */display: inline-block !important;position: relative;}#sk-container-id-2 div.sk-text-repr-fallback {display: none;}</style><div id=\"sk-container-id-2\" class=\"sk-top-container\"><div class=\"sk-text-repr-fallback\"><pre>KNeighborsClassifier(n_neighbors=13)</pre><b>In a Jupyter environment, please rerun this cell to show the HTML representation or trust the notebook. <br />On GitHub, the HTML representation is unable to render, please try loading this page with nbviewer.org.</b></div><div class=\"sk-container\" hidden><div class=\"sk-item\"><div class=\"sk-estimator sk-toggleable\"><input class=\"sk-toggleable__control sk-hidden--visually\" id=\"sk-estimator-id-4\" type=\"checkbox\" checked><label for=\"sk-estimator-id-4\" class=\"sk-toggleable__label sk-toggleable__label-arrow\">KNeighborsClassifier</label><div class=\"sk-toggleable__content\"><pre>KNeighborsClassifier(n_neighbors=13)</pre></div></div></div></div></div>"
      ],
      "text/plain": [
       "KNeighborsClassifier(n_neighbors=13)"
      ]
     },
     "execution_count": 12,
     "metadata": {},
     "output_type": "execute_result"
    }
   ],
   "source": [
    "# Лучшая модель\n",
    "clf_gs.best_estimator_"
   ]
  },
  {
   "cell_type": "code",
   "execution_count": 13,
   "id": "f08e812b",
   "metadata": {},
   "outputs": [
    {
     "data": {
      "text/plain": [
       "0.9150246305418719"
      ]
     },
     "execution_count": 13,
     "metadata": {},
     "output_type": "execute_result"
    }
   ],
   "source": [
    "# Лучшее значение метрики\n",
    "clf_gs.best_score_"
   ]
  },
  {
   "cell_type": "code",
   "execution_count": 14,
   "id": "6995e11e",
   "metadata": {},
   "outputs": [
    {
     "data": {
      "text/plain": [
       "{'n_neighbors': 13}"
      ]
     },
     "execution_count": 14,
     "metadata": {},
     "output_type": "execute_result"
    }
   ],
   "source": [
    "# Лучшее значение параметров\n",
    "clf_gs.best_params_"
   ]
  },
  {
   "cell_type": "code",
   "execution_count": 15,
   "id": "82ec514f",
   "metadata": {},
   "outputs": [
    {
     "data": {
      "text/plain": [
       "[<matplotlib.lines.Line2D at 0x7fdfa8e4b4c0>]"
      ]
     },
     "execution_count": 15,
     "metadata": {},
     "output_type": "execute_result"
    },
    {
     "data": {
      "image/png": "[encoded data removed]",
      "text/plain": [
       "<Figure size 640x480 with 1 Axes>"
      ]
     },
     "metadata": {},
     "output_type": "display_data"
    }
   ],
   "source": [
    "# Изменение качества на тестовой выборке в зависимости от К-соседей\n",
    "plt.plot(n_range, clf_gs.cv_results_['mean_test_score'])"
   ]
  },
  {
   "cell_type": "markdown",
   "id": "9f8493c4",
   "metadata": {},
   "source": [
    "#### Randomized Search"
   ]
  },
  {
   "cell_type": "code",
   "execution_count": 28,
   "id": "cbf85b33",
   "metadata": {},
   "outputs": [
    {
     "name": "stdout",
     "output_type": "stream",
     "text": [
      "CPU times: user 175 ms, sys: 4.61 ms, total: 180 ms\n",
      "Wall time: 178 ms\n"
     ]
    },
    {
     "data": {
      "text/html": [
       "<style>#sk-container-id-6 {color: black;background-color: white;}#sk-container-id-6 pre{padding: 0;}#sk-container-id-6 div.sk-toggleable {background-color: white;}#sk-container-id-6 label.sk-toggleable__label {cursor: pointer;display: block;width: 100%;margin-bottom: 0;padding: 0.3em;box-sizing: border-box;text-align: center;}#sk-container-id-6 label.sk-toggleable__label-arrow:before {content: \"▸\";float: left;margin-right: 0.25em;color: #696969;}#sk-container-id-6 label.sk-toggleable__label-arrow:hover:before {color: black;}#sk-container-id-6 div.sk-estimator:hover label.sk-toggleable__label-arrow:before {color: black;}#sk-container-id-6 div.sk-toggleable__content {max-height: 0;max-width: 0;overflow: hidden;text-align: left;background-color: #f0f8ff;}#sk-container-id-6 div.sk-toggleable__content pre {margin: 0.2em;color: black;border-radius: 0.25em;background-color: #f0f8ff;}#sk-container-id-6 input.sk-toggleable__control:checked~div.sk-toggleable__content {max-height: 200px;max-width: 100%;overflow: auto;}#sk-container-id-6 input.sk-toggleable__control:checked~label.sk-toggleable__label-arrow:before {content: \"▾\";}#sk-container-id-6 div.sk-estimator input.sk-toggleable__control:checked~label.sk-toggleable__label {background-color: #d4ebff;}#sk-container-id-6 div.sk-label input.sk-toggleable__control:checked~label.sk-toggleable__label {background-color: #d4ebff;}#sk-container-id-6 input.sk-hidden--visually {border: 0;clip: rect(1px 1px 1px 1px);clip: rect(1px, 1px, 1px, 1px);height: 1px;margin: -1px;overflow: hidden;padding: 0;position: absolute;width: 1px;}#sk-container-id-6 div.sk-estimator {font-family: monospace;background-color: #f0f8ff;border: 1px dotted black;border-radius: 0.25em;box-sizing: border-box;margin-bottom: 0.5em;}#sk-container-id-6 div.sk-estimator:hover {background-color: #d4ebff;}#sk-container-id-6 div.sk-parallel-item::after {content: \"\";width: 100%;border-bottom: 1px solid gray;flex-grow: 1;}#sk-container-id-6 div.sk-label:hover label.sk-toggleable__label {background-color: #d4ebff;}#sk-container-id-6 div.sk-serial::before {content: \"\";position: absolute;border-left: 1px solid gray;box-sizing: border-box;top: 0;bottom: 0;left: 50%;z-index: 0;}#sk-container-id-6 div.sk-serial {display: flex;flex-direction: column;align-items: center;background-color: white;padding-right: 0.2em;padding-left: 0.2em;position: relative;}#sk-container-id-6 div.sk-item {position: relative;z-index: 1;}#sk-container-id-6 div.sk-parallel {display: flex;align-items: stretch;justify-content: center;background-color: white;position: relative;}#sk-container-id-6 div.sk-item::before, #sk-container-id-6 div.sk-parallel-item::before {content: \"\";position: absolute;border-left: 1px solid gray;box-sizing: border-box;top: 0;bottom: 0;left: 50%;z-index: -1;}#sk-container-id-6 div.sk-parallel-item {display: flex;flex-direction: column;z-index: 1;position: relative;background-color: white;}#sk-container-id-6 div.sk-parallel-item:first-child::after {align-self: flex-end;width: 50%;}#sk-container-id-6 div.sk-parallel-item:last-child::after {align-self: flex-start;width: 50%;}#sk-container-id-6 div.sk-parallel-item:only-child::after {width: 0;}#sk-container-id-6 div.sk-dashed-wrapped {border: 1px dashed gray;margin: 0 0.4em 0.5em 0.4em;box-sizing: border-box;padding-bottom: 0.4em;background-color: white;}#sk-container-id-6 div.sk-label label {font-family: monospace;font-weight: bold;display: inline-block;line-height: 1.2em;}#sk-container-id-6 div.sk-label-container {text-align: center;}#sk-container-id-6 div.sk-container {/* jupyter's `normalize.less` sets `[hidden] { display: none; }` but bootstrap.min.css set `[hidden] { display: none !important; }` so we also need the `!important` here to be able to override the default hidden behavior on the sphinx rendered scikit-learn.org. See: https://github.com/scikit-learn/scikit-learn/issues/21755 */display: inline-block !important;position: relative;}#sk-container-id-6 div.sk-text-repr-fallback {display: none;}</style><div id=\"sk-container-id-6\" class=\"sk-top-container\"><div class=\"sk-text-repr-fallback\"><pre>RandomizedSearchCV(cv=5, estimator=KNeighborsClassifier(),\n",
       "                   param_distributions=[{&#x27;n_neighbors&#x27;: array([ 5,  6,  7,  8,  9, 10, 11, 12, 13, 14, 15, 16, 17, 18, 19, 20, 21,\n",
       "       22, 23, 24, 25, 26, 27, 28, 29, 30])}],\n",
       "                   scoring=&#x27;accuracy&#x27;)</pre><b>In a Jupyter environment, please rerun this cell to show the HTML representation or trust the notebook. <br />On GitHub, the HTML representation is unable to render, please try loading this page with nbviewer.org.</b></div><div class=\"sk-container\" hidden><div class=\"sk-item sk-dashed-wrapped\"><div class=\"sk-label-container\"><div class=\"sk-label sk-toggleable\"><input class=\"sk-toggleable__control sk-hidden--visually\" id=\"sk-estimator-id-14\" type=\"checkbox\" ><label for=\"sk-estimator-id-14\" class=\"sk-toggleable__label sk-toggleable__label-arrow\">RandomizedSearchCV</label><div class=\"sk-toggleable__content\"><pre>RandomizedSearchCV(cv=5, estimator=KNeighborsClassifier(),\n",
       "                   param_distributions=[{&#x27;n_neighbors&#x27;: array([ 5,  6,  7,  8,  9, 10, 11, 12, 13, 14, 15, 16, 17, 18, 19, 20, 21,\n",
       "       22, 23, 24, 25, 26, 27, 28, 29, 30])}],\n",
       "                   scoring=&#x27;accuracy&#x27;)</pre></div></div></div><div class=\"sk-parallel\"><div class=\"sk-parallel-item\"><div class=\"sk-item\"><div class=\"sk-label-container\"><div class=\"sk-label sk-toggleable\"><input class=\"sk-toggleable__control sk-hidden--visually\" id=\"sk-estimator-id-15\" type=\"checkbox\" ><label for=\"sk-estimator-id-15\" class=\"sk-toggleable__label sk-toggleable__label-arrow\">estimator: KNeighborsClassifier</label><div class=\"sk-toggleable__content\"><pre>KNeighborsClassifier()</pre></div></div></div><div class=\"sk-serial\"><div class=\"sk-item\"><div class=\"sk-estimator sk-toggleable\"><input class=\"sk-toggleable__control sk-hidden--visually\" id=\"sk-estimator-id-16\" type=\"checkbox\" ><label for=\"sk-estimator-id-16\" class=\"sk-toggleable__label sk-toggleable__label-arrow\">KNeighborsClassifier</label><div class=\"sk-toggleable__content\"><pre>KNeighborsClassifier()</pre></div></div></div></div></div></div></div></div></div></div>"
      ],
      "text/plain": [
       "RandomizedSearchCV(cv=5, estimator=KNeighborsClassifier(),\n",
       "                   param_distributions=[{'n_neighbors': array([ 5,  6,  7,  8,  9, 10, 11, 12, 13, 14, 15, 16, 17, 18, 19, 20, 21,\n",
       "       22, 23, 24, 25, 26, 27, 28, 29, 30])}],\n",
       "                   scoring='accuracy')"
      ]
     },
     "execution_count": 28,
     "metadata": {},
     "output_type": "execute_result"
    }
   ],
   "source": [
    "%%time\n",
    "clf_rs = RandomizedSearchCV(KNeighborsClassifier(), tuned_parameters, cv=5, scoring='accuracy')\n",
    "clf_rs.fit(x_train, y_train)"
   ]
  },
  {
   "cell_type": "code",
   "execution_count": 29,
   "id": "2bc72ea1",
   "metadata": {},
   "outputs": [
    {
     "data": {
      "text/plain": [
       "(0.9150246305418719, {'n_neighbors': 13})"
      ]
     },
     "execution_count": 29,
     "metadata": {},
     "output_type": "execute_result"
    }
   ],
   "source": [
    "# В данном случае оба способа нашли одинаковое решение\n",
    "clf_rs.best_score_, clf_rs.best_params_"
   ]
  },
  {
   "cell_type": "markdown",
   "id": "7be01151",
   "metadata": {},
   "source": [
    "#### K-fold"
   ]
  },
  {
   "cell_type": "code",
   "execution_count": 18,
   "id": "0a1bd002",
   "metadata": {},
   "outputs": [
    {
     "name": "stdout",
     "output_type": "stream",
     "text": [
      "[ 18  19  20  21  22  23  24  25  26  27  28  29  30  31  32  33  34  35\n",
      "  36  37  38  39  40  41  42  43  44  45  46  47  48  49  50  51  52  53\n",
      "  54  55  56  57  58  59  60  61  62  63  64  65  66  67  68  69  70  71\n",
      "  72  73  74  75  76  77  78  79  80  81  82  83  84  85  86  87  88  89\n",
      "  90  91  92  93  94  95  96  97  98  99 100 101 102 103 104 105 106 107\n",
      " 108 109 110 111 112 113 114 115 116 117 118 119 120 121 122 123 124 125\n",
      " 126 127 128 129 130 131 132 133 134 135 136 137 138 139 140 141 142 143\n",
      " 144 145 146 147 148 149 150 151 152 153 154 155 156 157 158 159 160 161\n",
      " 162 163 164 165 166 167 168 169 170 171 172 173 174 175 176 177] [ 0  1  2  3  4  5  6  7  8  9 10 11 12 13 14 15 16 17]\n",
      "[  0   1   2   3   4   5   6   7   8   9  10  11  12  13  14  15  16  17\n",
      "  36  37  38  39  40  41  42  43  44  45  46  47  48  49  50  51  52  53\n",
      "  54  55  56  57  58  59  60  61  62  63  64  65  66  67  68  69  70  71\n",
      "  72  73  74  75  76  77  78  79  80  81  82  83  84  85  86  87  88  89\n",
      "  90  91  92  93  94  95  96  97  98  99 100 101 102 103 104 105 106 107\n",
      " 108 109 110 111 112 113 114 115 116 117 118 119 120 121 122 123 124 125\n",
      " 126 127 128 129 130 131 132 133 134 135 136 137 138 139 140 141 142 143\n",
      " 144 145 146 147 148 149 150 151 152 153 154 155 156 157 158 159 160 161\n",
      " 162 163 164 165 166 167 168 169 170 171 172 173 174 175 176 177] [18 19 20 21 22 23 24 25 26 27 28 29 30 31 32 33 34 35]\n",
      "[  0   1   2   3   4   5   6   7   8   9  10  11  12  13  14  15  16  17\n",
      "  18  19  20  21  22  23  24  25  26  27  28  29  30  31  32  33  34  35\n",
      "  54  55  56  57  58  59  60  61  62  63  64  65  66  67  68  69  70  71\n",
      "  72  73  74  75  76  77  78  79  80  81  82  83  84  85  86  87  88  89\n",
      "  90  91  92  93  94  95  96  97  98  99 100 101 102 103 104 105 106 107\n",
      " 108 109 110 111 112 113 114 115 116 117 118 119 120 121 122 123 124 125\n",
      " 126 127 128 129 130 131 132 133 134 135 136 137 138 139 140 141 142 143\n",
      " 144 145 146 147 148 149 150 151 152 153 154 155 156 157 158 159 160 161\n",
      " 162 163 164 165 166 167 168 169 170 171 172 173 174 175 176 177] [36 37 38 39 40 41 42 43 44 45 46 47 48 49 50 51 52 53]\n",
      "[  0   1   2   3   4   5   6   7   8   9  10  11  12  13  14  15  16  17\n",
      "  18  19  20  21  22  23  24  25  26  27  28  29  30  31  32  33  34  35\n",
      "  36  37  38  39  40  41  42  43  44  45  46  47  48  49  50  51  52  53\n",
      "  72  73  74  75  76  77  78  79  80  81  82  83  84  85  86  87  88  89\n",
      "  90  91  92  93  94  95  96  97  98  99 100 101 102 103 104 105 106 107\n",
      " 108 109 110 111 112 113 114 115 116 117 118 119 120 121 122 123 124 125\n",
      " 126 127 128 129 130 131 132 133 134 135 136 137 138 139 140 141 142 143\n",
      " 144 145 146 147 148 149 150 151 152 153 154 155 156 157 158 159 160 161\n",
      " 162 163 164 165 166 167 168 169 170 171 172 173 174 175 176 177] [54 55 56 57 58 59 60 61 62 63 64 65 66 67 68 69 70 71]\n",
      "[  0   1   2   3   4   5   6   7   8   9  10  11  12  13  14  15  16  17\n",
      "  18  19  20  21  22  23  24  25  26  27  28  29  30  31  32  33  34  35\n",
      "  36  37  38  39  40  41  42  43  44  45  46  47  48  49  50  51  52  53\n",
      "  54  55  56  57  58  59  60  61  62  63  64  65  66  67  68  69  70  71\n",
      "  90  91  92  93  94  95  96  97  98  99 100 101 102 103 104 105 106 107\n",
      " 108 109 110 111 112 113 114 115 116 117 118 119 120 121 122 123 124 125\n",
      " 126 127 128 129 130 131 132 133 134 135 136 137 138 139 140 141 142 143\n",
      " 144 145 146 147 148 149 150 151 152 153 154 155 156 157 158 159 160 161\n",
      " 162 163 164 165 166 167 168 169 170 171 172 173 174 175 176 177] [72 73 74 75 76 77 78 79 80 81 82 83 84 85 86 87 88 89]\n",
      "[  0   1   2   3   4   5   6   7   8   9  10  11  12  13  14  15  16  17\n",
      "  18  19  20  21  22  23  24  25  26  27  28  29  30  31  32  33  34  35\n",
      "  36  37  38  39  40  41  42  43  44  45  46  47  48  49  50  51  52  53\n",
      "  54  55  56  57  58  59  60  61  62  63  64  65  66  67  68  69  70  71\n",
      "  72  73  74  75  76  77  78  79  80  81  82  83  84  85  86  87  88  89\n",
      " 108 109 110 111 112 113 114 115 116 117 118 119 120 121 122 123 124 125\n",
      " 126 127 128 129 130 131 132 133 134 135 136 137 138 139 140 141 142 143\n",
      " 144 145 146 147 148 149 150 151 152 153 154 155 156 157 158 159 160 161\n",
      " 162 163 164 165 166 167 168 169 170 171 172 173 174 175 176 177] [ 90  91  92  93  94  95  96  97  98  99 100 101 102 103 104 105 106 107]\n",
      "[  0   1   2   3   4   5   6   7   8   9  10  11  12  13  14  15  16  17\n",
      "  18  19  20  21  22  23  24  25  26  27  28  29  30  31  32  33  34  35\n",
      "  36  37  38  39  40  41  42  43  44  45  46  47  48  49  50  51  52  53\n",
      "  54  55  56  57  58  59  60  61  62  63  64  65  66  67  68  69  70  71\n",
      "  72  73  74  75  76  77  78  79  80  81  82  83  84  85  86  87  88  89\n",
      "  90  91  92  93  94  95  96  97  98  99 100 101 102 103 104 105 106 107\n",
      " 126 127 128 129 130 131 132 133 134 135 136 137 138 139 140 141 142 143\n",
      " 144 145 146 147 148 149 150 151 152 153 154 155 156 157 158 159 160 161\n",
      " 162 163 164 165 166 167 168 169 170 171 172 173 174 175 176 177] [108 109 110 111 112 113 114 115 116 117 118 119 120 121 122 123 124 125]\n",
      "[  0   1   2   3   4   5   6   7   8   9  10  11  12  13  14  15  16  17\n",
      "  18  19  20  21  22  23  24  25  26  27  28  29  30  31  32  33  34  35\n",
      "  36  37  38  39  40  41  42  43  44  45  46  47  48  49  50  51  52  53\n",
      "  54  55  56  57  58  59  60  61  62  63  64  65  66  67  68  69  70  71\n",
      "  72  73  74  75  76  77  78  79  80  81  82  83  84  85  86  87  88  89\n",
      "  90  91  92  93  94  95  96  97  98  99 100 101 102 103 104 105 106 107\n",
      " 108 109 110 111 112 113 114 115 116 117 118 119 120 121 122 123 124 125\n",
      " 144 145 146 147 148 149 150 151 152 153 154 155 156 157 158 159 160 161\n",
      " 162 163 164 165 166 167 168 169 170 171 172 173 174 175 176 177] [126 127 128 129 130 131 132 133 134 135 136 137 138 139 140 141 142 143]\n",
      "[  0   1   2   3   4   5   6   7   8   9  10  11  12  13  14  15  16  17\n",
      "  18  19  20  21  22  23  24  25  26  27  28  29  30  31  32  33  34  35\n",
      "  36  37  38  39  40  41  42  43  44  45  46  47  48  49  50  51  52  53\n",
      "  54  55  56  57  58  59  60  61  62  63  64  65  66  67  68  69  70  71\n",
      "  72  73  74  75  76  77  78  79  80  81  82  83  84  85  86  87  88  89\n",
      "  90  91  92  93  94  95  96  97  98  99 100 101 102 103 104 105 106 107\n",
      " 108 109 110 111 112 113 114 115 116 117 118 119 120 121 122 123 124 125\n",
      " 126 127 128 129 130 131 132 133 134 135 136 137 138 139 140 141 142 143\n",
      " 161 162 163 164 165 166 167 168 169 170 171 172 173 174 175 176 177] [144 145 146 147 148 149 150 151 152 153 154 155 156 157 158 159 160]\n",
      "[  0   1   2   3   4   5   6   7   8   9  10  11  12  13  14  15  16  17\n",
      "  18  19  20  21  22  23  24  25  26  27  28  29  30  31  32  33  34  35\n",
      "  36  37  38  39  40  41  42  43  44  45  46  47  48  49  50  51  52  53\n",
      "  54  55  56  57  58  59  60  61  62  63  64  65  66  67  68  69  70  71\n",
      "  72  73  74  75  76  77  78  79  80  81  82  83  84  85  86  87  88  89\n",
      "  90  91  92  93  94  95  96  97  98  99 100 101 102 103 104 105 106 107\n",
      " 108 109 110 111 112 113 114 115 116 117 118 119 120 121 122 123 124 125\n",
      " 126 127 128 129 130 131 132 133 134 135 136 137 138 139 140 141 142 143\n",
      " 144 145 146 147 148 149 150 151 152 153 154 155 156 157 158 159 160] [161 162 163 164 165 166 167 168 169 170 171 172 173 174 175 176 177]\n"
     ]
    }
   ],
   "source": [
    "X = data\n",
    "kf = KFold(n_splits=10)\n",
    "for train, test in kf.split(X):\n",
    "    print(\"%s %s\" % (train, test))"
   ]
  },
  {
   "cell_type": "code",
   "execution_count": 19,
   "id": "0483dd81",
   "metadata": {},
   "outputs": [
    {
     "data": {
      "text/plain": [
       "array([1.        , 0.94444444, 0.88888889, 0.77777778, 0.77777778,\n",
       "       1.        , 0.88888889, 0.44444444, 1.        , 0.82352941])"
      ]
     },
     "execution_count": 19,
     "metadata": {},
     "output_type": "execute_result"
    }
   ],
   "source": [
    "kf = KFold(n_splits=10)\n",
    "scores = cross_val_score(KNeighborsClassifier(n_neighbors=13), \n",
    "                         x, y, scoring='accuracy', \n",
    "                         cv=kf)\n",
    "scores"
   ]
  },
  {
   "cell_type": "code",
   "execution_count": 20,
   "id": "b4e28fcd",
   "metadata": {},
   "outputs": [
    {
     "data": {
      "text/plain": [
       "{'fit_time': array([0.00158596, 0.00122786, 0.00096488, 0.00090909, 0.000911  ,\n",
       "        0.00097299, 0.00092697, 0.00091195, 0.000916  , 0.00106096]),\n",
       " 'score_time': array([0.00251007, 0.00188398, 0.00130892, 0.00129294, 0.00128102,\n",
       "        0.00133204, 0.00139809, 0.00127816, 0.00128102, 0.00137115]),\n",
       " 'test_score': array([1.        , 0.94444444, 0.88888889, 0.77777778, 0.77777778,\n",
       "        1.        , 0.88888889, 0.44444444, 1.        , 0.82352941]),\n",
       " 'train_score': array([0.88125   , 0.89375   , 0.90625   , 0.9125    , 0.90625   ,\n",
       "        0.9       , 0.9125    , 0.925     , 0.8757764 , 0.88819876])}"
      ]
     },
     "execution_count": 20,
     "metadata": {},
     "output_type": "execute_result"
    }
   ],
   "source": [
    "kf = KFold(n_splits=10)\n",
    "scores = cross_validate(KNeighborsClassifier(n_neighbors=13), \n",
    "                        x, y, scoring='accuracy', \n",
    "                        cv=kf, return_train_score=True)\n",
    "scores"
   ]
  },
  {
   "cell_type": "markdown",
   "id": "02f5ef0d",
   "metadata": {},
   "source": [
    "#### ShuffleSplit"
   ]
  },
  {
   "cell_type": "code",
   "execution_count": 21,
   "id": "8c3ef790",
   "metadata": {},
   "outputs": [
    {
     "name": "stdout",
     "output_type": "stream",
     "text": [
      "[ 80  52 159  25 169   2 177  26  89  83  34  66  72  98 161  45 113  38\n",
      "   5 160  94  41 103  99  28  37 127  13  55 114  50  48 145 174 147 117\n",
      " 156  79  39   6  33  40 155  67   1 101 137 110  76 168 132  14 151 176\n",
      "  32  68 116  36  65  51   9  75  81 108 107  47  43  27  53 102  70 130\n",
      " 171   7  64  44 128  16 141 166  11   0  15 153 122  73 105 163 170  35\n",
      " 144  63  21  92 164  85  17 119  96 112  62  42 109  87  19 123 133  18\n",
      "   8   3 167 118 162  57 125 139 143  22 124 100  56  82  23 149 115  60\n",
      "  20 148  29 135  88  58 136] [106  93 173 154 157 175 104  12  74 111  49 126  95  54  86 129  30 150\n",
      " 142 140  46  61  91  77  69 172  78 165 120  59 121  84 158   4 134  10\n",
      "  31 138  90 146  24 131 152  97  71]\n",
      "[140  19  83  91  60  67 102 174  81  28  11  69  53 131  77   1 114  23\n",
      "  33   2  88 159 117  71  55 137 130  95 133  62 172  45  20  37  30  61\n",
      "  51  82  21  27 169  42  52 123 136  16  87 170 165 148 101  73 121 151\n",
      " 153  50 163 132  35 168  24 120  32 138 128   6  57  15 107   0  96  65\n",
      " 143  89 106 105 108 145 141  76 122 171  25  75   9 166 104 154 150  10\n",
      "  34   4  46  63  38 142  36 116  18  85  39 160 125  97 118  84  90  68\n",
      "   8  59  64   7 111 161 156 157 177  47 155  14  54 173 167  56 134 113\n",
      " 109 110 103 139  40 149 162] [135  98 176  17 152  94  66   5  79 164   3  93 119  26 147  92  31 112\n",
      "  72 144  12  78  86 127 158 100  41  70  99  80 126 115 129  74  43  13\n",
      " 124 175  58 146  22  48  49  44  29]\n",
      "[111 151 112  72  30 134 131  45  96  19  26 117   4  89  68  62 172 162\n",
      " 139  64  58 174  46  14 120  59  53 142 107  87 154 101 105  34  80 163\n",
      " 173  23 137  74 116  92 153  55  51 145 119 135  20 136  60 114 168 138\n",
      "  82  91  90  67 126  10 175 125 104  84  13  39 146  56 106 158  17   5\n",
      "  83 159  43 129 164  27  52  54  94  63  81  69   6  79 157  71  86  66\n",
      "   1 100  32 141  28 143  31  49 144  75  93 165  70  65  85 122  33 176\n",
      " 133  40 123   8  98 128 140  41 124 127  61  48   0  38  35 115 110 102\n",
      " 152  44  12 109  99  16  36] [108 169 149 161 132 156  95   3  29  47  57  78   2 160   7  76  73 150\n",
      " 130  50 148  11   9 171  22  97 103  25 166 121  21  88 147 118 155  42\n",
      "  15 170 113 177  18 167  24  77  37]\n",
      "[165  13  71 173  67 111  38 141 100  90 102 156  62 130  66 126 163 167\n",
      "  60 118  89  33  88 162 176  15 124  70 122  31 150  19  35  76  43 132\n",
      "  82  50 147  63  92 157  61 149 133 153   6  79 127  52 108  14   8  77\n",
      "  40 140  10  29  20 106  86  42   5 135  47 139 104 131  45 121 158 113\n",
      " 170  83 112 137  44 105  84  37  57 115  69 123  74 128  51  78  75 129\n",
      "  34  99  46 161  93  73 109  32   9 168 146  18  64  30  98 119   7  97\n",
      " 138  59  28 120   3  87  24  56  27 103 114  16  94 159  36 117  26  39\n",
      "  23  21  49 136  91  95 169] [ 22  65  85 160  41   0 175 154  81 164 145 171 166 155 151  72  48  55\n",
      "  68   2 172 101 116  53  58  25  11 143 107 148  54 174  12   1 125 110\n",
      " 177 142 152  80 144   4  17  96 134]\n",
      "[115  33  11  59  88   2 136 103  31  13 167 157 105  61  57  93  16 155\n",
      " 171 128   3  14  19  74  49  55  70 130  65 142  64 169  44 118  71  66\n",
      "  90 175  89  94  40 147  58  91  96  48 166   1  80  10  38 172 101 112\n",
      "  26  45 110 154 148 140  69  87  21  54 150  41 149  67 111  77  43 159\n",
      " 117 145  68  83  79 102  60 151 139  12  23  63 144  78 168  98 122 109\n",
      "  22  15   7  34  62 132  17  97   6  76  56  84 120 134 173 121 119  42\n",
      "  46  29 138 162   5 129  20  32  51 176 108   4 127 125  47 152  92  86\n",
      "  36 170 135  75  85 137  72] [114 160 141  50 104   0  25  73 100 126  82 123 158  28  52  39 146 156\n",
      "  37 165 107 113  30 177 164 106 143 153  95  24 124   8 174  81 161   9\n",
      "  27 163  99 116  53 131 133  35  18]\n",
      "[ 32 131 166  36 148  71  96 164 103  16  74  63 124 156 143 105  87 135\n",
      "  45   2  97  57 161   1   8  29 121  14 170 174 139  30  75   5 117   7\n",
      " 155  27  28 152 137  73 104  70  15  37 141  26 167  51  39  24 132 110\n",
      "  90  76 146  10  92  12  67  61 149  40 118 136  81   4  99  13  35 171\n",
      " 172 102  42 113 112 158 126 111 134  43   9  52  88  49  56   6  47  33\n",
      "  58 150 163   3 109  64 153  95 157  80  38 127 142  59  44 119 140  54\n",
      " 125  53  46 107  86  19  50  94 115 123  72  65  89 106 159  82  18 175\n",
      "  77  11  84  48 147  23 160] [ 55  22 130 122 114  41 173  17  20 154  25  62  66 151 177 162  83 145\n",
      "  85  79 120  98 101 116 108  91  34  21 100  68 169 138 165  78  93 144\n",
      "  69 129 176  60 133  31 168   0 128]\n",
      "[128 136  88 170 155  27  65 124  80  89 104 123  59  62 107   7 161 162\n",
      "  36 110  91  45  94 151 111  44 139  69 142  99  87   5  37 173 100 146\n",
      "  21  50 163 120 137 127 174  55  67  23 101  12  81  63 105  71  78  24\n",
      "  82 103  93  72 141  77  39  66  48  83 131  58  68  60  53  40 130  35\n",
      "  17 167  79 154 164  14  47 168  74 159  22  84  97  73  56 140 149 166\n",
      " 176  10 109  38 145  19 144  32 122 135 171 156  18  61 138  34  11  29\n",
      "  52  57  64 153 134 157   4  15  13 115 126  20  33 125  54 129   9  25\n",
      " 150   0  51  43 160 114 172] [ 90 143 116 119 133  76 113   3 108  96 169  70 158 175 177 147 132  28\n",
      "  95  85 152 112   8  49 102 106   2 118  16  75  86 121  26 117 165  92\n",
      "  98 148  42   6   1  30  31  46  41]\n",
      "[ 82 155  91  48  12   3  77 124  10  54  18  40  26  46  50 164  80 141\n",
      " 172 154  22 159  70 166 150 149  99 121  21 109  51  20 116  35 151 174\n",
      "  84  55 146   4  47  19   7 131  63   9 157  44   5  88   2  81  17  72\n",
      " 139 113   8 117 152 162 156  30 134 142 107  56 112  36  89  49  97 168\n",
      " 111  61 140  24  38 143 163 158 110  79 167  57 161 169 102  58  71 160\n",
      "  32 118  76 170 153  83  78  60  25  23 177  85 126 123  62  95  67  53\n",
      "   6  13 132  33  73 144  59 125 104 114 127 133 100 106 137  90  11 101\n",
      " 171 145   0 136  41 176 108] [ 86  93  16 129  15  28  98  45 115  74  34  96 165 128 103  14  42 119\n",
      " 147  92  27 135  94 122 105  65  43  66  52 173  75  39 130  68  64 175\n",
      " 120  87 148  37 138   1  69  31  29]\n",
      "[100 105 103 131 114 136  61  42 155 123 108  76  82  10  60  88   6  71\n",
      "  15 106 154   2  75  63  65 177  44 116  92 126 167  31  17  50  80  68\n",
      "  26  73  30 112  27  85  56 144 141 124 147  67  24  19 117   9 162 164\n",
      "  98 151  21 150 120 104 139  36  86 130 122 115  95  28  43   8  97  78\n",
      " 133 148 134 140 113 145 149 135  79  54  38 121  39 166 118 107 163 160\n",
      "  34  46 128  58   1  23 109 157  64  13 172  20  87  91  12  25 102 170\n",
      " 137  35  37  55  99  45 153 168 143 138 158 132 173 169  62 119 175 174\n",
      " 111  93   3  77  18  49  83] [161  51  40 127  11  33  14   5  66   4 152 176  41 165  70 129  84  29\n",
      "  89  48 159 142  74  52  90 125  72 156   7 110  94  81   0  22  57  47\n",
      "  59 146  53  16  69  32  96 171 101]\n",
      "[ 57 124 168  48 117 141 138  12 123  24  23  21  77  33  89 119 101 132\n",
      "  50 175  55 158 172 167 166 146 103  92  70   5  43 118 171   1  40  39\n",
      " 134  17  54  99 139 100  68 108 113  46  79  98  27  96  34  85 127 150\n",
      "   6 121 128 125  84  94 177  75 112 130  19  97 170 106  58 147   2 152\n",
      "   4 109  88  87  32  13  72  14 149  95 129  36  10 110  56  74 154  59\n",
      "  90 148 164 143 105 114 163  80  73  71  18  15 115  63 102  20  52 144\n",
      "  37 162 116 120  29 107 122  44  67 173   7  60  26 140  35 157  82  86\n",
      "  22  30  16 174 142  61  49] [ 38 131  91  47   8  66 135 126  65 153 151  42 136  31 176  45  25  62\n",
      " 169  69 155 145  51  78 165  11 137  81  93  53  64  83 156 161   9   0\n",
      " 111  76 104   3 159 133  28 160  41]\n"
     ]
    }
   ],
   "source": [
    "X = data\n",
    "# Эквивалент KFold(n_splits=n)\n",
    "kf = ShuffleSplit(n_splits=10, test_size=0.25)\n",
    "for train, test in kf.split(X):\n",
    "    print(\"%s %s\" % (train, test))"
   ]
  },
  {
   "cell_type": "code",
   "execution_count": 22,
   "id": "f95469f3",
   "metadata": {},
   "outputs": [
    {
     "data": {
      "text/plain": [
       "array([0.91111111, 0.86666667, 0.91111111, 0.86666667, 0.84444444,\n",
       "       0.91111111, 0.88888889, 0.86666667, 0.91111111, 0.93333333])"
      ]
     },
     "execution_count": 22,
     "metadata": {},
     "output_type": "execute_result"
    }
   ],
   "source": [
    "kf = ShuffleSplit(n_splits=10, test_size=0.25)\n",
    "scores = cross_val_score(KNeighborsClassifier(n_neighbors=13), \n",
    "                         x, y, scoring='accuracy', \n",
    "                         cv=kf)\n",
    "scores"
   ]
  },
  {
   "cell_type": "code",
   "execution_count": 23,
   "id": "af8e7b4e",
   "metadata": {},
   "outputs": [
    {
     "data": {
      "text/plain": [
       "{'fit_time': array([0.00158906, 0.00115108, 0.00091195, 0.00154209, 0.00096297,\n",
       "        0.00114989, 0.00096989, 0.0009079 , 0.00104809, 0.00095606]),\n",
       " 'score_time': array([0.00360298, 0.00205302, 0.00184298, 0.00197792, 0.00187302,\n",
       "        0.00240898, 0.00179625, 0.00195622, 0.00184774, 0.00179505]),\n",
       " 'test_score': array([0.93333333, 0.88888889, 0.91111111, 0.84444444, 0.91111111,\n",
       "        0.91111111, 0.82222222, 0.86666667, 0.93333333, 0.86666667]),\n",
       " 'train_score': array([0.87969925, 0.89473684, 0.89473684, 0.90225564, 0.87218045,\n",
       "        0.90225564, 0.90977444, 0.89473684, 0.88721805, 0.89473684])}"
      ]
     },
     "execution_count": 23,
     "metadata": {},
     "output_type": "execute_result"
    }
   ],
   "source": [
    "kf = ShuffleSplit(n_splits=10, test_size=0.25)\n",
    "scores = cross_validate(KNeighborsClassifier(n_neighbors=13), \n",
    "                        x, y, scoring='accuracy', \n",
    "                        cv=kf, return_train_score=True)\n",
    "scores"
   ]
  }
 ],
 "metadata": {
  "kernelspec": {
   "display_name": "Python 3 (ipykernel)",
   "language": "python",
   "name": "python3"
  },
  "language_info": {
   "codemirror_mode": {
    "name": "ipython",
    "version": 3
   },
   "file_extension": ".py",
   "mimetype": "text/x-python",
   "name": "python",
   "nbconvert_exporter": "python",
   "pygments_lexer": "ipython3",
   "version": "3.9.7"
  }
 },
 "nbformat": 4,
 "nbformat_minor": 5
}
