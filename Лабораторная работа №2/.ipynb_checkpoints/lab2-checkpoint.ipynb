{
 "cells": [
  {
   "cell_type": "markdown",
   "id": "06c3ac40",
   "metadata": {},
   "source": [
    "# Обработка пропусков в данных, кодирование категориальных признаков, масштабирование данных"
   ]
  },
  {
   "cell_type": "code",
   "execution_count": 1,
   "id": "7b89ec1d",
   "metadata": {},
   "outputs": [],
   "source": [
    "import numpy as np\n",
    "import pandas as pd\n",
    "import seaborn as sns\n",
    "import matplotlib.pyplot as plt\n",
    "%matplotlib inline \n",
    "sns.set(style=\"ticks\")"
   ]
  },
  {
   "cell_type": "markdown",
   "id": "8b271dbe",
   "metadata": {},
   "source": [
    "## Загрузка и первичный анализ данных"
   ]
  },
  {
   "cell_type": "markdown",
   "id": "526162f6",
   "metadata": {},
   "source": [
    "Используем данные из соревнования Top 100 popular movies from 2003 to 2022 (iMDB)\n",
    "https://www.kaggle.com/datasets/georgescutelnicu/top-100-popular-movies-from-2003-to-2022-imdb"
   ]
  },
  {
   "cell_type": "code",
   "execution_count": 2,
   "id": "41ec8453",
   "metadata": {},
   "outputs": [],
   "source": [
    "data = pd.read_csv('data/movies.csv', sep=\";\")"
   ]
  },
  {
   "cell_type": "code",
   "execution_count": 3,
   "id": "9cbcf11e",
   "metadata": {},
   "outputs": [
    {
     "data": {
      "text/plain": [
       "(2000, 11)"
      ]
     },
     "execution_count": 3,
     "metadata": {},
     "output_type": "execute_result"
    }
   ],
   "source": [
    "# размер набора данных\n",
    "data.shape"
   ]
  },
  {
   "cell_type": "code",
   "execution_count": 4,
   "id": "11818285",
   "metadata": {},
   "outputs": [
    {
     "data": {
      "text/plain": [
       "Title                 object\n",
       "Rating               float64\n",
       "Year                   int64\n",
       "Month                 object\n",
       "Certificate           object\n",
       "Runtime              float64\n",
       "Directors             object\n",
       "Stars                 object\n",
       "Genre                 object\n",
       "Filming_location      object\n",
       "Country_of_origin     object\n",
       "dtype: object"
      ]
     },
     "execution_count": 4,
     "metadata": {},
     "output_type": "execute_result"
    }
   ],
   "source": [
    "# типы колонок\n",
    "data.dtypes"
   ]
  },
  {
   "cell_type": "code",
   "execution_count": 5,
   "id": "f1082591",
   "metadata": {},
   "outputs": [
    {
     "data": {
      "text/plain": [
       "Title                 0\n",
       "Rating                1\n",
       "Year                  0\n",
       "Month                 0\n",
       "Certificate          34\n",
       "Runtime               2\n",
       "Directors             0\n",
       "Stars                 0\n",
       "Genre                 0\n",
       "Filming_location      0\n",
       "Country_of_origin     0\n",
       "dtype: int64"
      ]
     },
     "execution_count": 5,
     "metadata": {},
     "output_type": "execute_result"
    }
   ],
   "source": [
    "# проверка на пропущенные значения\n",
    "data.isnull().sum()"
   ]
  },
  {
   "cell_type": "code",
   "execution_count": 6,
   "id": "829f86ba",
   "metadata": {},
   "outputs": [
    {
     "data": {
      "text/html": [
       "<div>\n",
       "<style scoped>\n",
       "    .dataframe tbody tr th:only-of-type {\n",
       "        vertical-align: middle;\n",
       "    }\n",
       "\n",
       "    .dataframe tbody tr th {\n",
       "        vertical-align: top;\n",
       "    }\n",
       "\n",
       "    .dataframe thead th {\n",
       "        text-align: right;\n",
       "    }\n",
       "</style>\n",
       "<table border=\"1\" class=\"dataframe\">\n",
       "  <thead>\n",
       "    <tr style=\"text-align: right;\">\n",
       "      <th></th>\n",
       "      <th>Title</th>\n",
       "      <th>Rating</th>\n",
       "      <th>Year</th>\n",
       "      <th>Month</th>\n",
       "      <th>Certificate</th>\n",
       "      <th>Runtime</th>\n",
       "      <th>Directors</th>\n",
       "      <th>Stars</th>\n",
       "      <th>Genre</th>\n",
       "      <th>Filming_location</th>\n",
       "      <th>Country_of_origin</th>\n",
       "    </tr>\n",
       "  </thead>\n",
       "  <tbody>\n",
       "    <tr>\n",
       "      <th>0</th>\n",
       "      <td>Avatar: The Way of Water</td>\n",
       "      <td>7.8</td>\n",
       "      <td>2022</td>\n",
       "      <td>December</td>\n",
       "      <td>PG-13</td>\n",
       "      <td>192.0</td>\n",
       "      <td>James Cameron</td>\n",
       "      <td>Sam Worthington, Zoe Saldana, Sigourney Weaver...</td>\n",
       "      <td>Action, Adventure, Fantasy</td>\n",
       "      <td>New Zealand</td>\n",
       "      <td>United States</td>\n",
       "    </tr>\n",
       "    <tr>\n",
       "      <th>1</th>\n",
       "      <td>Guillermo del Toro's Pinocchio</td>\n",
       "      <td>7.6</td>\n",
       "      <td>2022</td>\n",
       "      <td>December</td>\n",
       "      <td>PG</td>\n",
       "      <td>117.0</td>\n",
       "      <td>Guillermo del Toro, Mark Gustafson</td>\n",
       "      <td>Ewan McGregor, David Bradley, Gregory Mann, Bu...</td>\n",
       "      <td>Animation, Drama, Family</td>\n",
       "      <td>USA</td>\n",
       "      <td>United States, Mexico, France</td>\n",
       "    </tr>\n",
       "    <tr>\n",
       "      <th>2</th>\n",
       "      <td>Bullet Train</td>\n",
       "      <td>7.3</td>\n",
       "      <td>2022</td>\n",
       "      <td>August</td>\n",
       "      <td>R</td>\n",
       "      <td>127.0</td>\n",
       "      <td>David Leitch</td>\n",
       "      <td>Brad Pitt, Joey King, Aaron Taylor Johnson, Br...</td>\n",
       "      <td>Action, Comedy, Thriller</td>\n",
       "      <td>Japan</td>\n",
       "      <td>Japan, United States</td>\n",
       "    </tr>\n",
       "    <tr>\n",
       "      <th>3</th>\n",
       "      <td>The Banshees of Inisherin</td>\n",
       "      <td>7.8</td>\n",
       "      <td>2022</td>\n",
       "      <td>November</td>\n",
       "      <td>R</td>\n",
       "      <td>114.0</td>\n",
       "      <td>Martin McDonagh</td>\n",
       "      <td>Colin Farrell, Brendan Gleeson, Kerry Condon, ...</td>\n",
       "      <td>Comedy, Drama</td>\n",
       "      <td>Ireland</td>\n",
       "      <td>Ireland, United Kingdom, United States</td>\n",
       "    </tr>\n",
       "    <tr>\n",
       "      <th>4</th>\n",
       "      <td>M3gan</td>\n",
       "      <td>6.4</td>\n",
       "      <td>2022</td>\n",
       "      <td>December</td>\n",
       "      <td>PG-13</td>\n",
       "      <td>102.0</td>\n",
       "      <td>Gerard Johnstone</td>\n",
       "      <td>Jenna Davis, Amie Donald, Allison Williams, Vi...</td>\n",
       "      <td>Horror, Sci-Fi, Thriller</td>\n",
       "      <td>New Zealand</td>\n",
       "      <td>United States</td>\n",
       "    </tr>\n",
       "  </tbody>\n",
       "</table>\n",
       "</div>"
      ],
      "text/plain": [
       "                            Title  Rating  Year     Month Certificate  \\\n",
       "0        Avatar: The Way of Water     7.8  2022  December       PG-13   \n",
       "1  Guillermo del Toro's Pinocchio     7.6  2022  December          PG   \n",
       "2                    Bullet Train     7.3  2022    August           R   \n",
       "3       The Banshees of Inisherin     7.8  2022  November           R   \n",
       "4                           M3gan     6.4  2022  December       PG-13   \n",
       "\n",
       "   Runtime                           Directors  \\\n",
       "0    192.0                       James Cameron   \n",
       "1    117.0  Guillermo del Toro, Mark Gustafson   \n",
       "2    127.0                        David Leitch   \n",
       "3    114.0                     Martin McDonagh   \n",
       "4    102.0                    Gerard Johnstone   \n",
       "\n",
       "                                               Stars  \\\n",
       "0  Sam Worthington, Zoe Saldana, Sigourney Weaver...   \n",
       "1  Ewan McGregor, David Bradley, Gregory Mann, Bu...   \n",
       "2  Brad Pitt, Joey King, Aaron Taylor Johnson, Br...   \n",
       "3  Colin Farrell, Brendan Gleeson, Kerry Condon, ...   \n",
       "4  Jenna Davis, Amie Donald, Allison Williams, Vi...   \n",
       "\n",
       "                        Genre Filming_location  \\\n",
       "0  Action, Adventure, Fantasy      New Zealand   \n",
       "1    Animation, Drama, Family              USA   \n",
       "2    Action, Comedy, Thriller            Japan   \n",
       "3               Comedy, Drama          Ireland   \n",
       "4    Horror, Sci-Fi, Thriller      New Zealand   \n",
       "\n",
       "                        Country_of_origin  \n",
       "0                           United States  \n",
       "1           United States, Mexico, France  \n",
       "2                    Japan, United States  \n",
       "3  Ireland, United Kingdom, United States  \n",
       "4                           United States  "
      ]
     },
     "execution_count": 6,
     "metadata": {},
     "output_type": "execute_result"
    }
   ],
   "source": [
    "# Первые 5 строк датасета\n",
    "data.head()"
   ]
  },
  {
   "cell_type": "code",
   "execution_count": 7,
   "id": "8098c148",
   "metadata": {},
   "outputs": [
    {
     "name": "stdout",
     "output_type": "stream",
     "text": [
      "Всего строк: 2000\n"
     ]
    }
   ],
   "source": [
    "total_count = data.shape[0]\n",
    "print('Всего строк: {}'.format(total_count))"
   ]
  },
  {
   "cell_type": "markdown",
   "id": "ae6a495a",
   "metadata": {},
   "source": [
    "## Обработка пропусков в данных"
   ]
  },
  {
   "cell_type": "markdown",
   "id": "64b37144",
   "metadata": {},
   "source": [
    "### Обработка пропусков в числовых данных"
   ]
  },
  {
   "cell_type": "code",
   "execution_count": 8,
   "id": "e7e1b78b",
   "metadata": {},
   "outputs": [
    {
     "data": {
      "text/plain": [
       "((2000, 11), (2000, 8))"
      ]
     },
     "execution_count": 8,
     "metadata": {},
     "output_type": "execute_result"
    }
   ],
   "source": [
    "# Удаление колонок, содержащих пустые значения\n",
    "data_new_1 = data.dropna(axis=1, how='any')\n",
    "(data.shape, data_new_1.shape)"
   ]
  },
  {
   "cell_type": "code",
   "execution_count": 9,
   "id": "310911fa",
   "metadata": {},
   "outputs": [
    {
     "data": {
      "text/plain": [
       "((2000, 11), (1965, 11))"
      ]
     },
     "execution_count": 9,
     "metadata": {},
     "output_type": "execute_result"
    }
   ],
   "source": [
    "# Удаление строк, содержащих пустые значения\n",
    "data_new_2 = data.dropna(axis=0, how='any')\n",
    "(data.shape, data_new_2.shape)"
   ]
  },
  {
   "cell_type": "code",
   "execution_count": 10,
   "id": "51c37275",
   "metadata": {},
   "outputs": [
    {
     "data": {
      "text/html": [
       "<div>\n",
       "<style scoped>\n",
       "    .dataframe tbody tr th:only-of-type {\n",
       "        vertical-align: middle;\n",
       "    }\n",
       "\n",
       "    .dataframe tbody tr th {\n",
       "        vertical-align: top;\n",
       "    }\n",
       "\n",
       "    .dataframe thead th {\n",
       "        text-align: right;\n",
       "    }\n",
       "</style>\n",
       "<table border=\"1\" class=\"dataframe\">\n",
       "  <thead>\n",
       "    <tr style=\"text-align: right;\">\n",
       "      <th></th>\n",
       "      <th>Title</th>\n",
       "      <th>Rating</th>\n",
       "      <th>Year</th>\n",
       "      <th>Month</th>\n",
       "      <th>Certificate</th>\n",
       "      <th>Runtime</th>\n",
       "      <th>Directors</th>\n",
       "      <th>Stars</th>\n",
       "      <th>Genre</th>\n",
       "      <th>Filming_location</th>\n",
       "      <th>Country_of_origin</th>\n",
       "    </tr>\n",
       "  </thead>\n",
       "  <tbody>\n",
       "    <tr>\n",
       "      <th>0</th>\n",
       "      <td>Avatar: The Way of Water</td>\n",
       "      <td>7.8</td>\n",
       "      <td>2022</td>\n",
       "      <td>December</td>\n",
       "      <td>PG-13</td>\n",
       "      <td>192.0</td>\n",
       "      <td>James Cameron</td>\n",
       "      <td>Sam Worthington, Zoe Saldana, Sigourney Weaver...</td>\n",
       "      <td>Action, Adventure, Fantasy</td>\n",
       "      <td>New Zealand</td>\n",
       "      <td>United States</td>\n",
       "    </tr>\n",
       "    <tr>\n",
       "      <th>1</th>\n",
       "      <td>Guillermo del Toro's Pinocchio</td>\n",
       "      <td>7.6</td>\n",
       "      <td>2022</td>\n",
       "      <td>December</td>\n",
       "      <td>PG</td>\n",
       "      <td>117.0</td>\n",
       "      <td>Guillermo del Toro, Mark Gustafson</td>\n",
       "      <td>Ewan McGregor, David Bradley, Gregory Mann, Bu...</td>\n",
       "      <td>Animation, Drama, Family</td>\n",
       "      <td>USA</td>\n",
       "      <td>United States, Mexico, France</td>\n",
       "    </tr>\n",
       "    <tr>\n",
       "      <th>2</th>\n",
       "      <td>Bullet Train</td>\n",
       "      <td>7.3</td>\n",
       "      <td>2022</td>\n",
       "      <td>August</td>\n",
       "      <td>R</td>\n",
       "      <td>127.0</td>\n",
       "      <td>David Leitch</td>\n",
       "      <td>Brad Pitt, Joey King, Aaron Taylor Johnson, Br...</td>\n",
       "      <td>Action, Comedy, Thriller</td>\n",
       "      <td>Japan</td>\n",
       "      <td>Japan, United States</td>\n",
       "    </tr>\n",
       "    <tr>\n",
       "      <th>3</th>\n",
       "      <td>The Banshees of Inisherin</td>\n",
       "      <td>7.8</td>\n",
       "      <td>2022</td>\n",
       "      <td>November</td>\n",
       "      <td>R</td>\n",
       "      <td>114.0</td>\n",
       "      <td>Martin McDonagh</td>\n",
       "      <td>Colin Farrell, Brendan Gleeson, Kerry Condon, ...</td>\n",
       "      <td>Comedy, Drama</td>\n",
       "      <td>Ireland</td>\n",
       "      <td>Ireland, United Kingdom, United States</td>\n",
       "    </tr>\n",
       "    <tr>\n",
       "      <th>4</th>\n",
       "      <td>M3gan</td>\n",
       "      <td>6.4</td>\n",
       "      <td>2022</td>\n",
       "      <td>December</td>\n",
       "      <td>PG-13</td>\n",
       "      <td>102.0</td>\n",
       "      <td>Gerard Johnstone</td>\n",
       "      <td>Jenna Davis, Amie Donald, Allison Williams, Vi...</td>\n",
       "      <td>Horror, Sci-Fi, Thriller</td>\n",
       "      <td>New Zealand</td>\n",
       "      <td>United States</td>\n",
       "    </tr>\n",
       "  </tbody>\n",
       "</table>\n",
       "</div>"
      ],
      "text/plain": [
       "                            Title  Rating  Year     Month Certificate  \\\n",
       "0        Avatar: The Way of Water     7.8  2022  December       PG-13   \n",
       "1  Guillermo del Toro's Pinocchio     7.6  2022  December          PG   \n",
       "2                    Bullet Train     7.3  2022    August           R   \n",
       "3       The Banshees of Inisherin     7.8  2022  November           R   \n",
       "4                           M3gan     6.4  2022  December       PG-13   \n",
       "\n",
       "   Runtime                           Directors  \\\n",
       "0    192.0                       James Cameron   \n",
       "1    117.0  Guillermo del Toro, Mark Gustafson   \n",
       "2    127.0                        David Leitch   \n",
       "3    114.0                     Martin McDonagh   \n",
       "4    102.0                    Gerard Johnstone   \n",
       "\n",
       "                                               Stars  \\\n",
       "0  Sam Worthington, Zoe Saldana, Sigourney Weaver...   \n",
       "1  Ewan McGregor, David Bradley, Gregory Mann, Bu...   \n",
       "2  Brad Pitt, Joey King, Aaron Taylor Johnson, Br...   \n",
       "3  Colin Farrell, Brendan Gleeson, Kerry Condon, ...   \n",
       "4  Jenna Davis, Amie Donald, Allison Williams, Vi...   \n",
       "\n",
       "                        Genre Filming_location  \\\n",
       "0  Action, Adventure, Fantasy      New Zealand   \n",
       "1    Animation, Drama, Family              USA   \n",
       "2    Action, Comedy, Thriller            Japan   \n",
       "3               Comedy, Drama          Ireland   \n",
       "4    Horror, Sci-Fi, Thriller      New Zealand   \n",
       "\n",
       "                        Country_of_origin  \n",
       "0                           United States  \n",
       "1           United States, Mexico, France  \n",
       "2                    Japan, United States  \n",
       "3  Ireland, United Kingdom, United States  \n",
       "4                           United States  "
      ]
     },
     "execution_count": 10,
     "metadata": {},
     "output_type": "execute_result"
    }
   ],
   "source": [
    "# Заполнение всех пропущенных значений нулями\n",
    "# В данном случае это некорректно, так как нулями заполняются в том числе категориальные колонки\n",
    "data_new_3 = data.fillna(0)\n",
    "data_new_3.head()"
   ]
  },
  {
   "cell_type": "code",
   "execution_count": 11,
   "id": "8fda16cb",
   "metadata": {},
   "outputs": [
    {
     "name": "stdout",
     "output_type": "stream",
     "text": [
      "Колонка Rating. Тип данных float64. Количество пустых значений 1, 0.05%.\n",
      "Колонка Runtime. Тип данных float64. Количество пустых значений 2, 0.1%.\n"
     ]
    }
   ],
   "source": [
    "# Выберем числовые колонки с пропущенными значениями\n",
    "# Цикл по колонкам датасета\n",
    "num_cols = []\n",
    "for col in data.columns:\n",
    "    # Количество пустых значений \n",
    "    temp_null_count = data[data[col].isnull()].shape[0]\n",
    "    dt = str(data[col].dtype)\n",
    "    if temp_null_count>0 and (dt=='float64' or dt=='int64'):\n",
    "        num_cols.append(col)\n",
    "        temp_perc = round((temp_null_count / total_count) * 100.0, 2)\n",
    "        print('Колонка {}. Тип данных {}. Количество пустых значений {}, {}%.'.format(col, dt, temp_null_count, temp_perc))"
   ]
  },
  {
   "cell_type": "code",
   "execution_count": 12,
   "id": "a739e5ef",
   "metadata": {},
   "outputs": [
    {
     "data": {
      "text/html": [
       "<div>\n",
       "<style scoped>\n",
       "    .dataframe tbody tr th:only-of-type {\n",
       "        vertical-align: middle;\n",
       "    }\n",
       "\n",
       "    .dataframe tbody tr th {\n",
       "        vertical-align: top;\n",
       "    }\n",
       "\n",
       "    .dataframe thead th {\n",
       "        text-align: right;\n",
       "    }\n",
       "</style>\n",
       "<table border=\"1\" class=\"dataframe\">\n",
       "  <thead>\n",
       "    <tr style=\"text-align: right;\">\n",
       "      <th></th>\n",
       "      <th>Rating</th>\n",
       "      <th>Runtime</th>\n",
       "    </tr>\n",
       "  </thead>\n",
       "  <tbody>\n",
       "    <tr>\n",
       "      <th>0</th>\n",
       "      <td>7.8</td>\n",
       "      <td>192.0</td>\n",
       "    </tr>\n",
       "    <tr>\n",
       "      <th>1</th>\n",
       "      <td>7.6</td>\n",
       "      <td>117.0</td>\n",
       "    </tr>\n",
       "    <tr>\n",
       "      <th>2</th>\n",
       "      <td>7.3</td>\n",
       "      <td>127.0</td>\n",
       "    </tr>\n",
       "    <tr>\n",
       "      <th>3</th>\n",
       "      <td>7.8</td>\n",
       "      <td>114.0</td>\n",
       "    </tr>\n",
       "    <tr>\n",
       "      <th>4</th>\n",
       "      <td>6.4</td>\n",
       "      <td>102.0</td>\n",
       "    </tr>\n",
       "    <tr>\n",
       "      <th>...</th>\n",
       "      <td>...</td>\n",
       "      <td>...</td>\n",
       "    </tr>\n",
       "    <tr>\n",
       "      <th>1995</th>\n",
       "      <td>7.1</td>\n",
       "      <td>114.0</td>\n",
       "    </tr>\n",
       "    <tr>\n",
       "      <th>1996</th>\n",
       "      <td>5.5</td>\n",
       "      <td>117.0</td>\n",
       "    </tr>\n",
       "    <tr>\n",
       "      <th>1997</th>\n",
       "      <td>5.8</td>\n",
       "      <td>98.0</td>\n",
       "    </tr>\n",
       "    <tr>\n",
       "      <th>1998</th>\n",
       "      <td>7.1</td>\n",
       "      <td>105.0</td>\n",
       "    </tr>\n",
       "    <tr>\n",
       "      <th>1999</th>\n",
       "      <td>5.8</td>\n",
       "      <td>79.0</td>\n",
       "    </tr>\n",
       "  </tbody>\n",
       "</table>\n",
       "<p>2000 rows × 2 columns</p>\n",
       "</div>"
      ],
      "text/plain": [
       "      Rating  Runtime\n",
       "0        7.8    192.0\n",
       "1        7.6    117.0\n",
       "2        7.3    127.0\n",
       "3        7.8    114.0\n",
       "4        6.4    102.0\n",
       "...      ...      ...\n",
       "1995     7.1    114.0\n",
       "1996     5.5    117.0\n",
       "1997     5.8     98.0\n",
       "1998     7.1    105.0\n",
       "1999     5.8     79.0\n",
       "\n",
       "[2000 rows x 2 columns]"
      ]
     },
     "execution_count": 12,
     "metadata": {},
     "output_type": "execute_result"
    }
   ],
   "source": [
    "# Фильтр по колонкам с пропущенными значениями\n",
    "data_num = data[num_cols]\n",
    "data_num"
   ]
  },
  {
   "cell_type": "code",
   "execution_count": 13,
   "id": "4538d2ce",
   "metadata": {},
   "outputs": [
    {
     "data": {
      "image/png": "[encoded data removed]",
      "text/plain": [
       "<Figure size 640x480 with 1 Axes>"
      ]
     },
     "metadata": {},
     "output_type": "display_data"
    },
    {
     "data": {
      "image/png": "[encoded data removed]",
      "text/plain": [
       "<Figure size 640x480 with 1 Axes>"
      ]
     },
     "metadata": {},
     "output_type": "display_data"
    }
   ],
   "source": [
    "# Гистограмма по признакам\n",
    "for col in data_num:\n",
    "    plt.hist(data[col], 50)\n",
    "    plt.xlabel(col)\n",
    "    plt.show()"
   ]
  },
  {
   "cell_type": "markdown",
   "id": "29ebc72a",
   "metadata": {},
   "source": [
    "Будем использовать встроенные средства импьютации библиотеки scikit-learn - https://scikit-learn.org/stable/modules/impute.html\n",
    "\n",
    "Пропуски данных в колонке Rating заполним на медианное значение, в колонке Runtime - на наиболее повторяющееся"
   ]
  },
  {
   "cell_type": "code",
   "execution_count": 14,
   "id": "6de270f6",
   "metadata": {},
   "outputs": [
    {
     "data": {
      "text/html": [
       "<div>\n",
       "<style scoped>\n",
       "    .dataframe tbody tr th:only-of-type {\n",
       "        vertical-align: middle;\n",
       "    }\n",
       "\n",
       "    .dataframe tbody tr th {\n",
       "        vertical-align: top;\n",
       "    }\n",
       "\n",
       "    .dataframe thead th {\n",
       "        text-align: right;\n",
       "    }\n",
       "</style>\n",
       "<table border=\"1\" class=\"dataframe\">\n",
       "  <thead>\n",
       "    <tr style=\"text-align: right;\">\n",
       "      <th></th>\n",
       "      <th>Rating</th>\n",
       "    </tr>\n",
       "  </thead>\n",
       "  <tbody>\n",
       "    <tr>\n",
       "      <th>0</th>\n",
       "      <td>7.8</td>\n",
       "    </tr>\n",
       "    <tr>\n",
       "      <th>1</th>\n",
       "      <td>7.6</td>\n",
       "    </tr>\n",
       "    <tr>\n",
       "      <th>2</th>\n",
       "      <td>7.3</td>\n",
       "    </tr>\n",
       "    <tr>\n",
       "      <th>3</th>\n",
       "      <td>7.8</td>\n",
       "    </tr>\n",
       "    <tr>\n",
       "      <th>4</th>\n",
       "      <td>6.4</td>\n",
       "    </tr>\n",
       "  </tbody>\n",
       "</table>\n",
       "</div>"
      ],
      "text/plain": [
       "   Rating\n",
       "0     7.8\n",
       "1     7.6\n",
       "2     7.3\n",
       "3     7.8\n",
       "4     6.4"
      ]
     },
     "execution_count": 14,
     "metadata": {},
     "output_type": "execute_result"
    }
   ],
   "source": [
    "data_num_Rating = data_num[['Rating']]\n",
    "data_num_Rating.head()"
   ]
  },
  {
   "cell_type": "code",
   "execution_count": 15,
   "id": "8a045db6",
   "metadata": {},
   "outputs": [],
   "source": [
    "from sklearn.impute import SimpleImputer\n",
    "from sklearn.impute import MissingIndicator"
   ]
  },
  {
   "cell_type": "code",
   "execution_count": 16,
   "id": "64f6effc",
   "metadata": {},
   "outputs": [
    {
     "data": {
      "text/plain": [
       "array([[False],\n",
       "       [False],\n",
       "       [False],\n",
       "       ...,\n",
       "       [False],\n",
       "       [False],\n",
       "       [False]])"
      ]
     },
     "execution_count": 16,
     "metadata": {},
     "output_type": "execute_result"
    }
   ],
   "source": [
    "# Фильтр для проверки заполнения пустых значений\n",
    "indicator = MissingIndicator()\n",
    "mask_missing_Rating_only = indicator.fit_transform(data_num_Rating)\n",
    "mask_missing_Rating_only"
   ]
  },
  {
   "cell_type": "code",
   "execution_count": 17,
   "id": "9caab971",
   "metadata": {},
   "outputs": [
    {
     "data": {
      "text/plain": [
       "array([6.7])"
      ]
     },
     "execution_count": 17,
     "metadata": {},
     "output_type": "execute_result"
    }
   ],
   "source": [
    "imp_num = SimpleImputer(strategy='median')\n",
    "data_num_imp_Rating = imp_num.fit_transform(data_num_Rating)\n",
    "data_num_imp_Rating[mask_missing_Rating_only]"
   ]
  },
  {
   "cell_type": "code",
   "execution_count": 18,
   "id": "a73becc7",
   "metadata": {},
   "outputs": [
    {
     "data": {
      "text/plain": [
       "array([1.9, 2.1, 2.2, 2.4, 2.6, 2.8, 3.3, 3.4, 3.5, 3.6, 3.7, 3.8, 4. ,\n",
       "       4.1, 4.2, 4.3, 4.4, 4.5, 4.6, 4.7, 4.8, 4.9, 5. , 5.1, 5.2, 5.3,\n",
       "       5.4, 5.5, 5.6, 5.7, 5.8, 5.9, 6. , 6.1, 6.2, 6.3, 6.4, 6.5, 6.6,\n",
       "       6.7, 6.8, 6.9, 7. , 7.1, 7.2, 7.3, 7.4, 7.5, 7.6, 7.7, 7.8, 7.9,\n",
       "       8. , 8.1, 8.2, 8.3, 8.4, 8.5, 8.6, 8.8, 9. , 9.6])"
      ]
     },
     "execution_count": 18,
     "metadata": {},
     "output_type": "execute_result"
    }
   ],
   "source": [
    "np.unique(data_num_imp_Rating)"
   ]
  },
  {
   "cell_type": "code",
   "execution_count": 19,
   "id": "cd1bb06c",
   "metadata": {},
   "outputs": [
    {
     "data": {
      "text/html": [
       "<div>\n",
       "<style scoped>\n",
       "    .dataframe tbody tr th:only-of-type {\n",
       "        vertical-align: middle;\n",
       "    }\n",
       "\n",
       "    .dataframe tbody tr th {\n",
       "        vertical-align: top;\n",
       "    }\n",
       "\n",
       "    .dataframe thead th {\n",
       "        text-align: right;\n",
       "    }\n",
       "</style>\n",
       "<table border=\"1\" class=\"dataframe\">\n",
       "  <thead>\n",
       "    <tr style=\"text-align: right;\">\n",
       "      <th></th>\n",
       "      <th>Runtime</th>\n",
       "    </tr>\n",
       "  </thead>\n",
       "  <tbody>\n",
       "    <tr>\n",
       "      <th>0</th>\n",
       "      <td>192.0</td>\n",
       "    </tr>\n",
       "    <tr>\n",
       "      <th>1</th>\n",
       "      <td>117.0</td>\n",
       "    </tr>\n",
       "    <tr>\n",
       "      <th>2</th>\n",
       "      <td>127.0</td>\n",
       "    </tr>\n",
       "    <tr>\n",
       "      <th>3</th>\n",
       "      <td>114.0</td>\n",
       "    </tr>\n",
       "    <tr>\n",
       "      <th>4</th>\n",
       "      <td>102.0</td>\n",
       "    </tr>\n",
       "  </tbody>\n",
       "</table>\n",
       "</div>"
      ],
      "text/plain": [
       "   Runtime\n",
       "0    192.0\n",
       "1    117.0\n",
       "2    127.0\n",
       "3    114.0\n",
       "4    102.0"
      ]
     },
     "execution_count": 19,
     "metadata": {},
     "output_type": "execute_result"
    }
   ],
   "source": [
    "data_num_Runtime = data_num[['Runtime']]\n",
    "data_num_Runtime.head()"
   ]
  },
  {
   "cell_type": "code",
   "execution_count": 20,
   "id": "1e2b6ffd",
   "metadata": {},
   "outputs": [],
   "source": [
    "from sklearn.impute import SimpleImputer\n",
    "from sklearn.impute import MissingIndicator"
   ]
  },
  {
   "cell_type": "code",
   "execution_count": 21,
   "id": "cbf3bc44",
   "metadata": {},
   "outputs": [
    {
     "data": {
      "text/plain": [
       "array([[False],\n",
       "       [False],\n",
       "       [False],\n",
       "       ...,\n",
       "       [False],\n",
       "       [False],\n",
       "       [False]])"
      ]
     },
     "execution_count": 21,
     "metadata": {},
     "output_type": "execute_result"
    }
   ],
   "source": [
    "indicator = MissingIndicator()\n",
    "mask_missing_Runtime_only = indicator.fit_transform(data_num_Runtime)\n",
    "mask_missing_Runtime_only"
   ]
  },
  {
   "cell_type": "code",
   "execution_count": 22,
   "id": "c76e3725",
   "metadata": {},
   "outputs": [
    {
     "data": {
      "text/plain": [
       "array([104., 104.])"
      ]
     },
     "execution_count": 22,
     "metadata": {},
     "output_type": "execute_result"
    }
   ],
   "source": [
    "imp_num = SimpleImputer(strategy='most_frequent')\n",
    "data_num_imp_Runtime = imp_num.fit_transform(data_num_Runtime)\n",
    "data_num_imp_Runtime[mask_missing_Runtime_only]"
   ]
  },
  {
   "cell_type": "code",
   "execution_count": 23,
   "id": "0666e292",
   "metadata": {},
   "outputs": [
    {
     "data": {
      "text/plain": [
       "array([ 50.,  70.,  71.,  75.,  77.,  78.,  79.,  80.,  81.,  82.,  83.,\n",
       "        84.,  85.,  86.,  87.,  88.,  89.,  90.,  91.,  92.,  93.,  94.,\n",
       "        95.,  96.,  97.,  98.,  99., 100., 101., 102., 103., 104., 105.,\n",
       "       106., 107., 108., 109., 110., 111., 112., 113., 114., 115., 116.,\n",
       "       117., 118., 119., 120., 121., 122., 123., 124., 125., 126., 127.,\n",
       "       128., 129., 130., 131., 132., 133., 134., 135., 136., 137., 138.,\n",
       "       139., 140., 141., 142., 143., 144., 145., 146., 147., 148., 149.,\n",
       "       150., 151., 152., 153., 154., 155., 156., 157., 158., 159., 160.,\n",
       "       161., 162., 163., 164., 165., 166., 167., 168., 169., 170., 172.,\n",
       "       175., 176., 178., 179., 180., 181., 187., 188., 191., 192., 201.,\n",
       "       209., 242.])"
      ]
     },
     "execution_count": 23,
     "metadata": {},
     "output_type": "execute_result"
    }
   ],
   "source": [
    "np.unique(data_num_imp_Runtime)"
   ]
  },
  {
   "cell_type": "markdown",
   "id": "8c06d8e6",
   "metadata": {},
   "source": [
    "### Обработка пропусков в категориальных данных"
   ]
  },
  {
   "cell_type": "code",
   "execution_count": 24,
   "id": "d587d05a",
   "metadata": {},
   "outputs": [
    {
     "name": "stdout",
     "output_type": "stream",
     "text": [
      "Колонка Certificate. Тип данных object. Количество пустых значений 34, 1.7%.\n"
     ]
    }
   ],
   "source": [
    "# Выберем категориальные колонки с пропущенными значениями\n",
    "# Цикл по колонкам датасета\n",
    "cat_cols = []\n",
    "for col in data.columns:\n",
    "    # Количество пустых значений \n",
    "    temp_null_count = data[data[col].isnull()].shape[0]\n",
    "    dt = str(data[col].dtype)\n",
    "    if temp_null_count>0 and (dt=='object'):\n",
    "        cat_cols.append(col)\n",
    "        temp_perc = round((temp_null_count / total_count) * 100.0, 2)\n",
    "        print('Колонка {}. Тип данных {}. Количество пустых значений {}, {}%.'.format(col, dt, temp_null_count, temp_perc))"
   ]
  },
  {
   "cell_type": "code",
   "execution_count": 25,
   "id": "0ca2450f",
   "metadata": {},
   "outputs": [
    {
     "data": {
      "text/html": [
       "<div>\n",
       "<style scoped>\n",
       "    .dataframe tbody tr th:only-of-type {\n",
       "        vertical-align: middle;\n",
       "    }\n",
       "\n",
       "    .dataframe tbody tr th {\n",
       "        vertical-align: top;\n",
       "    }\n",
       "\n",
       "    .dataframe thead th {\n",
       "        text-align: right;\n",
       "    }\n",
       "</style>\n",
       "<table border=\"1\" class=\"dataframe\">\n",
       "  <thead>\n",
       "    <tr style=\"text-align: right;\">\n",
       "      <th></th>\n",
       "      <th>Certificate</th>\n",
       "    </tr>\n",
       "  </thead>\n",
       "  <tbody>\n",
       "    <tr>\n",
       "      <th>0</th>\n",
       "      <td>PG-13</td>\n",
       "    </tr>\n",
       "    <tr>\n",
       "      <th>1</th>\n",
       "      <td>PG</td>\n",
       "    </tr>\n",
       "    <tr>\n",
       "      <th>2</th>\n",
       "      <td>R</td>\n",
       "    </tr>\n",
       "    <tr>\n",
       "      <th>3</th>\n",
       "      <td>R</td>\n",
       "    </tr>\n",
       "    <tr>\n",
       "      <th>4</th>\n",
       "      <td>PG-13</td>\n",
       "    </tr>\n",
       "  </tbody>\n",
       "</table>\n",
       "</div>"
      ],
      "text/plain": [
       "  Certificate\n",
       "0       PG-13\n",
       "1          PG\n",
       "2           R\n",
       "3           R\n",
       "4       PG-13"
      ]
     },
     "execution_count": 25,
     "metadata": {},
     "output_type": "execute_result"
    }
   ],
   "source": [
    "cat_temp_data = data[['Certificate']]\n",
    "cat_temp_data.head()"
   ]
  },
  {
   "cell_type": "code",
   "execution_count": 26,
   "id": "b8f7dfb1",
   "metadata": {},
   "outputs": [
    {
     "data": {
      "text/plain": [
       "array(['PG-13', 'PG', 'R', 'TV-14', 'TV-MA', 'TV-PG', 'TV-Y7',\n",
       "       'Not Rated', nan, 'NC-17', 'TV-G', 'Unrated', 'G'], dtype=object)"
      ]
     },
     "execution_count": 26,
     "metadata": {},
     "output_type": "execute_result"
    }
   ],
   "source": [
    "cat_temp_data['Certificate'].unique()"
   ]
  },
  {
   "cell_type": "code",
   "execution_count": 27,
   "id": "c4ce62a3",
   "metadata": {},
   "outputs": [
    {
     "data": {
      "text/plain": [
       "(34, 1)"
      ]
     },
     "execution_count": 27,
     "metadata": {},
     "output_type": "execute_result"
    }
   ],
   "source": [
    "cat_temp_data[cat_temp_data['Certificate'].isnull()].shape"
   ]
  },
  {
   "cell_type": "code",
   "execution_count": 28,
   "id": "237443dc",
   "metadata": {},
   "outputs": [
    {
     "data": {
      "text/plain": [
       "array([['PG-13'],\n",
       "       ['PG'],\n",
       "       ['R'],\n",
       "       ...,\n",
       "       ['R'],\n",
       "       ['R'],\n",
       "       ['R']], dtype=object)"
      ]
     },
     "execution_count": 28,
     "metadata": {},
     "output_type": "execute_result"
    }
   ],
   "source": [
    "# Импьютация константой\n",
    "imp = SimpleImputer(missing_values=np.nan, strategy='constant', fill_value='NA')\n",
    "data_imp = imp.fit_transform(cat_temp_data)\n",
    "data_imp"
   ]
  },
  {
   "cell_type": "code",
   "execution_count": 29,
   "id": "48c23ac3",
   "metadata": {},
   "outputs": [
    {
     "data": {
      "text/plain": [
       "array(['G', 'NA', 'NC-17', 'Not Rated', 'PG', 'PG-13', 'R', 'TV-14',\n",
       "       'TV-G', 'TV-MA', 'TV-PG', 'TV-Y7', 'Unrated'], dtype=object)"
      ]
     },
     "execution_count": 29,
     "metadata": {},
     "output_type": "execute_result"
    }
   ],
   "source": [
    "np.unique(data_imp)"
   ]
  },
  {
   "cell_type": "code",
   "execution_count": 30,
   "id": "f521263b",
   "metadata": {},
   "outputs": [
    {
     "data": {
      "text/plain": [
       "34"
      ]
     },
     "execution_count": 30,
     "metadata": {},
     "output_type": "execute_result"
    }
   ],
   "source": [
    "data_imp[data_imp=='NA'].size"
   ]
  },
  {
   "cell_type": "markdown",
   "id": "02678957",
   "metadata": {},
   "source": [
    "### Преобразование категориальных признаков в числовые"
   ]
  },
  {
   "cell_type": "markdown",
   "id": "09d1fa79",
   "metadata": {},
   "source": [
    "Используем OrdinalEncoder, который ориентирован на применение к матрице объект-признак, то есть для кодирования матрицы нецелевых признаков."
   ]
  },
  {
   "cell_type": "code",
   "execution_count": 31,
   "id": "49f011f1",
   "metadata": {},
   "outputs": [],
   "source": [
    "from sklearn.preprocessing import OrdinalEncoder"
   ]
  },
  {
   "cell_type": "code",
   "execution_count": 32,
   "id": "3de43482",
   "metadata": {},
   "outputs": [
    {
     "data": {
      "text/html": [
       "<div>\n",
       "<style scoped>\n",
       "    .dataframe tbody tr th:only-of-type {\n",
       "        vertical-align: middle;\n",
       "    }\n",
       "\n",
       "    .dataframe tbody tr th {\n",
       "        vertical-align: top;\n",
       "    }\n",
       "\n",
       "    .dataframe thead th {\n",
       "        text-align: right;\n",
       "    }\n",
       "</style>\n",
       "<table border=\"1\" class=\"dataframe\">\n",
       "  <thead>\n",
       "    <tr style=\"text-align: right;\">\n",
       "      <th></th>\n",
       "      <th>Title</th>\n",
       "      <th>Month</th>\n",
       "      <th>Certificate</th>\n",
       "      <th>Directors</th>\n",
       "      <th>Stars</th>\n",
       "      <th>Genre</th>\n",
       "      <th>Filming_location</th>\n",
       "      <th>Country_of_origin</th>\n",
       "    </tr>\n",
       "  </thead>\n",
       "  <tbody>\n",
       "    <tr>\n",
       "      <th>0</th>\n",
       "      <td>Avatar: The Way of Water</td>\n",
       "      <td>December</td>\n",
       "      <td>PG-13</td>\n",
       "      <td>James Cameron</td>\n",
       "      <td>Sam Worthington, Zoe Saldana, Sigourney Weaver...</td>\n",
       "      <td>Action, Adventure, Fantasy</td>\n",
       "      <td>New Zealand</td>\n",
       "      <td>United States</td>\n",
       "    </tr>\n",
       "    <tr>\n",
       "      <th>1</th>\n",
       "      <td>Guillermo del Toro's Pinocchio</td>\n",
       "      <td>December</td>\n",
       "      <td>PG</td>\n",
       "      <td>Guillermo del Toro, Mark Gustafson</td>\n",
       "      <td>Ewan McGregor, David Bradley, Gregory Mann, Bu...</td>\n",
       "      <td>Animation, Drama, Family</td>\n",
       "      <td>USA</td>\n",
       "      <td>United States, Mexico, France</td>\n",
       "    </tr>\n",
       "    <tr>\n",
       "      <th>2</th>\n",
       "      <td>Bullet Train</td>\n",
       "      <td>August</td>\n",
       "      <td>R</td>\n",
       "      <td>David Leitch</td>\n",
       "      <td>Brad Pitt, Joey King, Aaron Taylor Johnson, Br...</td>\n",
       "      <td>Action, Comedy, Thriller</td>\n",
       "      <td>Japan</td>\n",
       "      <td>Japan, United States</td>\n",
       "    </tr>\n",
       "    <tr>\n",
       "      <th>3</th>\n",
       "      <td>The Banshees of Inisherin</td>\n",
       "      <td>November</td>\n",
       "      <td>R</td>\n",
       "      <td>Martin McDonagh</td>\n",
       "      <td>Colin Farrell, Brendan Gleeson, Kerry Condon, ...</td>\n",
       "      <td>Comedy, Drama</td>\n",
       "      <td>Ireland</td>\n",
       "      <td>Ireland, United Kingdom, United States</td>\n",
       "    </tr>\n",
       "    <tr>\n",
       "      <th>4</th>\n",
       "      <td>M3gan</td>\n",
       "      <td>December</td>\n",
       "      <td>PG-13</td>\n",
       "      <td>Gerard Johnstone</td>\n",
       "      <td>Jenna Davis, Amie Donald, Allison Williams, Vi...</td>\n",
       "      <td>Horror, Sci-Fi, Thriller</td>\n",
       "      <td>New Zealand</td>\n",
       "      <td>United States</td>\n",
       "    </tr>\n",
       "  </tbody>\n",
       "</table>\n",
       "</div>"
      ],
      "text/plain": [
       "                            Title     Month Certificate  \\\n",
       "0        Avatar: The Way of Water  December       PG-13   \n",
       "1  Guillermo del Toro's Pinocchio  December          PG   \n",
       "2                    Bullet Train    August           R   \n",
       "3       The Banshees of Inisherin  November           R   \n",
       "4                           M3gan  December       PG-13   \n",
       "\n",
       "                            Directors  \\\n",
       "0                       James Cameron   \n",
       "1  Guillermo del Toro, Mark Gustafson   \n",
       "2                        David Leitch   \n",
       "3                     Martin McDonagh   \n",
       "4                    Gerard Johnstone   \n",
       "\n",
       "                                               Stars  \\\n",
       "0  Sam Worthington, Zoe Saldana, Sigourney Weaver...   \n",
       "1  Ewan McGregor, David Bradley, Gregory Mann, Bu...   \n",
       "2  Brad Pitt, Joey King, Aaron Taylor Johnson, Br...   \n",
       "3  Colin Farrell, Brendan Gleeson, Kerry Condon, ...   \n",
       "4  Jenna Davis, Amie Donald, Allison Williams, Vi...   \n",
       "\n",
       "                        Genre Filming_location  \\\n",
       "0  Action, Adventure, Fantasy      New Zealand   \n",
       "1    Animation, Drama, Family              USA   \n",
       "2    Action, Comedy, Thriller            Japan   \n",
       "3               Comedy, Drama          Ireland   \n",
       "4    Horror, Sci-Fi, Thriller      New Zealand   \n",
       "\n",
       "                        Country_of_origin  \n",
       "0                           United States  \n",
       "1           United States, Mexico, France  \n",
       "2                    Japan, United States  \n",
       "3  Ireland, United Kingdom, United States  \n",
       "4                           United States  "
      ]
     },
     "execution_count": 32,
     "metadata": {},
     "output_type": "execute_result"
    }
   ],
   "source": [
    "data_oe = data[['Title', 'Month', 'Certificate', 'Directors', 'Stars', 'Genre', 'Filming_location', 'Country_of_origin']]\n",
    "data_oe.head()"
   ]
  },
  {
   "cell_type": "code",
   "execution_count": 33,
   "id": "d2ebd409",
   "metadata": {},
   "outputs": [
    {
     "data": {
      "text/plain": [
       "array(['Avatar: The Way of Water', \"Guillermo del Toro's Pinocchio\",\n",
       "       'Bullet Train', ..., 'Gothika', 'Ong-Bak: The Thai Warrior',\n",
       "       'Open Water'], dtype=object)"
      ]
     },
     "execution_count": 33,
     "metadata": {},
     "output_type": "execute_result"
    }
   ],
   "source": [
    "data_oe['Title'].unique()"
   ]
  },
  {
   "cell_type": "code",
   "execution_count": 34,
   "id": "3115ef64",
   "metadata": {},
   "outputs": [
    {
     "data": {
      "text/plain": [
       "array([['Avatar: The Way of Water', 'December', 'PG-13', ...,\n",
       "        'Action, Adventure, Fantasy', 'New Zealand', 'United States'],\n",
       "       [\"Guillermo del Toro's Pinocchio\", 'December', 'PG', ...,\n",
       "        'Animation, Drama, Family', 'USA',\n",
       "        'United States, Mexico, France'],\n",
       "       ['Bullet Train', 'August', 'R', ..., 'Action, Comedy, Thriller',\n",
       "        'Japan', 'Japan, United States'],\n",
       "       ...,\n",
       "       ['Gothika', 'November', 'R', ..., 'Horror, Mystery, Thriller',\n",
       "        'Canada', 'United States, France, Canada, Spain'],\n",
       "       ['Ong-Bak: The Thai Warrior', 'February', 'R', ...,\n",
       "        'Action, Crime, Thriller', 'Thailand',\n",
       "        'Thailand, France, Hong Kong'],\n",
       "       ['Open Water', 'August', 'R', ..., 'Adventure, Drama, Horror',\n",
       "        'Bahamas', 'United States']], dtype=object)"
      ]
     },
     "execution_count": 34,
     "metadata": {},
     "output_type": "execute_result"
    }
   ],
   "source": [
    "imp2 = SimpleImputer(missing_values=np.nan, strategy='constant', fill_value='NA')\n",
    "data_oe_filled = imp2.fit_transform(data_oe)\n",
    "data_oe_filled"
   ]
  },
  {
   "cell_type": "code",
   "execution_count": 35,
   "id": "3ad8f3ec",
   "metadata": {},
   "outputs": [
    {
     "data": {
      "text/plain": [
       "array([[ 151.,    4.,    5., ...,    7.,   56.,  245.],\n",
       "       [ 597.,    4.,    4., ...,   98.,   87.,  355.],\n",
       "       [ 249.,    3.,    6., ...,   25.,   41.,  121.],\n",
       "       ...,\n",
       "       [ 580.,   11.,    6., ...,  233.,   11.,  293.],\n",
       "       [1034.,    5.,    6., ...,   33.,   83.,  172.],\n",
       "       [1039.,    3.,    6., ...,   74.,    4.,  245.]])"
      ]
     },
     "execution_count": 35,
     "metadata": {},
     "output_type": "execute_result"
    }
   ],
   "source": [
    "oe = OrdinalEncoder()\n",
    "cat_enc_oe = oe.fit_transform(data_oe_filled)\n",
    "cat_enc_oe"
   ]
  },
  {
   "cell_type": "code",
   "execution_count": 36,
   "id": "f215fa5c",
   "metadata": {},
   "outputs": [
    {
     "data": {
      "text/plain": [
       "array([0.000e+00, 1.000e+00, 2.000e+00, ..., 1.986e+03, 1.987e+03,\n",
       "       1.988e+03])"
      ]
     },
     "execution_count": 36,
     "metadata": {},
     "output_type": "execute_result"
    }
   ],
   "source": [
    "# Уникальные значения 1 признака\n",
    "np.unique(cat_enc_oe[:, 0])"
   ]
  },
  {
   "cell_type": "code",
   "execution_count": 37,
   "id": "a14f79c9",
   "metadata": {},
   "outputs": [
    {
     "data": {
      "text/plain": [
       "array([ 0.,  1.,  2.,  3.,  4.,  5.,  6.,  7.,  8.,  9., 10., 11., 12.,\n",
       "       13.])"
      ]
     },
     "execution_count": 37,
     "metadata": {},
     "output_type": "execute_result"
    }
   ],
   "source": [
    "# Уникальные значения 2 признака\n",
    "np.unique(cat_enc_oe[:, 1])"
   ]
  },
  {
   "cell_type": "code",
   "execution_count": 38,
   "id": "42a38869",
   "metadata": {},
   "outputs": [
    {
     "data": {
      "text/plain": [
       "array([ 0.,  1.,  2.,  3.,  4.,  5.,  6.,  7.,  8.,  9., 10., 11., 12.])"
      ]
     },
     "execution_count": 38,
     "metadata": {},
     "output_type": "execute_result"
    }
   ],
   "source": [
    "# Уникальные значения 3 признака\n",
    "np.unique(cat_enc_oe[:, 2])"
   ]
  },
  {
   "cell_type": "code",
   "execution_count": 39,
   "id": "b21b24f4",
   "metadata": {},
   "outputs": [
    {
     "data": {
      "text/plain": [
       "[array([\"'71\", '10 Cloverfield Lane', '10,000 BC', ..., 'Zootopia',\n",
       "        'tick, tick... BOOM!', 'Æon Flux'], dtype=object),\n",
       " array(['2008', '2014', 'April', 'August', 'December', 'February',\n",
       "        'January', 'July', 'June', 'March', 'May', 'November', 'October',\n",
       "        'September'], dtype=object),\n",
       " array(['G', 'NA', 'NC-17', 'Not Rated', 'PG', 'PG-13', 'R', 'TV-14',\n",
       "        'TV-G', 'TV-MA', 'TV-PG', 'TV-Y7', 'Unrated'], dtype=object),\n",
       " array(['Aamir Khan, Amole Gupte', 'Aaron Blaise, Robert Walker',\n",
       "        'Aaron Hann, Mario Miscione', ..., 'Zach Cregger', 'Zack Snyder',\n",
       "        'Zak Hilditch'], dtype=object),\n",
       " array(['A J Cook, Ali Larter, Tony Todd, Michael Landes',\n",
       "        'Aamir Khan, Madhavan, Mona Singh, Sharman Joshi',\n",
       "        'Aaron Eckhart, Hilary Swank, Delroy Lindo, Bruce Greenwood', ...,\n",
       "        'Zoey Deutch, Kendrick Sampson, Ray Nicholson, Shay Mitchell',\n",
       "        'Zoey Deutch, Lucy Fry, Danila Kozlovskiy, Gabriel Byrne',\n",
       "        'Zooey Deschanel, Joseph Gordon Levitt, Geoffrey Arend, Chlo Grace Moretz'],\n",
       "       dtype=object),\n",
       " array(['Action', 'Action, Adventure', 'Action, Adventure, Biography',\n",
       "        'Action, Adventure, Comedy', 'Action, Adventure, Crime',\n",
       "        'Action, Adventure, Drama', 'Action, Adventure, Family',\n",
       "        'Action, Adventure, Fantasy', 'Action, Adventure, Horror',\n",
       "        'Action, Adventure, Mystery', 'Action, Adventure, Romance',\n",
       "        'Action, Adventure, Sci-Fi', 'Action, Adventure, Thriller',\n",
       "        'Action, Adventure, Western', 'Action, Biography, Crime',\n",
       "        'Action, Biography, Drama', 'Action, Comedy',\n",
       "        'Action, Comedy, Crime', 'Action, Comedy, Drama',\n",
       "        'Action, Comedy, Family', 'Action, Comedy, Fantasy',\n",
       "        'Action, Comedy, Horror', 'Action, Comedy, Mystery',\n",
       "        'Action, Comedy, Romance', 'Action, Comedy, Sci-Fi',\n",
       "        'Action, Comedy, Thriller', 'Action, Comedy, War', 'Action, Crime',\n",
       "        'Action, Crime, Drama', 'Action, Crime, Fantasy',\n",
       "        'Action, Crime, Horror', 'Action, Crime, Mystery',\n",
       "        'Action, Crime, Sci-Fi', 'Action, Crime, Thriller',\n",
       "        'Action, Drama', 'Action, Drama, Family', 'Action, Drama, Fantasy',\n",
       "        'Action, Drama, History', 'Action, Drama, Horror',\n",
       "        'Action, Drama, Mystery', 'Action, Drama, Romance',\n",
       "        'Action, Drama, Sci-Fi', 'Action, Drama, Sport',\n",
       "        'Action, Drama, Thriller', 'Action, Drama, War',\n",
       "        'Action, Drama, Western', 'Action, Fantasy, Horror',\n",
       "        'Action, Fantasy, Sci-Fi', 'Action, Fantasy, Thriller',\n",
       "        'Action, Horror', 'Action, Horror, Mystery',\n",
       "        'Action, Horror, Sci-Fi', 'Action, Horror, Thriller',\n",
       "        'Action, Horror, War', 'Action, Mystery, Sci-Fi',\n",
       "        'Action, Mystery, Thriller', 'Action, Sci-Fi',\n",
       "        'Action, Sci-Fi, Thriller', 'Action, Thriller',\n",
       "        'Adventure, Biography, Crime', 'Adventure, Biography, Drama',\n",
       "        'Adventure, Comedy', 'Adventure, Comedy, Crime',\n",
       "        'Adventure, Comedy, Drama', 'Adventure, Comedy, Family',\n",
       "        'Adventure, Comedy, Fantasy', 'Adventure, Comedy, Music',\n",
       "        'Adventure, Comedy, Mystery', 'Adventure, Comedy, Romance',\n",
       "        'Adventure, Comedy, Sci-Fi', 'Adventure, Drama',\n",
       "        'Adventure, Drama, Family', 'Adventure, Drama, Fantasy',\n",
       "        'Adventure, Drama, History', 'Adventure, Drama, Horror',\n",
       "        'Adventure, Drama, Mystery', 'Adventure, Drama, Romance',\n",
       "        'Adventure, Drama, Sci-Fi', 'Adventure, Drama, Thriller',\n",
       "        'Adventure, Drama, War', 'Adventure, Family, Fantasy',\n",
       "        'Adventure, Fantasy', 'Adventure, Fantasy, Horror',\n",
       "        'Adventure, Horror', 'Adventure, Horror, Mystery',\n",
       "        'Adventure, Horror, Sci-Fi', 'Adventure, Horror, Thriller',\n",
       "        'Adventure, Mystery, Sci-Fi', 'Adventure, Sci-Fi, Thriller',\n",
       "        'Adventure, Thriller, Western', 'Animation, Action, Adventure',\n",
       "        'Animation, Action, Comedy', 'Animation, Adventure, Comedy',\n",
       "        'Animation, Adventure, Drama', 'Animation, Adventure, Family',\n",
       "        'Animation, Comedy, Drama', 'Animation, Comedy, Family',\n",
       "        'Animation, Drama', 'Animation, Drama, Family',\n",
       "        'Animation, Drama, Fantasy', 'Animation, Fantasy, Horror',\n",
       "        'Biography, Comedy, Crime', 'Biography, Comedy, Drama',\n",
       "        'Biography, Comedy, Music', 'Biography, Crime, Drama',\n",
       "        'Biography, Drama', 'Biography, Drama, Family',\n",
       "        'Biography, Drama, History', 'Biography, Drama, Music',\n",
       "        'Biography, Drama, Musical', 'Biography, Drama, Romance',\n",
       "        'Biography, Drama, Sport', 'Biography, Drama, Thriller',\n",
       "        'Biography, Drama, War', 'Comedy', 'Comedy, Crime',\n",
       "        'Comedy, Crime, Drama', 'Comedy, Crime, Family',\n",
       "        'Comedy, Crime, Mystery', 'Comedy, Crime, Romance',\n",
       "        'Comedy, Crime, Sport', 'Comedy, Crime, Thriller',\n",
       "        'Comedy, Crime, Western', 'Comedy, Drama', 'Comedy, Drama, Family',\n",
       "        'Comedy, Drama, Fantasy', 'Comedy, Drama, History',\n",
       "        'Comedy, Drama, Horror', 'Comedy, Drama, Music',\n",
       "        'Comedy, Drama, Musical', 'Comedy, Drama, Mystery',\n",
       "        'Comedy, Drama, Romance', 'Comedy, Drama, Sci-Fi',\n",
       "        'Comedy, Drama, Sport', 'Comedy, Drama, Thriller',\n",
       "        'Comedy, Drama, War', 'Comedy, Family', 'Comedy, Family, Fantasy',\n",
       "        'Comedy, Family, Musical', 'Comedy, Family, Romance',\n",
       "        'Comedy, Family, Sport', 'Comedy, Fantasy',\n",
       "        'Comedy, Fantasy, Horror', 'Comedy, Fantasy, Music',\n",
       "        'Comedy, Fantasy, Mystery', 'Comedy, Fantasy, Romance',\n",
       "        'Comedy, Horror', 'Comedy, Horror, Musical',\n",
       "        'Comedy, Horror, Mystery', 'Comedy, Horror, Romance',\n",
       "        'Comedy, Horror, Sci-Fi', 'Comedy, Horror, Thriller',\n",
       "        'Comedy, Music', 'Comedy, Music, Romance', 'Comedy, Musical',\n",
       "        'Comedy, Musical, Romance', 'Comedy, Mystery', 'Comedy, Romance',\n",
       "        'Comedy, Romance, Sci-Fi', 'Comedy, Romance, Sport',\n",
       "        'Comedy, Sci-Fi', 'Comedy, Sport', 'Comedy, Western',\n",
       "        'Crime, Drama', 'Crime, Drama, Fantasy', 'Crime, Drama, History',\n",
       "        'Crime, Drama, Horror', 'Crime, Drama, Music',\n",
       "        'Crime, Drama, Musical', 'Crime, Drama, Mystery',\n",
       "        'Crime, Drama, Romance', 'Crime, Drama, Sport',\n",
       "        'Crime, Drama, Thriller', 'Crime, Horror',\n",
       "        'Crime, Horror, Mystery', 'Crime, Horror, Thriller',\n",
       "        'Crime, Horror, Western', 'Crime, Mystery, Thriller',\n",
       "        'Crime, Thriller', 'Drama', 'Drama, Family',\n",
       "        'Drama, Family, Fantasy', 'Drama, Fantasy',\n",
       "        'Drama, Fantasy, History', 'Drama, Fantasy, Horror',\n",
       "        'Drama, Fantasy, Mystery', 'Drama, Fantasy, Romance',\n",
       "        'Drama, Fantasy, Sci-Fi', 'Drama, Fantasy, Thriller',\n",
       "        'Drama, Fantasy, War', 'Drama, History', 'Drama, History, Music',\n",
       "        'Drama, History, Romance', 'Drama, History, Thriller',\n",
       "        'Drama, History, War', 'Drama, Horror', 'Drama, Horror, Music',\n",
       "        'Drama, Horror, Musical', 'Drama, Horror, Mystery',\n",
       "        'Drama, Horror, Romance', 'Drama, Horror, Sci-Fi',\n",
       "        'Drama, Horror, Thriller', 'Drama, Horror, Western',\n",
       "        'Drama, Music', 'Drama, Music, Musical', 'Drama, Music, Romance',\n",
       "        'Drama, Music, Thriller', 'Drama, Musical, Romance',\n",
       "        'Drama, Mystery', 'Drama, Mystery, Romance',\n",
       "        'Drama, Mystery, Sci-Fi', 'Drama, Mystery, Thriller',\n",
       "        'Drama, Romance', 'Drama, Romance, Sci-Fi',\n",
       "        'Drama, Romance, Sport', 'Drama, Romance, Thriller',\n",
       "        'Drama, Romance, War', 'Drama, Romance, Western', 'Drama, Sci-Fi',\n",
       "        'Drama, Sci-Fi, Thriller', 'Drama, Sport', 'Drama, Thriller',\n",
       "        'Drama, Thriller, War', 'Drama, War', 'Drama, Western',\n",
       "        'Family, Fantasy, Musical', 'Fantasy, Horror, Mystery',\n",
       "        'Fantasy, Horror, Thriller', 'Fantasy, Mystery, Sci-Fi', 'Horror',\n",
       "        'Horror, Musical, Sci-Fi', 'Horror, Mystery',\n",
       "        'Horror, Mystery, Sci-Fi', 'Horror, Mystery, Thriller',\n",
       "        'Horror, Romance, Thriller', 'Horror, Sci-Fi',\n",
       "        'Horror, Sci-Fi, Thriller', 'Horror, Thriller', 'Mystery',\n",
       "        'Mystery, Thriller', 'Romance, Drama, Family',\n",
       "        'Romance, Sci-Fi, Thriller', 'Sci-Fi, Thriller', 'Thriller'],\n",
       "       dtype=object),\n",
       " array(['Arctic Ocean', 'Argentina', 'Australia', 'Austria', 'Bahamas',\n",
       "        'Bangladesh', 'Belgium', 'Bolivia', 'Brazil', 'Bulgaria',\n",
       "        'California USA', 'Canada', 'Chile', 'China', 'Colombia',\n",
       "        'Costa Rica', 'Croatia', 'Czech Republic', 'Denmark',\n",
       "        'Dominican Republic', 'Ecuador', 'Egypt', 'Estonia', 'Fiji',\n",
       "        'Finland', 'France', 'French Polynesia', 'Gabon', 'Georgia',\n",
       "        'Germany', 'Greece', 'Guam', 'Guatemala', 'Hungary', 'Iceland',\n",
       "        'India', 'Indonesia', 'Iran', 'Ireland', 'Israel', 'Italy',\n",
       "        'Japan', 'Jordan', 'Kenya', 'Lebanon', 'Lithuania', 'Luxembourg',\n",
       "        'Malaysia', 'Malta', 'Mexico', 'Michigan USA', 'Monaco', 'Morocco',\n",
       "        'Namibia', 'Nepal', 'Netherlands', 'New Zealand', 'Norge',\n",
       "        'Northern Ireland', 'Norway', 'Official Facebook', 'Ontario',\n",
       "        'Panama', 'Peru', 'Poland', 'Polynesia', 'Puerto Rico', 'Romania',\n",
       "        'Russia', 'Rwanda', 'Saudi Arabia', 'Serbia', 'Singapore',\n",
       "        'Slovakia', 'Slovenia', 'South Africa', 'South Korea', 'Space',\n",
       "        'Spain', 'St Vincent and the Grenadines', 'Sweden', 'Switzerland',\n",
       "        'Taiwan', 'Thailand', 'The Netherlands', 'Turkey', 'UK', 'USA',\n",
       "        'Uganda', 'Ukraine', 'United Arab Emirates', 'United Kingdom',\n",
       "        'Unknown', 'Uruguay', 'Vatican City', 'Venezuela', 'Vietnam'],\n",
       "       dtype=object),\n",
       " array(['Argentina, Spain', 'Argentina, Spain, France, United Kingdom',\n",
       "        'Australia', 'Australia, Canada', 'Australia, France',\n",
       "        'Australia, United Kingdom, United States, India',\n",
       "        'Australia, United States',\n",
       "        'Australia, United States, United Kingdom',\n",
       "        'Australia, United States, United Kingdom, China', 'Austria',\n",
       "        'Austria, Luxembourg, Germany, France', 'Belgium',\n",
       "        'Belgium, France',\n",
       "        'Belgium, Germany, Canada, France, United Kingdom, Luxembourg, United States',\n",
       "        'Canada', 'Canada, France', 'Canada, France, United States',\n",
       "        'Canada, Germany', 'Canada, Hungary, United States',\n",
       "        'Canada, Spain, France', 'Canada, Spain, Mexico',\n",
       "        'Canada, United Arab Emirates, United States',\n",
       "        'Canada, United Kingdom', 'Canada, United States',\n",
       "        'Canada, United States, Australia',\n",
       "        'Canada, United States, United Kingdom',\n",
       "        'Chile, Israel, United States',\n",
       "        'China, Germany, United States, Austria, Italy, Canada',\n",
       "        'China, Hong Kong', 'China, United States',\n",
       "        'China, United States, Canada, Japan',\n",
       "        'Czech Republic, United Kingdom, Germany, Canada, United States',\n",
       "        'Czech Republic, United Kingdom, Germany, United States',\n",
       "        'Denmark, France, Sweden, Germany, Belgium, Tunisia',\n",
       "        'Denmark, France, United States, Sweden, Belgium',\n",
       "        'Denmark, Germany, Belgium, United Kingdom, France, Sweden',\n",
       "        'Denmark, Germany, Belgium, United Kingdom, France, Sweden, United States',\n",
       "        'Denmark, Germany, France, Sweden, Italy, Poland',\n",
       "        'Denmark, Netherlands, Sweden, Germany, United Kingdom, France, Finland, Norway, Italy',\n",
       "        'Denmark, Sweden', 'Denmark, Sweden, Czech Republic, Germany',\n",
       "        'Denmark, Sweden, Finland', 'Denmark, Sweden, France, Germany',\n",
       "        'Denmark, Sweden, Netherlands', 'Finland, Norway, France, Sweden',\n",
       "        'France', 'France, Belgium', 'France, Belgium, Netherlands',\n",
       "        'France, Belgium, Spain', 'France, Belgium, United States',\n",
       "        'France, Canada', 'France, Canada, United Kingdom',\n",
       "        'France, Canada, United States',\n",
       "        'France, China, Belgium, Germany, United Arab Emirates, United States, Canada',\n",
       "        'France, Germany, Bulgaria, United States',\n",
       "        'France, Germany, Italy, Canada, Japan',\n",
       "        'France, Germany, Taiwan, Canada, United States, United Kingdom',\n",
       "        'France, Germany, United Kingdom',\n",
       "        'France, Germany, United Kingdom, Belgium, Romania, Japan',\n",
       "        'France, Germany, United States', 'France, Japan, United States',\n",
       "        'France, Poland, United States', 'France, Spain, United States',\n",
       "        'France, United Kingdom', 'France, United Kingdom, Czech Republic',\n",
       "        'France, United Kingdom, Germany, Poland, United States',\n",
       "        'France, United Kingdom, United States', 'France, United States',\n",
       "        'France, United States, Canada, Russia',\n",
       "        'France, United States, Turkey, United Kingdom',\n",
       "        'France, United States, United Kingdom', 'Germany',\n",
       "        'Germany, Austria, Italy', 'Germany, Canada, United States',\n",
       "        'Germany, France',\n",
       "        'Germany, France, Spain, United States, Belgium',\n",
       "        'Germany, India, United States',\n",
       "        'Germany, Luxembourg, United States', 'Germany, United Kingdom',\n",
       "        'Germany, United Kingdom, Canada, Sweden, United States',\n",
       "        'Germany, United Kingdom, United States',\n",
       "        'Germany, United Kingdom, United States, Canada, France',\n",
       "        'Germany, United Kingdom, United States, Italy',\n",
       "        'Germany, United States', 'Germany, United States, Australia',\n",
       "        'Germany, United States, Canada',\n",
       "        'Germany, United States, Japan, China, South Africa, Canada',\n",
       "        'Germany, United States, Mexico, Canada',\n",
       "        'Germany, United States, United Kingdom',\n",
       "        'Germany, United States, Uruguay, Paraguay', 'Greece',\n",
       "        'Greece, Germany', 'Hong Kong, China',\n",
       "        'Hong Kong, China, France, Italy, Germany',\n",
       "        'Hong Kong, China, United States',\n",
       "        'Hong Kong, Taiwan, United States', 'Hong Kong, United States',\n",
       "        'India', 'India, Sweden', 'India, United States', 'Indonesia',\n",
       "        'Indonesia, France, United States', 'Iran, France, Australia',\n",
       "        'Ireland', 'Ireland, Belgium, Denmark', 'Ireland, Canada',\n",
       "        'Ireland, Canada, United Kingdom, United States',\n",
       "        'Ireland, United Kingdom',\n",
       "        'Ireland, United Kingdom, Greece, France, Netherlands, United States',\n",
       "        'Ireland, United Kingdom, United States', 'Ireland, United States',\n",
       "        'Italy', 'Italy, France', 'Italy, France, United Kingdom',\n",
       "        'Italy, France, United Kingdom, Switzerland',\n",
       "        'Italy, France, United States',\n",
       "        'Italy, France, United States, Brazil',\n",
       "        'Italy, United Kingdom, France, Luxembourg',\n",
       "        'Italy, United States', 'Japan', 'Japan, Canada, United States',\n",
       "        'Japan, United States', 'Japan, United States, France',\n",
       "        'Jordan, Saudi Arabia, Sweden',\n",
       "        'Lebanon, France, Cyprus, Qatar, United Kingdom', 'Mexico',\n",
       "        'Mexico, Spain', 'Mexico, United States', 'Netherlands',\n",
       "        'Netherlands, Belgium',\n",
       "        'Netherlands, France, Germany, Belgium, Sweden, United Kingdom, United States',\n",
       "        'Netherlands, Germany, United Kingdom, Belgium',\n",
       "        'Netherlands, United Kingdom, Finland, United States',\n",
       "        'New Zealand', 'New Zealand, Japan, United States',\n",
       "        'New Zealand, United Kingdom, Canada, Australia',\n",
       "        'New Zealand, United States',\n",
       "        'New Zealand, United States, Czech Republic', 'Norway',\n",
       "        'Norway, France, Sweden, Denmark', 'Norway, Sweden',\n",
       "        'Norway, Sweden, Denmark, Finland, France, United Kingdom',\n",
       "        'Poland', 'Russia', 'Russia, United States, China', 'Serbia',\n",
       "        'South Africa, United States, Japan',\n",
       "        'South Africa, United States, New Zealand, Canada', 'South Korea',\n",
       "        'South Korea, Czech Republic', 'South Korea, Japan',\n",
       "        'South Korea, United States', 'Spain', 'Spain, Colombia',\n",
       "        'Spain, France, United Kingdom, United States', 'Spain, Mexico',\n",
       "        'Spain, Thailand, United States',\n",
       "        'Spain, United Kingdom, France, United States',\n",
       "        'Spain, United Kingdom, United States', 'Spain, United States',\n",
       "        'Spain, United States, France', 'Sweden',\n",
       "        'Sweden, Denmark, Germany, Norway',\n",
       "        'Sweden, France, Norway, Denmark, Italy',\n",
       "        'Sweden, France, United Kingdom, Germany, Turkey, Greece, United States, Denmark, Switzerland, Mexico',\n",
       "        'Sweden, Germany, France, Denmark', 'Sweden, Netherlands, France',\n",
       "        'Sweden, United States', 'Switzerland, Canada, United States',\n",
       "        'Switzerland, United Kingdom, United States, Mexico', 'Taiwan',\n",
       "        'Taiwan, United States, Hong Kong, China',\n",
       "        'Thailand, France, Hong Kong', 'Turkey',\n",
       "        'United Arab Emirates, United States',\n",
       "        'United Arab Emirates, United States, France', 'United Kingdom',\n",
       "        'United Kingdom, Australia',\n",
       "        'United Kingdom, Australia, France, United States',\n",
       "        'United Kingdom, Australia, United States',\n",
       "        'United Kingdom, Belgium, United States', 'United Kingdom, Canada',\n",
       "        'United Kingdom, Canada, Ireland',\n",
       "        'United Kingdom, Canada, United States',\n",
       "        'United Kingdom, Canada, United States, Australia',\n",
       "        'United Kingdom, Canada, United States, Sweden',\n",
       "        'United Kingdom, China',\n",
       "        'United Kingdom, China, France, United States',\n",
       "        'United Kingdom, China, Japan, United States',\n",
       "        'United Kingdom, China, Japan, United States, Mexico',\n",
       "        'United Kingdom, China, United States',\n",
       "        'United Kingdom, Czech Republic, Germany, United States',\n",
       "        'United Kingdom, Czech Republic, United States, Germany, Bahamas',\n",
       "        'United Kingdom, Denmark', 'United Kingdom, France',\n",
       "        'United Kingdom, France, Canada',\n",
       "        'United Kingdom, France, Canada, United States',\n",
       "        'United Kingdom, France, Germany, Spain, United States',\n",
       "        'United Kingdom, France, Germany, United States',\n",
       "        'United Kingdom, France, Italy, Germany, Canada, United States',\n",
       "        'United Kingdom, France, United States',\n",
       "        'United Kingdom, France, United States, Belgium',\n",
       "        'United Kingdom, France, United States, Canada',\n",
       "        'United Kingdom, France, United States, China',\n",
       "        'United Kingdom, France, United States, China, Canada',\n",
       "        'United Kingdom, Germany',\n",
       "        'United Kingdom, Germany, Austria, United States',\n",
       "        'United Kingdom, Germany, Japan, United States',\n",
       "        'United Kingdom, Germany, Kenya, France, United States, Switzerland',\n",
       "        'United Kingdom, Germany, Spain, Morocco, United States, Italy, France',\n",
       "        'United Kingdom, Germany, Spain, United States',\n",
       "        'United Kingdom, Germany, Sweden, Belgium, United States',\n",
       "        'United Kingdom, Germany, United States',\n",
       "        'United Kingdom, Germany, United States, Chile',\n",
       "        'United Kingdom, Hungary, United States, Australia',\n",
       "        'United Kingdom, Ireland, United States',\n",
       "        'United Kingdom, Italy, France, United States',\n",
       "        'United Kingdom, Japan', 'United Kingdom, Luxembourg',\n",
       "        'United Kingdom, Luxembourg, France, Belgium, United States',\n",
       "        'United Kingdom, Malta, United States', 'United Kingdom, Mexico',\n",
       "        'United Kingdom, Mexico, Hong Kong, United States',\n",
       "        'United Kingdom, Netherlands, France, United States',\n",
       "        'United Kingdom, Norway, China, Canada, United States, France',\n",
       "        'United Kingdom, South Africa, India',\n",
       "        'United Kingdom, South Africa, Italy, United States',\n",
       "        'United Kingdom, Spain, United States',\n",
       "        'United Kingdom, Switzerland', 'United Kingdom, United States',\n",
       "        'United Kingdom, United States, Australia',\n",
       "        'United Kingdom, United States, Canada',\n",
       "        'United Kingdom, United States, Canada, Australia, Japan, China',\n",
       "        'United Kingdom, United States, China',\n",
       "        'United Kingdom, United States, France',\n",
       "        'United Kingdom, United States, France, Italy',\n",
       "        'United Kingdom, United States, Germany, Denmark, Belgium, Japan',\n",
       "        'United Kingdom, United States, Iceland',\n",
       "        'United Kingdom, United States, India, Spain',\n",
       "        'United Kingdom, United States, Japan',\n",
       "        'United Kingdom, United States, Japan, China, Croatia',\n",
       "        'United Kingdom, United States, Luxembourg',\n",
       "        'United Kingdom, United States, South Africa, Germany',\n",
       "        'United Kingdom, United States, Sweden, China',\n",
       "        'United Kingdom, United States, Turkey', 'United States',\n",
       "        'United States, Argentina', 'United States, Australia',\n",
       "        'United States, Australia, China',\n",
       "        'United States, Australia, China, Hong Kong',\n",
       "        'United States, Australia, France, Canada, Germany, Brazil, United Kingdom',\n",
       "        'United States, Australia, Germany, Japan',\n",
       "        'United States, Australia, Spain',\n",
       "        'United States, Australia, United Kingdom',\n",
       "        'United States, Australia, United Kingdom, Canada',\n",
       "        'United States, Belgium, Denmark, France', 'United States, Brazil',\n",
       "        'United States, Brazil, Canada', 'United States, Bulgaria',\n",
       "        'United States, Bulgaria, Germany, India',\n",
       "        'United States, Bulgaria, Spain, Germany', 'United States, Canada',\n",
       "        'United States, Canada, Bulgaria', 'United States, Canada, China',\n",
       "        'United States, Canada, France',\n",
       "        'United States, Canada, France, Germany',\n",
       "        'United States, Canada, Germany',\n",
       "        'United States, Canada, Germany, France',\n",
       "        'United States, Canada, Hong Kong',\n",
       "        'United States, Canada, Ireland', 'United States, Canada, Japan',\n",
       "        'United States, Canada, Japan, France',\n",
       "        'United States, Canada, Luxembourg',\n",
       "        'United States, Canada, New Zealand, Hungary',\n",
       "        'United States, Canada, United Kingdom', 'United States, China',\n",
       "        'United States, China, Brazil', 'United States, China, Canada',\n",
       "        'United States, China, France, Norway, United Kingdom',\n",
       "        'United States, China, Germany', 'United States, China, Hong Kong',\n",
       "        'United States, China, Hong Kong, Australia, Canada',\n",
       "        'United States, China, Japan',\n",
       "        'United States, China, Japan, Canada, United Arab Emirates',\n",
       "        'United States, China, Malta',\n",
       "        'United States, China, Spain, Japan, Germany',\n",
       "        'United States, China, United Kingdom',\n",
       "        'United States, Czech Republic',\n",
       "        'United States, Czech Republic, Romania, United Kingdom',\n",
       "        'United States, Czech Republic, Spain',\n",
       "        'United States, Czech Republic, United Kingdom',\n",
       "        'United States, Denmark, Australia', 'United States, France',\n",
       "        'United States, France, Canada, Spain',\n",
       "        'United States, France, Hong Kong',\n",
       "        'United States, France, Italy, United Kingdom',\n",
       "        'United States, France, Italy, United Kingdom, Germany',\n",
       "        'United States, France, Japan', 'United States, France, Morocco',\n",
       "        'United States, France, United Kingdom, Austria, Germany, Italy',\n",
       "        'United States, France, United Kingdom, Hong Kong, Taiwan, Malta, Spain, Canada',\n",
       "        'United States, Germany', 'United States, Germany, Australia',\n",
       "        'United States, Germany, Brazil, Italy',\n",
       "        'United States, Germany, Canada, France',\n",
       "        'United States, Germany, Canada, United Kingdom',\n",
       "        'United States, Germany, China',\n",
       "        'United States, Germany, China, Canada',\n",
       "        'United States, Germany, China, Italy',\n",
       "        'United States, Germany, Czech Republic, United Kingdom',\n",
       "        'United States, Germany, France',\n",
       "        'United States, Germany, France, Spain',\n",
       "        'United States, Germany, France, United Kingdom',\n",
       "        'United States, Germany, Hong Kong, Singapore, China',\n",
       "        'United States, Germany, Hungary',\n",
       "        'United States, Germany, Italy, Spain, France, Japan, United Kingdom',\n",
       "        'United States, Germany, Japan',\n",
       "        'United States, Germany, Japan, United Kingdom, Hong Kong',\n",
       "        'United States, Germany, Russia, India',\n",
       "        'United States, Germany, Sweden, Hungary',\n",
       "        'United States, Germany, United Kingdom',\n",
       "        'United States, Germany, United Kingdom, Australia',\n",
       "        'United States, Germany, United Kingdom, Canada',\n",
       "        'United States, Germany, United Kingdom, Italy',\n",
       "        'United States, Germany, United Kingdom, Netherlands',\n",
       "        'United States, Greece', 'United States, Hong Kong',\n",
       "        'United States, Hong Kong, Bulgaria, Netherlands, Canada, United Kingdom, France',\n",
       "        'United States, Hong Kong, Canada',\n",
       "        'United States, Hong Kong, China',\n",
       "        'United States, Hong Kong, France, Bulgaria, Spain, Sweden',\n",
       "        'United States, Hong Kong, Japan, Canada, New Zealand',\n",
       "        'United States, Hungary', 'United States, Iceland, Canada',\n",
       "        'United States, India',\n",
       "        'United States, India, Hong Kong, China, Canada',\n",
       "        'United States, Ireland', 'United States, Ireland, United Kingdom',\n",
       "        'United States, Italy', 'United States, Italy, Canada',\n",
       "        'United States, Italy, Hong Kong, Canada',\n",
       "        'United States, Italy, Romania, United Kingdom',\n",
       "        'United States, Italy, Switzerland, Thailand',\n",
       "        'United States, Japan', 'United States, Japan, Canada',\n",
       "        'United States, Japan, China', 'United States, Japan, Colombia',\n",
       "        'United States, Japan, Mexico',\n",
       "        'United States, Japan, South Korea, Philippines, United Arab Emirates, Canada',\n",
       "        'United States, Japan, Spain, United Kingdom',\n",
       "        'United States, Malta, France, United Kingdom',\n",
       "        'United States, Malta, Morocco',\n",
       "        'United States, Malta, United Kingdom', 'United States, Mexico',\n",
       "        'United States, Mexico, Canada', 'United States, Mexico, France',\n",
       "        'United States, Mexico, Hong Kong',\n",
       "        'United States, Mexico, Hungary, Canada',\n",
       "        'United States, Netherlands', 'United States, New Zealand',\n",
       "        'United States, New Zealand, Canada',\n",
       "        'United States, New Zealand, Germany',\n",
       "        'United States, New Zealand, Japan',\n",
       "        'United States, New Zealand, Japan, China',\n",
       "        'United States, New Zealand, United Kingdom, France, Australia',\n",
       "        'United States, Norway', 'United States, Poland',\n",
       "        'United States, Poland, Slovenia, Czech Republic, United Kingdom',\n",
       "        'United States, Romania', 'United States, Russia',\n",
       "        'United States, South Africa',\n",
       "        'United States, South Africa, Canada',\n",
       "        'United States, South Africa, France',\n",
       "        'United States, South Africa, India', 'United States, Spain',\n",
       "        'United States, Spain, France, Canada, United Kingdom',\n",
       "        'United States, Spain, Hungary', 'United States, Sweden',\n",
       "        'United States, Sweden, Norway', 'United States, Switzerland',\n",
       "        'United States, Taiwan, United Kingdom, Canada, India, France',\n",
       "        'United States, United Arab Emirates',\n",
       "        'United States, United Arab Emirates, Poland, India',\n",
       "        'United States, United Kingdom',\n",
       "        'United States, United Kingdom, Australia',\n",
       "        'United States, United Kingdom, Belgium, Canada',\n",
       "        'United States, United Kingdom, Bulgaria',\n",
       "        'United States, United Kingdom, Bulgaria, Canada, Portugal, France',\n",
       "        'United States, United Kingdom, Canada',\n",
       "        'United States, United Kingdom, Canada, Japan',\n",
       "        'United States, United Kingdom, Canada, Spain',\n",
       "        'United States, United Kingdom, China',\n",
       "        'United States, United Kingdom, France',\n",
       "        'United States, United Kingdom, Germany',\n",
       "        'United States, United Kingdom, Germany, Hungary',\n",
       "        'United States, United Kingdom, Germany, Netherlands, France, Italy',\n",
       "        'United States, United Kingdom, Hungary',\n",
       "        'United States, United Kingdom, Hungary, Jordan',\n",
       "        'United States, United Kingdom, India',\n",
       "        'United States, United Kingdom, Israel, Greece',\n",
       "        'United States, United Kingdom, Japan',\n",
       "        'United States, United Kingdom, Japan, Hungary',\n",
       "        'United States, United Kingdom, Luxembourg',\n",
       "        'United States, United Kingdom, Malta',\n",
       "        'United States, United Kingdom, New Zealand',\n",
       "        'United States, United Kingdom, Taiwan, Japan, Mexico'],\n",
       "       dtype=object)]"
      ]
     },
     "execution_count": 39,
     "metadata": {},
     "output_type": "execute_result"
    }
   ],
   "source": [
    "# Наименования категорий в соответствии с порядковыми номерами\n",
    "oe.categories_"
   ]
  },
  {
   "cell_type": "code",
   "execution_count": 40,
   "id": "1e6927f2",
   "metadata": {},
   "outputs": [
    {
     "data": {
      "text/plain": [
       "array([['Avatar: The Way of Water', 'December', 'PG-13', ...,\n",
       "        'Action, Adventure, Fantasy', 'New Zealand', 'United States'],\n",
       "       [\"Guillermo del Toro's Pinocchio\", 'December', 'PG', ...,\n",
       "        'Animation, Drama, Family', 'USA',\n",
       "        'United States, Mexico, France'],\n",
       "       ['Bullet Train', 'August', 'R', ..., 'Action, Comedy, Thriller',\n",
       "        'Japan', 'Japan, United States'],\n",
       "       ...,\n",
       "       ['Gothika', 'November', 'R', ..., 'Horror, Mystery, Thriller',\n",
       "        'Canada', 'United States, France, Canada, Spain'],\n",
       "       ['Ong-Bak: The Thai Warrior', 'February', 'R', ...,\n",
       "        'Action, Crime, Thriller', 'Thailand',\n",
       "        'Thailand, France, Hong Kong'],\n",
       "       ['Open Water', 'August', 'R', ..., 'Adventure, Drama, Horror',\n",
       "        'Bahamas', 'United States']], dtype=object)"
      ]
     },
     "execution_count": 40,
     "metadata": {},
     "output_type": "execute_result"
    }
   ],
   "source": [
    "# Обратное преобразование\n",
    "oe.inverse_transform(cat_enc_oe)"
   ]
  },
  {
   "cell_type": "markdown",
   "id": "c0be8800",
   "metadata": {},
   "source": [
    "## Масштабирование данных"
   ]
  },
  {
   "cell_type": "code",
   "execution_count": 41,
   "id": "7120b743",
   "metadata": {},
   "outputs": [],
   "source": [
    "from sklearn.preprocessing import MinMaxScaler, StandardScaler"
   ]
  },
  {
   "cell_type": "markdown",
   "id": "0923ce1c",
   "metadata": {},
   "source": [
    "### MinMax масштабирование"
   ]
  },
  {
   "cell_type": "code",
   "execution_count": 42,
   "id": "6cc77870",
   "metadata": {},
   "outputs": [],
   "source": [
    "sc1 = MinMaxScaler()\n",
    "sc1_data = sc1.fit_transform(data[['Runtime']])"
   ]
  },
  {
   "cell_type": "code",
   "execution_count": 43,
   "id": "e66f10d8",
   "metadata": {},
   "outputs": [
    {
     "data": {
      "image/png": "[encoded data removed]",
      "text/plain": [
       "<Figure size 640x480 with 1 Axes>"
      ]
     },
     "metadata": {},
     "output_type": "display_data"
    }
   ],
   "source": [
    "plt.hist(data['Runtime'], 50)\n",
    "plt.show()"
   ]
  },
  {
   "cell_type": "code",
   "execution_count": 44,
   "id": "df1cd464",
   "metadata": {},
   "outputs": [
    {
     "data": {
      "image/png": "[encoded data removed]",
      "text/plain": [
       "<Figure size 640x480 with 1 Axes>"
      ]
     },
     "metadata": {},
     "output_type": "display_data"
    }
   ],
   "source": [
    "plt.hist(sc1_data, 50)\n",
    "plt.show()"
   ]
  },
  {
   "cell_type": "markdown",
   "id": "c2fa5957",
   "metadata": {},
   "source": [
    "### Масштабирование данных на основе Z-оценки - StandardScaler"
   ]
  },
  {
   "cell_type": "code",
   "execution_count": 45,
   "id": "4e8cd500",
   "metadata": {},
   "outputs": [],
   "source": [
    "sc2 = StandardScaler()\n",
    "sc2_data = sc2.fit_transform(data[['Runtime']])"
   ]
  },
  {
   "cell_type": "code",
   "execution_count": 46,
   "id": "18146bed",
   "metadata": {},
   "outputs": [
    {
     "data": {
      "image/png": "[encoded data removed]",
      "text/plain": [
       "<Figure size 640x480 with 1 Axes>"
      ]
     },
     "metadata": {},
     "output_type": "display_data"
    }
   ],
   "source": [
    "plt.hist(sc2_data, 50)\n",
    "plt.show()"
   ]
  }
 ],
 "metadata": {
  "kernelspec": {
   "display_name": "Python 3 (ipykernel)",
   "language": "python",
   "name": "python3"
  },
  "language_info": {
   "codemirror_mode": {
    "name": "ipython",
    "version": 3
   },
   "file_extension": ".py",
   "mimetype": "text/x-python",
   "name": "python",
   "nbconvert_exporter": "python",
   "pygments_lexer": "ipython3",
   "version": "3.9.7"
  }
 },
 "nbformat": 4,
 "nbformat_minor": 5
}
